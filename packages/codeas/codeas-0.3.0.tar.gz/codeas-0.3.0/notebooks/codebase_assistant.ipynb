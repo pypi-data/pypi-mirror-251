{
 "cells": [
  {
   "cell_type": "code",
   "execution_count": null,
   "metadata": {},
   "outputs": [],
   "source": [
    "import os\n",
    "from dotenv import load_dotenv"
   ]
  },
  {
   "cell_type": "code",
   "execution_count": null,
   "metadata": {},
   "outputs": [],
   "source": [
    "load_dotenv()"
   ]
  },
  {
   "cell_type": "markdown",
   "metadata": {},
   "source": [
    "# Codeas x Tree Sitter"
   ]
  },
  {
   "cell_type": "code",
   "execution_count": null,
   "metadata": {},
   "outputs": [],
   "source": [
    "## Run it just once\n",
    "# from tree_sitter import Language\n",
    "# Language.build_library(\n",
    "#   # Store the library in the `build` directory\n",
    "#   'build/tree-sitter-grammars.so',\n",
    "\n",
    "#   # Include one or more languages\n",
    "#   [\n",
    "#     '/Users/itortouch/GiTor/tree-sitter-python',\n",
    "#     '/Users/itortouch/GiTor/tree-sitter-javascript',\n",
    "#     '/Users/itortouch/GiTor/tree-sitter-java'\n",
    "#   ]\n",
    "# )"
   ]
  },
  {
   "cell_type": "code",
   "execution_count": null,
   "metadata": {},
   "outputs": [],
   "source": [
    "## Depending on the chosen repo change the language\n",
    "# os.chdir(\"../examples/java_repo_s\")\n",
    "# os.chdir(\"../examples/ml_repo_s\")\n",
    "os.chdir(\"../examples/js_repo_s\")"
   ]
  },
  {
   "cell_type": "code",
   "execution_count": null,
   "metadata": {},
   "outputs": [],
   "source": [
    "from codeas.assistant import Assistant\n",
    "codeas = Assistant(codebase={\"language\":\"javascript\"})"
   ]
  },
  {
   "cell_type": "code",
   "execution_count": null,
   "metadata": {},
   "outputs": [],
   "source": [
    "if os.path.exists(\".codeas\"):\n",
    "    os.remove(\".codeas/assistant.yaml\")\n",
    "    os.remove(\".codeas/prompts.yaml\")\n",
    "    os.rmdir(\".codeas\")\n",
    "codeas.init_configs()\n",
    "codeas.model_post_init(None)"
   ]
  },
  {
   "cell_type": "code",
   "execution_count": null,
   "metadata": {},
   "outputs": [],
   "source": [
    "# TODO: Due to codeas.file_handler._target_files incremental adding and not eliminating values, we can only execute one prompt for each instance session. Need to restart for changing prompt. Review.\n",
    "# codeas.execute_prompt(instructions=\"Create java docs.\", modules=[\"StringUtil\"])\n",
    "# codeas.execute_prompt(instructions=\"Create docstrings.\", modules=[\"ml_pipeline\"])\n",
    "# codeas.execute_prompt(instructions=\"Create docstrings.\", modules=[\"ClassA\"])\n",
    "# codeas.execute_prompt(instructions=\"Create unit test.\", target=\"tests\", modules=[\"ClassA\"])\n",
    "# codeas.execute_prompt(instructions=\"Create JS Docs in markdown.\", target=\"docs\", modules=[\"ClassA\"])\n",
    "codeas.execute_prompt(instructions=\"Create docstrings.\")"
   ]
  },
  {
   "cell_type": "code",
   "execution_count": null,
   "metadata": {},
   "outputs": [],
   "source": [
    "codeas.apply_changes()"
   ]
  },
  {
   "cell_type": "code",
   "execution_count": null,
   "metadata": {},
   "outputs": [],
   "source": [
    "codeas.revert_changes()"
   ]
  },
  {
   "cell_type": "code",
   "execution_count": null,
   "metadata": {},
   "outputs": [],
   "source": [
    "codeas.reject_changes()"
   ]
  },
  {
   "cell_type": "code",
   "execution_count": null,
   "metadata": {},
   "outputs": [],
   "source": []
  }
 ],
 "metadata": {
  "kernelspec": {
   "display_name": "divergen_dev",
   "language": "python",
   "name": "python3"
  },
  "language_info": {
   "codemirror_mode": {
    "name": "ipython",
    "version": 3
   },
   "file_extension": ".py",
   "mimetype": "text/x-python",
   "name": "python",
   "nbconvert_exporter": "python",
   "pygments_lexer": "ipython3",
   "version": "3.11.5"
  }
 },
 "nbformat": 4,
 "nbformat_minor": 2
}
