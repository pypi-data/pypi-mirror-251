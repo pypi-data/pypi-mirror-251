{
 "cells": [
  {
   "cell_type": "code",
   "execution_count": null,
   "metadata": {},
   "outputs": [],
   "source": [
    "%load_ext autoreload\n",
    "%autoreload 2\n",
    "import json \n",
    "import sys \n",
    "import dataclasses\n",
    "import pandas as pd \n",
    "from attr import dataclass \n",
    "\n",
    "\n",
    "sys.path.append('..')\n",
    "from src.jsonpaths import JsonPaths\n",
    "\n",
    "with open('/workspaces/jsonpaths/tests/data/example.json', 'r') as jfile:\n",
    "    jfile = json.load(jfile)\n",
    "jpath = JsonPaths(jfile)\n",
    "rec  = jpath.retrieve_objects('root.web-app.servlet')\n",
    "#sc = jpath.generate_schema()\n",
    "df = pd.DataFrame(rec)\n",
    "#df = jpath.retrieve_objects('root.workspaces.datasets',return_type='dataframe',collapse_parent_fields=['root.workspaces.*'],flatten_inner_objects=True)\n",
    "\n",
    "df "
   ]
  },
  {
   "cell_type": "code",
   "execution_count": null,
   "metadata": {},
   "outputs": [],
   "source": [
    "star_strings = ['root.workspaces']\n",
    "\n",
    "all_flds = [y.get('full_path') for x in star_strings for y in jpath.json_schema if y.get('parent_path') == x and y.get('other_info') == 'FIELD_IN_OBJECT' ]"
   ]
  },
  {
   "cell_type": "code",
   "execution_count": null,
   "metadata": {},
   "outputs": [],
   "source": [
    "%load_ext autoreload\n",
    "%autoreload 2\n",
    "import json \n",
    "import sys \n",
    "import pandas as pd \n",
    "sys.path.append('..')\n",
    "from src.jsonpaths import JsonPaths\n",
    "\n",
    "with open('/workspaces/jsonpaths/tests/data/example.json', 'r') as jfile:\n",
    "    jfile = json.load(jfile)\n",
    "jpath = JsonPaths(jfile,rootname='approot')\n",
    "sc = jpath.generate_schema()\n",
    "df = pd.DataFrame(sc)\n",
    "df = jpath.retrieve_objects('root.workspaces.datasets',return_type='dataframe',collapse_parent_fields=['root.workspaces.*'],flatten_inner_objects=True)\n",
    "\n",
    "df "
   ]
  },
  {
   "cell_type": "code",
   "execution_count": null,
   "metadata": {},
   "outputs": [],
   "source": [
    "int_exm = 1 \n",
    "dec_exm = 1.01 \n",
    "str_exm = 'astring' \n",
    "bool_exm = True  \n",
    "type_l = [int_exm, dec_exm,str_exm,bool_exm,None]\n",
    "for t in type_l:\n",
    "    print(str(type(t).__name__))"
   ]
  },
  {
   "cell_type": "code",
   "execution_count": null,
   "metadata": {},
   "outputs": [],
   "source": []
  }
 ],
 "metadata": {
  "kernelspec": {
   "display_name": "Python 3",
   "language": "python",
   "name": "python3"
  },
  "language_info": {
   "codemirror_mode": {
    "name": "ipython",
    "version": 3
   },
   "file_extension": ".py",
   "mimetype": "text/x-python",
   "name": "python",
   "nbconvert_exporter": "python",
   "pygments_lexer": "ipython3",
   "version": "3.10.13"
  }
 },
 "nbformat": 4,
 "nbformat_minor": 2
}
