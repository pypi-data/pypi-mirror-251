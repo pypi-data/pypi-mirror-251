{
 "cells": [
  {
   "cell_type": "code",
   "execution_count": 4,
   "metadata": {},
   "outputs": [
    {
     "name": "stdout",
     "output_type": "stream",
     "text": [
      "The autoreload extension is already loaded. To reload it, use:\n",
      "  %reload_ext autoreload\n",
      "['root.quiz.sport', 'root.quiz.maths']\n",
      "['root.quiz.sport', 'root.quiz.maths', 'root.quiz.maths.q1', 'root.quiz.maths.q2']\n",
      "['root.quiz.sport', 'root.quiz.maths', 'root.quiz.maths.q1', 'root.quiz.maths.q2', 'root.quiz.maths.q2.question', 'root.quiz.maths.q2.answer', 'root.quiz.maths.q2.options']\n",
      "['root.quiz.sport', 'root.quiz.maths', 'root.quiz.maths.q1', 'root.quiz.maths.q2', 'root.quiz.maths.q2.question', 'root.quiz.maths.q2.answer', 'root.quiz.maths.q2.options']\n",
      "['root.quiz.sport', 'root.quiz.maths', 'root.quiz.maths.q1', 'root.quiz.maths.q2', 'root.quiz.maths.q2.question', 'root.quiz.maths.q2.answer', 'root.quiz.maths.q2.options']\n",
      "['root.quiz.sport', 'root.quiz.maths', 'root.quiz.maths.q1', 'root.quiz.maths.q2', 'root.quiz.maths.q2.question', 'root.quiz.maths.q2.answer', 'root.quiz.maths.q2.options']\n",
      "['root.quiz.sport', 'root.quiz.maths', 'root.quiz.maths.q1', 'root.quiz.maths.q2', 'root.quiz.maths.q2.question', 'root.quiz.maths.q2.answer', 'root.quiz.maths.q2.options', 'root.quiz.maths.q1.question', 'root.quiz.maths.q1.answer', 'root.quiz.maths.q1.options']\n",
      "['root.quiz.sport', 'root.quiz.maths', 'root.quiz.maths.q1', 'root.quiz.maths.q2', 'root.quiz.maths.q2.question', 'root.quiz.maths.q2.answer', 'root.quiz.maths.q2.options', 'root.quiz.maths.q1.question', 'root.quiz.maths.q1.answer', 'root.quiz.maths.q1.options']\n",
      "['root.quiz.sport', 'root.quiz.maths', 'root.quiz.maths.q1', 'root.quiz.maths.q2', 'root.quiz.maths.q2.question', 'root.quiz.maths.q2.answer', 'root.quiz.maths.q2.options', 'root.quiz.maths.q1.question', 'root.quiz.maths.q1.answer', 'root.quiz.maths.q1.options']\n",
      "['root.quiz.sport', 'root.quiz.maths', 'root.quiz.maths.q1', 'root.quiz.maths.q2', 'root.quiz.maths.q2.question', 'root.quiz.maths.q2.answer', 'root.quiz.maths.q2.options', 'root.quiz.maths.q1.question', 'root.quiz.maths.q1.answer', 'root.quiz.maths.q1.options']\n",
      "['root.quiz.sport', 'root.quiz.maths', 'root.quiz.maths.q1', 'root.quiz.maths.q2', 'root.quiz.maths.q2.question', 'root.quiz.maths.q2.answer', 'root.quiz.maths.q2.options', 'root.quiz.maths.q1.question', 'root.quiz.maths.q1.answer', 'root.quiz.maths.q1.options', 'root.quiz.sport.q1']\n",
      "['root.quiz.sport', 'root.quiz.maths', 'root.quiz.maths.q1', 'root.quiz.maths.q2', 'root.quiz.maths.q2.question', 'root.quiz.maths.q2.answer', 'root.quiz.maths.q2.options', 'root.quiz.maths.q1.question', 'root.quiz.maths.q1.answer', 'root.quiz.maths.q1.options', 'root.quiz.sport.q1', 'root.quiz.sport.q1.question', 'root.quiz.sport.q1.answer', 'root.quiz.sport.q1.options']\n",
      "['root.quiz.sport', 'root.quiz.maths', 'root.quiz.maths.q1', 'root.quiz.maths.q2', 'root.quiz.maths.q2.question', 'root.quiz.maths.q2.answer', 'root.quiz.maths.q2.options', 'root.quiz.maths.q1.question', 'root.quiz.maths.q1.answer', 'root.quiz.maths.q1.options', 'root.quiz.sport.q1', 'root.quiz.sport.q1.question', 'root.quiz.sport.q1.answer', 'root.quiz.sport.q1.options']\n",
      "['root.quiz.sport', 'root.quiz.maths', 'root.quiz.maths.q1', 'root.quiz.maths.q2', 'root.quiz.maths.q2.question', 'root.quiz.maths.q2.answer', 'root.quiz.maths.q2.options', 'root.quiz.maths.q1.question', 'root.quiz.maths.q1.answer', 'root.quiz.maths.q1.options', 'root.quiz.sport.q1', 'root.quiz.sport.q1.question', 'root.quiz.sport.q1.answer', 'root.quiz.sport.q1.options']\n",
      "['root.quiz.sport', 'root.quiz.maths', 'root.quiz.maths.q1', 'root.quiz.maths.q2', 'root.quiz.maths.q2.question', 'root.quiz.maths.q2.answer', 'root.quiz.maths.q2.options', 'root.quiz.maths.q1.question', 'root.quiz.maths.q1.answer', 'root.quiz.maths.q1.options', 'root.quiz.sport.q1', 'root.quiz.sport.q1.question', 'root.quiz.sport.q1.answer', 'root.quiz.sport.q1.options']\n"
     ]
    },
    {
     "data": {
      "text/html": [
       "<div>\n",
       "<style scoped>\n",
       "    .dataframe tbody tr th:only-of-type {\n",
       "        vertical-align: middle;\n",
       "    }\n",
       "\n",
       "    .dataframe tbody tr th {\n",
       "        vertical-align: top;\n",
       "    }\n",
       "\n",
       "    .dataframe thead th {\n",
       "        text-align: right;\n",
       "    }\n",
       "</style>\n",
       "<table border=\"1\" class=\"dataframe\">\n",
       "  <thead>\n",
       "    <tr style=\"text-align: right;\">\n",
       "      <th></th>\n",
       "      <th>q1_question</th>\n",
       "      <th>q1_answer</th>\n",
       "      <th>q1_options</th>\n",
       "      <th>quiz_q1_question</th>\n",
       "      <th>quiz_q1_answer</th>\n",
       "      <th>maths_q1_options</th>\n",
       "      <th>q2_question</th>\n",
       "      <th>q2_answer</th>\n",
       "      <th>q2_options</th>\n",
       "    </tr>\n",
       "  </thead>\n",
       "  <tbody>\n",
       "    <tr>\n",
       "      <th>0</th>\n",
       "      <td>Which one is correct team name in NBA?</td>\n",
       "      <td>Huston Rocket</td>\n",
       "      <td>New York Bulls, Los Angeles Kings, Golden Stat...</td>\n",
       "      <td>5 + 7 = ?</td>\n",
       "      <td>12</td>\n",
       "      <td>10, 11, 12, 13</td>\n",
       "      <td>12 - 8 = ?</td>\n",
       "      <td>4</td>\n",
       "      <td>1, 2, 3, 4</td>\n",
       "    </tr>\n",
       "  </tbody>\n",
       "</table>\n",
       "</div>"
      ],
      "text/plain": [
       "                              q1_question      q1_answer  \\\n",
       "0  Which one is correct team name in NBA?  Huston Rocket   \n",
       "\n",
       "                                          q1_options quiz_q1_question  \\\n",
       "0  New York Bulls, Los Angeles Kings, Golden Stat...        5 + 7 = ?   \n",
       "\n",
       "  quiz_q1_answer maths_q1_options q2_question q2_answer  q2_options  \n",
       "0             12   10, 11, 12, 13  12 - 8 = ?         4  1, 2, 3, 4  "
      ]
     },
     "execution_count": 4,
     "metadata": {},
     "output_type": "execute_result"
    }
   ],
   "source": [
    "%load_ext autoreload\n",
    "%autoreload 2\n",
    "import json \n",
    "import sys \n",
    "import dataclasses\n",
    "import pandas as pd \n",
    "from attr import dataclass \n",
    "\n",
    "\n",
    "sys.path.append('..')\n",
    "from src.jsonpaths import JsonPaths\n",
    "\n",
    "with open('/workspaces/jsonpaths/tests/data/example2.json', 'r') as jfile:\n",
    "    jfile = json.load(jfile)\n",
    "jpath = JsonPaths(jfile)\n",
    "rec  = jpath.retrieve_objects('root.quiz')\n",
    "#sc = jpath.generate_schema()\n",
    "df = pd.DataFrame(rec)\n",
    "#df = jpath.retrieve_objects('root.workspaces.datasets',return_type='dataframe',collapse_parent_fields=['root.workspaces.*'],flatten_inner_objects=True)\n",
    "\n",
    "df "
   ]
  },
  {
   "cell_type": "markdown",
   "metadata": {},
   "source": []
  },
  {
   "cell_type": "code",
   "execution_count": null,
   "metadata": {},
   "outputs": [],
   "source": [
    "star_strings = ['root.workspaces']\n",
    "\n",
    "all_flds = [y.get('full_path') for x in star_strings for y in jpath.json_schema if y.get('parent_path') == x and y.get('other_info') == 'FIELD_IN_OBJECT' ]"
   ]
  },
  {
   "cell_type": "code",
   "execution_count": null,
   "metadata": {},
   "outputs": [],
   "source": [
    "%load_ext autoreload\n",
    "%autoreload 2\n",
    "import json \n",
    "import sys \n",
    "import pandas as pd \n",
    "sys.path.append('..')\n",
    "from src.jsonpaths import JsonPaths\n",
    "\n",
    "with open('/workspaces/jsonpaths/tests/data/example.json', 'r') as jfile:\n",
    "    jfile = json.load(jfile)\n",
    "jpath = JsonPaths(jfile,rootname='approot')\n",
    "sc = jpath.generate_schema()\n",
    "df = pd.DataFrame(sc)\n",
    "df = jpath.retrieve_objects('root.workspaces.datasets',return_type='dataframe',collapse_parent_fields=['root.workspaces.*'],flatten_inner_objects=True)\n",
    "\n",
    "df "
   ]
  },
  {
   "cell_type": "code",
   "execution_count": null,
   "metadata": {},
   "outputs": [],
   "source": [
    "int_exm = 1 \n",
    "dec_exm = 1.01 \n",
    "str_exm = 'astring' \n",
    "bool_exm = True  \n",
    "type_l = [int_exm, dec_exm,str_exm,bool_exm,None]\n",
    "for t in type_l:\n",
    "    print(str(type(t).__name__))"
   ]
  },
  {
   "cell_type": "code",
   "execution_count": null,
   "metadata": {},
   "outputs": [],
   "source": []
  }
 ],
 "metadata": {
  "kernelspec": {
   "display_name": "Python 3",
   "language": "python",
   "name": "python3"
  },
  "language_info": {
   "codemirror_mode": {
    "name": "ipython",
    "version": 3
   },
   "file_extension": ".py",
   "mimetype": "text/x-python",
   "name": "python",
   "nbconvert_exporter": "python",
   "pygments_lexer": "ipython3",
   "version": "3.10.13"
  }
 },
 "nbformat": 4,
 "nbformat_minor": 2
}
