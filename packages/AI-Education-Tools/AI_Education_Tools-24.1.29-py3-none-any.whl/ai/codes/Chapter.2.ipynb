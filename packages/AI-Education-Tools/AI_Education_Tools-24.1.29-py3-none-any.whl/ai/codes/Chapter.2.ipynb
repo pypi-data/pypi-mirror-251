{
 "cells": [
  {
   "cell_type": "code",
   "execution_count": null,
   "id": "3353eea8-89e3-4e3b-ae6b-5fe4d50db8ca",
   "metadata": {},
   "outputs": [],
   "source": []
  },
  {
   "cell_type": "markdown",
   "id": "cb16c052-9dc0-4b06-8ca8-ee5a86137ebb",
   "metadata": {},
   "source": [
    "【例2.1】成绩求和案例。"
   ]
  },
  {
   "cell_type": "code",
   "execution_count": 1,
   "id": "114fa1a0-ba65-4c15-a188-5cf7152af707",
   "metadata": {},
   "outputs": [
    {
     "name": "stdout",
     "output_type": "stream",
     "text": [
      "总分： 263\n"
     ]
    }
   ],
   "source": [
    "chinese=79\n",
    "maths=88\n",
    "english=96\n",
    "total=chinese+maths+english\n",
    "print('总分：',total)"
   ]
  },
  {
   "cell_type": "code",
   "execution_count": null,
   "id": "620cbfe7-9bbb-44e5-b77b-bb0a0ad07250",
   "metadata": {},
   "outputs": [],
   "source": []
  },
  {
   "cell_type": "markdown",
   "id": "aae7ebed-e5c3-402d-a499-fc2eb67db259",
   "metadata": {},
   "source": [
    "【例2.2】获取Python关键词代码案例。"
   ]
  },
  {
   "cell_type": "code",
   "execution_count": 2,
   "id": "ea602ec3-f738-4d61-9d39-924c2850981d",
   "metadata": {},
   "outputs": [
    {
     "name": "stdout",
     "output_type": "stream",
     "text": [
      "['False', 'None', 'True', 'and', 'as', 'assert', 'async', 'await', 'break', 'class', 'continue', 'def', 'del', 'elif', 'else', 'except', 'finally', 'for', 'from', 'global', 'if', 'import', 'in', 'is', 'lambda', 'nonlocal', 'not', 'or', 'pass', 'raise', 'return', 'try', 'while', 'with', 'yield']\n"
     ]
    }
   ],
   "source": [
    "import keyword\n",
    "print(keyword.kwlist)"
   ]
  },
  {
   "cell_type": "markdown",
   "id": "71877b2c-4cf9-4e8d-8310-f14cbc4877c2",
   "metadata": {},
   "source": [
    "【例2.3】列表数据与获取单个元素。"
   ]
  },
  {
   "cell_type": "code",
   "execution_count": 4,
   "id": "5024bd9c-de66-4529-a874-5356525fb2c0",
   "metadata": {},
   "outputs": [],
   "source": [
    "my_list = [1, 2, 3, 4, 5]\n",
    "element = my_list[2]  # 获取列表中索引为2的元素，结果为 3"
   ]
  },
  {
   "cell_type": "markdown",
   "id": "08ca7c76-6ec8-4f07-ad00-5bf40eb1a506",
   "metadata": {},
   "source": [
    "【例2.4】元组数据与获取单个元素。"
   ]
  },
  {
   "cell_type": "code",
   "execution_count": null,
   "id": "49c68cfe-7c27-4f9f-9e78-00fc1a1e4af7",
   "metadata": {},
   "outputs": [],
   "source": [
    "my_tuple = (1, 2, 3, 4, 5)\n",
    "element = my_tuple[2]  # 获取元组中索引为2的元素，结果为 3"
   ]
  },
  {
   "cell_type": "code",
   "execution_count": null,
   "id": "aaec1c96-d1e5-4eda-8f4a-8a161318546f",
   "metadata": {},
   "outputs": [],
   "source": []
  },
  {
   "cell_type": "markdown",
   "id": "ed0c09c5-9fc2-4a84-8c68-5559a2cefad5",
   "metadata": {},
   "source": [
    "【例2.5】字符串数据与获取单个元素。"
   ]
  },
  {
   "cell_type": "code",
   "execution_count": 5,
   "id": "22ab70f6-089b-489a-b876-c9219330cb0c",
   "metadata": {},
   "outputs": [],
   "source": [
    "my_string = \"Hello, World!\"\n",
    "character = my_string[7]  # 获取字符串中索引为7的字符，结果为 \"W\""
   ]
  },
  {
   "cell_type": "code",
   "execution_count": null,
   "id": "0ccabf3d-f939-4258-ba29-b91e7b67c682",
   "metadata": {},
   "outputs": [],
   "source": []
  },
  {
   "cell_type": "markdown",
   "id": "0dfa1bea-16b2-496d-8f14-e3d30dbd260e",
   "metadata": {},
   "source": [
    "【例2.6】list、tuple、str数据与元素切片。"
   ]
  },
  {
   "cell_type": "code",
   "execution_count": null,
   "id": "9d622d49-bc16-4051-8206-9560e62405ad",
   "metadata": {},
   "outputs": [],
   "source": [
    "my_list = [1, 2, 3, 4, 5]\n",
    "subset = my_list[1:4]  # 获取索引1到3的子集，结果为 [2, 3, 4]\n",
    "my_tuple = (1, 2, 3, 4, 5)\n",
    "subset = my_tuple[1:4]  # 获取索引1到3的子集，结果为 (2, 3, 4)\n",
    "my_string = \"Hello, World!\"\n",
    "subset = my_string[7:12]  # 获取索引7到11的子集，结果为 \"World\""
   ]
  },
  {
   "cell_type": "code",
   "execution_count": null,
   "id": "8536637f-d758-4d92-b908-fc5cd2060704",
   "metadata": {},
   "outputs": [],
   "source": []
  },
  {
   "cell_type": "code",
   "execution_count": null,
   "id": "c56b18cc-9cb0-4cf0-b37d-7dd8be1b3394",
   "metadata": {},
   "outputs": [],
   "source": [
    " 【例2.8】集合元素的增删。"
   ]
  },
  {
   "cell_type": "code",
   "execution_count": 6,
   "id": "4328ab98-533d-4e20-a633-0631920335f6",
   "metadata": {},
   "outputs": [],
   "source": [
    "   my_set = {1, 2, 3}\n",
    "   my_set.add(4)  # 结果为 {1, 2, 3, 4}\n",
    "   my_set.update([4, 5, 6])  # 结果为 {1, 2, 3, 4, 5, 6}\n",
    "   my_set.remove(3)  # 结果为 {1, 2, 4, 5, 6}\n",
    "   my_set.discard(5)  # 结果为 {1, 2, 4, 6}\n",
    "   my_set.pop()  # 随机移除一个元素并返回，结果可能为 {1, 2, 4} 等\n",
    "   my_set = {1, 2, 3, 4, 5}\n",
    "   my_set.clear()  # 结果为 set()"
   ]
  },
  {
   "cell_type": "code",
   "execution_count": null,
   "id": "d3133028-94f2-43fa-aabc-d7349ded5f52",
   "metadata": {},
   "outputs": [],
   "source": []
  },
  {
   "cell_type": "markdown",
   "id": "b8af1273-22b9-40e8-8431-09676696c54e",
   "metadata": {},
   "source": [
    " 【例2.8】集合元素的增删。"
   ]
  },
  {
   "cell_type": "code",
   "execution_count": null,
   "id": "de339e15-ff45-42ba-a594-965b9e130a26",
   "metadata": {},
   "outputs": [],
   "source": [
    "   my_set = {1, 2, 3}\n",
    "   my_set.add(4)  # 结果为 {1, 2, 3, 4}\n",
    "   my_set.update([4, 5, 6])  # 结果为 {1, 2, 3, 4, 5, 6}\n",
    "   my_set.remove(3)  # 结果为 {1, 2, 4, 5, 6}\n",
    "   my_set.discard(5)  # 结果为 {1, 2, 4, 6}\n",
    "   my_set.pop()  # 随机移除一个元素并返回，结果可能为 {1, 2, 4} 等\n",
    "   my_set = {1, 2, 3, 4, 5}\n",
    "   my_set.clear()  # 结果为 set()"
   ]
  },
  {
   "cell_type": "code",
   "execution_count": null,
   "id": "47f1dd77-7e6e-4357-b341-58445c5711c5",
   "metadata": {},
   "outputs": [],
   "source": []
  },
  {
   "cell_type": "markdown",
   "id": "c2a55b2c-ac8e-447d-9510-f91f59c41b1f",
   "metadata": {},
   "source": [
    "【例2.18】条件语句 (if-elif-else)示例。输入一个数字，判断它的正负零状态。"
   ]
  },
  {
   "cell_type": "code",
   "execution_count": 8,
   "id": "2de64355-6a61-4990-8537-936957e1f4f6",
   "metadata": {},
   "outputs": [
    {
     "name": "stdin",
     "output_type": "stream",
     "text": [
      "请输入一个数字： 2\n"
     ]
    },
    {
     "name": "stdout",
     "output_type": "stream",
     "text": [
      "这是一个正数\n"
     ]
    }
   ],
   "source": [
    "num = float(input(\"请输入一个数字：\"))\n",
    "# 条件语句\n",
    "if num > 0:\n",
    "    print(\"这是一个正数\")\n",
    "elif num == 0:\n",
    "    print(\"这是零\")\n",
    "else:\n",
    "    print(\"这是一个负数\")"
   ]
  },
  {
   "cell_type": "code",
   "execution_count": null,
   "id": "ed91ca3c-f262-4c65-a973-4c7ab8709bda",
   "metadata": {},
   "outputs": [],
   "source": []
  },
  {
   "cell_type": "markdown",
   "id": "77d2b050-c4ef-4465-bf75-cc5acb6f6040",
   "metadata": {},
   "source": [
    "【例2.19】列表遍历例子："
   ]
  },
  {
   "cell_type": "code",
   "execution_count": 9,
   "id": "852727f7-e158-4a5d-9df4-9c797432663a",
   "metadata": {},
   "outputs": [
    {
     "name": "stdout",
     "output_type": "stream",
     "text": [
      "1\n",
      "2\n",
      "3\n",
      "4\n",
      "5\n"
     ]
    }
   ],
   "source": [
    "my_list = [1, 2, 3, 4, 5]\n",
    "for item in my_list:\n",
    "    print(item)"
   ]
  },
  {
   "cell_type": "code",
   "execution_count": null,
   "id": "f2d89f0c-28c8-4b3a-855b-8a3adbc702ca",
   "metadata": {},
   "outputs": [],
   "source": []
  },
  {
   "cell_type": "code",
   "execution_count": null,
   "id": "0cb9b385-3cb3-4891-b5c5-f760ec92b787",
   "metadata": {},
   "outputs": [],
   "source": [
    "【例2.20】while循环语句示例。"
   ]
  },
  {
   "cell_type": "code",
   "execution_count": 10,
   "id": "ffd3907d-62f5-4ed3-8445-7693c8fb1af5",
   "metadata": {},
   "outputs": [
    {
     "name": "stdin",
     "output_type": "stream",
     "text": [
      "请输入一个非负整数:  6\n"
     ]
    },
    {
     "name": "stdout",
     "output_type": "stream",
     "text": [
      "阶乘是: 720\n"
     ]
    }
   ],
   "source": [
    "# 计算阶乘的例子\n",
    "# 获取用户输入\n",
    "num = int(input(\"请输入一个非负整数: \"))\n",
    "# 初始化结果\n",
    "factorial = 1\n",
    "# 使用 while 循环计算阶乘\n",
    "while num > 0:\n",
    "    factorial *= num\n",
    "    num -= 1\n",
    "# 输出结果\n",
    "print(\"阶乘是:\", factorial)"
   ]
  },
  {
   "cell_type": "code",
   "execution_count": null,
   "id": "7800b46f-b868-4c0e-ba6f-c108ea71f5f8",
   "metadata": {},
   "outputs": [],
   "source": []
  },
  {
   "cell_type": "code",
   "execution_count": null,
   "id": "be3fcbe1-0a3e-4431-8774-9784bf09ac51",
   "metadata": {},
   "outputs": [],
   "source": [
    "【例2.21】break、continue用法示例。"
   ]
  },
  {
   "cell_type": "code",
   "execution_count": null,
   "id": "a7ba09bb-f4ff-4508-8ddb-a811630a1adf",
   "metadata": {},
   "outputs": [],
   "source": [
    "# 使用 break 结束循环\n",
    "print(\"使用 break 结束循环:\")\n",
    "for i in range(10):\n",
    "    if i == 5:\n",
    "        print(\"遇到 i 等于 5，退出循环\")\n",
    "        break\n",
    "    print(i)\n",
    "\n",
    "# 使用 continue 跳过部分循环\n",
    "print(\"\\n使用 continue 跳过部分循环:\")\n",
    "for i in range(10):\n",
    "    if i % 2 == 0:\n",
    "        print(\"遇到偶数，跳过本次循环\")\n",
    "        continue\n",
    "print(i)"
   ]
  },
  {
   "cell_type": "code",
   "execution_count": null,
   "id": "59597d7b-c768-40ad-867f-8bdc5fcc3213",
   "metadata": {},
   "outputs": [],
   "source": []
  },
  {
   "cell_type": "code",
   "execution_count": null,
   "id": "8867176d-37ee-4fa0-8c48-5063ca07711e",
   "metadata": {},
   "outputs": [],
   "source": [
    "    【例2.23】函数的返回值示例：   "
   ]
  },
  {
   "cell_type": "code",
   "execution_count": 12,
   "id": "ca6c11f9-38c3-4ab6-ad2a-41b4b9101f4e",
   "metadata": {},
   "outputs": [
    {
     "data": {
      "text/plain": [
       "7"
      ]
     },
     "execution_count": 12,
     "metadata": {},
     "output_type": "execute_result"
    }
   ],
   "source": [
    "   def add(x, y):\n",
    "       return x + y\n",
    "   result = add(3, 4)  # result 的值为 7\n",
    "   result\n",
    "  "
   ]
  },
  {
   "cell_type": "code",
   "execution_count": null,
   "id": "0d036db8-b9c2-472e-9a70-e94ad9ce3f33",
   "metadata": {},
   "outputs": [],
   "source": []
  },
  {
   "cell_type": "code",
   "execution_count": null,
   "id": "3a4512d8-f3f9-45a3-8f1a-e992f13f6a49",
   "metadata": {},
   "outputs": [],
   "source": [
    "        【例2.25】Series对象创建示例。"
   ]
  },
  {
   "cell_type": "code",
   "execution_count": 14,
   "id": "3194a192-961c-4670-a988-88242b980f0e",
   "metadata": {},
   "outputs": [
    {
     "data": {
      "text/plain": [
       "a    1\n",
       "b    2\n",
       "c    3\n",
       "d    4\n",
       "e    5\n",
       "dtype: int64"
      ]
     },
     "execution_count": 14,
     "metadata": {},
     "output_type": "execute_result"
    }
   ],
   "source": [
    "   import pandas as pd\n",
    "   data = [1, 2, 3, 4, 5]\n",
    "   series = pd.Series(data, index=['a', 'b', 'c', 'd', 'e'])\n",
    "   series"
   ]
  },
  {
   "cell_type": "code",
   "execution_count": null,
   "id": "740a2b3e-1325-4198-966a-3ec374319eba",
   "metadata": {},
   "outputs": [],
   "source": []
  },
  {
   "cell_type": "code",
   "execution_count": null,
   "id": "61ceb5aa-ee92-4412-9daf-2febcb4dde19",
   "metadata": {},
   "outputs": [],
   "source": [
    "【例2.26】DataFrame对象创建示例。"
   ]
  },
  {
   "cell_type": "code",
   "execution_count": 15,
   "id": "1206f9b5-0675-471a-ab70-251b8a16af23",
   "metadata": {},
   "outputs": [
    {
     "name": "stdout",
     "output_type": "stream",
     "text": [
      "整个DataFrame:\n",
      "      Name  Age         City\n",
      "0    Alice   25     New York\n",
      "1      Bob   30  Los Angeles\n",
      "2  Charlie   35      Chicago\n",
      "3    David   40      Houston\n",
      "\n",
      "\n",
      "列数据:\n",
      "0      Alice\n",
      "1        Bob\n",
      "2    Charlie\n",
      "3      David\n",
      "Name: Name, dtype: object\n",
      "0    25\n",
      "1    30\n",
      "2    35\n",
      "3    40\n",
      "Name: Age, dtype: int64\n",
      "0       New York\n",
      "1    Los Angeles\n",
      "2        Chicago\n",
      "3        Houston\n",
      "Name: City, dtype: object\n",
      "\n",
      "\n",
      "行数据:\n",
      "Name       Alice\n",
      "Age           25\n",
      "City    New York\n",
      "Name: 0, dtype: object\n",
      "Name    Charlie\n",
      "Age          35\n",
      "City    Chicago\n",
      "Name: 2, dtype: object\n",
      "\n",
      "\n",
      "特定元素:\n",
      "Bob\n"
     ]
    }
   ],
   "source": [
    "import pandas as pd\n",
    "# 创建DataFrame对象\n",
    "data = {'Name': ['Alice', 'Bob', 'Charlie', 'David'],\n",
    "        'Age': [25, 30, 35, 40],\n",
    "        'City': ['New York', 'Los Angeles', 'Chicago', 'Houston']}\n",
    "df = pd.DataFrame(data)\n",
    "\n",
    "# 显示DataFrame\n",
    "print(\"整个DataFrame:\")\n",
    "print(df)\n",
    "print(\"\\n\")\n",
    "\n",
    "# 访问列数据\n",
    "print(\"列数据:\")\n",
    "print(df['Name'])  # 访问 'Name' 列\n",
    "print(df['Age'])   # 访问 'Age' 列\n",
    "print(df['City'])  # 访问 'City' 列\n",
    "print(\"\\n\")\n",
    "\n",
    "# 访问行数据\n",
    "print(\"行数据:\")\n",
    "print(df.loc[0])  # 访问第一行\n",
    "print(df.loc[2])  # 访问第三行\n",
    "print(\"\\n\")\n",
    "\n",
    "# 使用行列索引访问特定元素\n",
    "print(\"特定元素:\")\n",
    "print(df.at[1, 'Name'])  # 访问第二行、'Name' 列的元素"
   ]
  },
  {
   "cell_type": "code",
   "execution_count": null,
   "id": "92aa561f-9e96-48ff-a837-770f3176c874",
   "metadata": {},
   "outputs": [],
   "source": []
  },
  {
   "cell_type": "code",
   "execution_count": null,
   "id": "146b9d65-7455-4f6b-831e-ba67fe02c5be",
   "metadata": {},
   "outputs": [],
   "source": [
    "【例2.27】DataFrame对象基本操作。"
   ]
  },
  {
   "cell_type": "code",
   "execution_count": 16,
   "id": "bd6f7ee3-8689-485e-8d20-7a67dbb862a3",
   "metadata": {},
   "outputs": [
    {
     "data": {
      "text/html": [
       "<div>\n",
       "<style scoped>\n",
       "    .dataframe tbody tr th:only-of-type {\n",
       "        vertical-align: middle;\n",
       "    }\n",
       "\n",
       "    .dataframe tbody tr th {\n",
       "        vertical-align: top;\n",
       "    }\n",
       "\n",
       "    .dataframe thead th {\n",
       "        text-align: right;\n",
       "    }\n",
       "</style>\n",
       "<table border=\"1\" class=\"dataframe\">\n",
       "  <thead>\n",
       "    <tr style=\"text-align: right;\">\n",
       "      <th></th>\n",
       "      <th>Name</th>\n",
       "      <th>Age</th>\n",
       "      <th>City</th>\n",
       "    </tr>\n",
       "  </thead>\n",
       "  <tbody>\n",
       "    <tr>\n",
       "      <th>2</th>\n",
       "      <td>Charlie</td>\n",
       "      <td>35</td>\n",
       "      <td>Chicago</td>\n",
       "    </tr>\n",
       "    <tr>\n",
       "      <th>3</th>\n",
       "      <td>David</td>\n",
       "      <td>40</td>\n",
       "      <td>Houston</td>\n",
       "    </tr>\n",
       "  </tbody>\n",
       "</table>\n",
       "</div>"
      ],
      "text/plain": [
       "      Name  Age     City\n",
       "2  Charlie   35  Chicago\n",
       "3    David   40  Houston"
      ]
     },
     "execution_count": 16,
     "metadata": {},
     "output_type": "execute_result"
    }
   ],
   "source": [
    "   df.head()  # 返回前几行数据\n",
    "   df['Name']  # 获取 'Name' 列的数据\n",
    "   df[df['Age'] > 30]  # 获取年龄大于 30 的行\n",
    "  "
   ]
  },
  {
   "cell_type": "code",
   "execution_count": 21,
   "id": "94f29ee8-8420-45d0-bd64-a433676f6f18",
   "metadata": {},
   "outputs": [],
   "source": [
    "df.to_csv('data.csv',index=False)"
   ]
  },
  {
   "cell_type": "code",
   "execution_count": null,
   "id": "a9ef8211-6b96-48b2-b20c-1cdeef2b1cf4",
   "metadata": {},
   "outputs": [],
   "source": []
  },
  {
   "cell_type": "code",
   "execution_count": null,
   "id": "8cb1955b-26b4-4f28-b8c7-e2f757f4d4cc",
   "metadata": {},
   "outputs": [],
   "source": [
    "   【例2.28】DataFrame数据输入输出示例。"
   ]
  },
  {
   "cell_type": "code",
   "execution_count": 22,
   "id": "706eb547-e094-4278-8bb9-5df3e28d36f2",
   "metadata": {},
   "outputs": [],
   "source": [
    "   # 从CSV文件导入数据\n",
    "   df = pd.read_csv('data.csv')\n",
    "   # 将数据导出为Excel文件\n",
    "   df.to_excel('data.xlsx', index=False)"
   ]
  },
  {
   "cell_type": "code",
   "execution_count": 19,
   "id": "ac594851-9e0d-4fce-a23d-8d05bf3f51b5",
   "metadata": {},
   "outputs": [
    {
     "data": {
      "text/html": [
       "<div>\n",
       "<style scoped>\n",
       "    .dataframe tbody tr th:only-of-type {\n",
       "        vertical-align: middle;\n",
       "    }\n",
       "\n",
       "    .dataframe tbody tr th {\n",
       "        vertical-align: top;\n",
       "    }\n",
       "\n",
       "    .dataframe thead th {\n",
       "        text-align: right;\n",
       "    }\n",
       "</style>\n",
       "<table border=\"1\" class=\"dataframe\">\n",
       "  <thead>\n",
       "    <tr style=\"text-align: right;\">\n",
       "      <th></th>\n",
       "      <th>Unnamed: 0</th>\n",
       "      <th>Name</th>\n",
       "      <th>Age</th>\n",
       "      <th>City</th>\n",
       "    </tr>\n",
       "  </thead>\n",
       "  <tbody>\n",
       "    <tr>\n",
       "      <th>0</th>\n",
       "      <td>0</td>\n",
       "      <td>Alice</td>\n",
       "      <td>25</td>\n",
       "      <td>New York</td>\n",
       "    </tr>\n",
       "    <tr>\n",
       "      <th>1</th>\n",
       "      <td>1</td>\n",
       "      <td>Bob</td>\n",
       "      <td>30</td>\n",
       "      <td>Los Angeles</td>\n",
       "    </tr>\n",
       "    <tr>\n",
       "      <th>2</th>\n",
       "      <td>2</td>\n",
       "      <td>Charlie</td>\n",
       "      <td>35</td>\n",
       "      <td>Chicago</td>\n",
       "    </tr>\n",
       "    <tr>\n",
       "      <th>3</th>\n",
       "      <td>3</td>\n",
       "      <td>David</td>\n",
       "      <td>40</td>\n",
       "      <td>Houston</td>\n",
       "    </tr>\n",
       "  </tbody>\n",
       "</table>\n",
       "</div>"
      ],
      "text/plain": [
       "   Unnamed: 0     Name  Age         City\n",
       "0           0    Alice   25     New York\n",
       "1           1      Bob   30  Los Angeles\n",
       "2           2  Charlie   35      Chicago\n",
       "3           3    David   40      Houston"
      ]
     },
     "execution_count": 19,
     "metadata": {},
     "output_type": "execute_result"
    }
   ],
   "source": [
    "df"
   ]
  },
  {
   "cell_type": "code",
   "execution_count": null,
   "id": "f0fbd808-9c59-4b63-9b6e-f8ba37670c42",
   "metadata": {},
   "outputs": [],
   "source": []
  },
  {
   "cell_type": "code",
   "execution_count": null,
   "id": "5b6d0d0d-fdc0-4e9b-b483-78b9c265ce69",
   "metadata": {},
   "outputs": [],
   "source": [
    "   【例2.30】DataFrame数据可视化示例（）。 "
   ]
  },
  {
   "cell_type": "code",
   "execution_count": 25,
   "id": "ea716399-7546-41f5-85dd-d51227ba15b7",
   "metadata": {},
   "outputs": [
    {
     "data": {
      "image/png": "[encoded data removed]",
      "text/plain": [
       "<Figure size 432x288 with 1 Axes>"
      ]
     },
     "metadata": {
      "needs_background": "light"
     },
     "output_type": "display_data"
    }
   ],
   "source": [
    "import matplotlib.pyplot as plt\n",
    "import pandas as pd\n",
    "# 创建DataFrame对象\n",
    "data = {'Name': ['Alice', 'Bob', 'Charlie', 'David'],\n",
    "        'Age': [25, 30, 30,35],\n",
    "        'City': ['New York', 'Los Angeles', 'Chicago', 'Houston']}\n",
    "df = pd.DataFrame(data)\n",
    "df['Age'].plot(kind='hist')\n",
    "plt.show()"
   ]
  },
  {
   "cell_type": "code",
   "execution_count": null,
   "id": "02dce38e-969c-4605-a12d-7822addfc7c9",
   "metadata": {},
   "outputs": [],
   "source": [
    "【例2.29】DataFrame数据的处理。"
   ]
  },
  {
   "cell_type": "code",
   "execution_count": 26,
   "id": "29f97c68-eb02-4a05-b479-49d48953202c",
   "metadata": {},
   "outputs": [
    {
     "data": {
      "text/plain": [
       "City\n",
       "Chicago        30.0\n",
       "Houston        35.0\n",
       "Los Angeles    30.0\n",
       "New York       25.0\n",
       "Name: Age, dtype: float64"
      ]
     },
     "execution_count": 26,
     "metadata": {},
     "output_type": "execute_result"
    }
   ],
   "source": [
    "# 去除重复值\n",
    "df = df.drop_duplicates()\n",
    "# 填充缺失值\n",
    "df['Age'].fillna(df['Age'].mean(), inplace=True)\n",
    "# 进行分组统计\n",
    "df_grouped = df.groupby('City')['Age'].mean()\n",
    "df_grouped\n",
    "  "
   ]
  },
  {
   "cell_type": "code",
   "execution_count": null,
   "id": "37f4d1dd-dd2d-46c6-8209-15c43fd27c95",
   "metadata": {},
   "outputs": [],
   "source": []
  },
  {
   "cell_type": "code",
   "execution_count": null,
   "id": "2a216c44-e234-4a0e-a0b9-e63916dd071f",
   "metadata": {},
   "outputs": [],
   "source": [
    "    【例2.31】Matplotlib绘图示例。   "
   ]
  },
  {
   "cell_type": "code",
   "execution_count": 27,
   "id": "fcf05ada-373c-4d88-83a9-6d0c6f9d25ca",
   "metadata": {},
   "outputs": [
    {
     "data": {
      "image/png": "[encoded data removed]",
      "text/plain": [
       "<Figure size 432x288 with 1 Axes>"
      ]
     },
     "metadata": {
      "needs_background": "light"
     },
     "output_type": "display_data"
    }
   ],
   "source": [
    "   import matplotlib.pyplot as plt\n",
    "   x = [1, 2, 3, 4, 5]\n",
    "   y = [2, 3, 5, 7, 11]\n",
    "   plt.plot(x, y)\n",
    "   plt.show()"
   ]
  },
  {
   "cell_type": "code",
   "execution_count": null,
   "id": "2a5cfd7a-65cf-40be-b1ef-7554ebc54119",
   "metadata": {},
   "outputs": [],
   "source": []
  },
  {
   "cell_type": "code",
   "execution_count": null,
   "id": "8757146d-7b5c-4dfa-9676-20bb22a929b0",
   "metadata": {},
   "outputs": [],
   "source": [
    "     【例2.32】Matplotlib自定义图形示例："
   ]
  },
  {
   "cell_type": "code",
   "execution_count": 28,
   "id": "04c2bdcc-53b2-40a4-b014-d0b3ec18ad91",
   "metadata": {},
   "outputs": [
    {
     "data": {
      "image/png": "[encoded data removed]",
      "text/plain": [
       "<Figure size 432x288 with 1 Axes>"
      ]
     },
     "metadata": {
      "needs_background": "light"
     },
     "output_type": "display_data"
    }
   ],
   "source": [
    "   plt.plot(x, y, marker='o', color='blue', linestyle='dashed', linewidth=2, label='Prime Numbers')\n",
    "   plt.xlabel('x')\n",
    "   plt.ylabel('y')\n",
    "   plt.title('Prime Numbers Plot')\n",
    "   plt.legend()\n",
    "   plt.show()"
   ]
  },
  {
   "cell_type": "code",
   "execution_count": null,
   "id": "195363d5-ae74-414e-9f68-0c54bd18a24b",
   "metadata": {},
   "outputs": [],
   "source": []
  },
  {
   "cell_type": "code",
   "execution_count": null,
   "id": "e02c85d1-98ca-4a8a-9aa6-6d5d60a5dc0e",
   "metadata": {},
   "outputs": [],
   "source": [
    "【例2.33】Matplotlib绘制图形案例"
   ]
  },
  {
   "cell_type": "code",
   "execution_count": 29,
   "id": "dcc17ed0-48aa-4f0e-8cb2-abc2aeef7304",
   "metadata": {},
   "outputs": [
    {
     "data": {
      "image/png": "[encoded data removed]",
      "text/plain": [
       "<Figure size 432x288 with 1 Axes>"
      ]
     },
     "metadata": {},
     "output_type": "display_data"
    }
   ],
   "source": [
    "import matplotlib.pyplot as plt\n",
    "# 绘制饼图\n",
    "labels = ['A', 'B', 'C', 'D', 'E']\n",
    "sizes = [15, 20, 25, 10, 30]\n",
    "plt.pie(sizes, labels=labels, autopct='%1.1f%%', startangle=140)\n",
    "plt.show()"
   ]
  },
  {
   "cell_type": "code",
   "execution_count": null,
   "id": "42e6ee9a-4487-4cb9-b7a5-b52b532e6636",
   "metadata": {},
   "outputs": [],
   "source": []
  },
  {
   "cell_type": "code",
   "execution_count": null,
   "id": "c671b1b1-18ed-40fe-a70b-f939505cfa0d",
   "metadata": {},
   "outputs": [],
   "source": [
    "   【例2.34】Matplotlib图形输出为图片文件。"
   ]
  },
  {
   "cell_type": "code",
   "execution_count": 31,
   "id": "1fe349a2-832e-4836-b165-c01967a9efda",
   "metadata": {},
   "outputs": [
    {
     "data": {
      "text/plain": [
       "<Figure size 432x288 with 0 Axes>"
      ]
     },
     "metadata": {},
     "output_type": "display_data"
    }
   ],
   "source": [
    "      plt.savefig('plot.jpg')"
   ]
  },
  {
   "cell_type": "code",
   "execution_count": null,
   "id": "046a5763-a4d5-4b1b-8575-842a21361cae",
   "metadata": {},
   "outputs": [],
   "source": []
  }
 ],
 "metadata": {
  "kernelspec": {
   "display_name": "Python 3 (ipykernel)",
   "language": "python",
   "name": "python3"
  },
  "language_info": {
   "codemirror_mode": {
    "name": "ipython",
    "version": 3
   },
   "file_extension": ".py",
   "mimetype": "text/x-python",
   "name": "python",
   "nbconvert_exporter": "python",
   "pygments_lexer": "ipython3",
   "version": "3.10.2"
  }
 },
 "nbformat": 4,
 "nbformat_minor": 5
}
