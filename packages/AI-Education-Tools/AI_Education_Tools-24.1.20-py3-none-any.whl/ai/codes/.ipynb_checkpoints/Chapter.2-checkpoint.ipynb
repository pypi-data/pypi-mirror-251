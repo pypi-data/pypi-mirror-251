{
 "cells": [
  {
   "cell_type": "code",
   "execution_count": null,
   "id": "b766dbfc-14f5-4b59-9329-1b707388b55e",
   "metadata": {},
   "outputs": [],
   "source": [
    "【例2.1】成绩求和案例。\n",
    "chinese=79\n",
    "maths=88\n",
    "english=96\n",
    "total=chinese+maths+english\n",
    "print('总分：',total)\n"
   ]
  }
 ],
 "metadata": {
  "kernelspec": {
   "display_name": "Python 3 (ipykernel)",
   "language": "python",
   "name": "python3"
  },
  "language_info": {
   "codemirror_mode": {
    "name": "ipython",
    "version": 3
   },
   "file_extension": ".py",
   "mimetype": "text/x-python",
   "name": "python",
   "nbconvert_exporter": "python",
   "pygments_lexer": "ipython3",
   "version": "3.10.2"
  }
 },
 "nbformat": 4,
 "nbformat_minor": 5
}
