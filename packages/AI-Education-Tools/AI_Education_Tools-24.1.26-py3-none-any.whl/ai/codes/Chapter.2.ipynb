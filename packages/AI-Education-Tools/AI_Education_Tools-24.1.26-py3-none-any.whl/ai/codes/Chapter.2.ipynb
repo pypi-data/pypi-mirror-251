{
 "cells": [
  {
   "cell_type": "code",
   "execution_count": null,
   "id": "3353eea8-89e3-4e3b-ae6b-5fe4d50db8ca",
   "metadata": {},
   "outputs": [],
   "source": []
  },
  {
   "cell_type": "code",
   "execution_count": null,
   "id": "890ed5c3-0204-4d0e-b861-597daa8a6394",
   "metadata": {},
   "outputs": [],
   "source": [
    "【例2.1】成绩求和案例。"
   ]
  },
  {
   "cell_type": "code",
   "execution_count": 1,
   "id": "114fa1a0-ba65-4c15-a188-5cf7152af707",
   "metadata": {},
   "outputs": [
    {
     "name": "stdout",
     "output_type": "stream",
     "text": [
      "总分： 263\n"
     ]
    }
   ],
   "source": [
    "chinese=79\n",
    "maths=88\n",
    "english=96\n",
    "total=chinese+maths+english\n",
    "print('总分：',total)"
   ]
  },
  {
   "cell_type": "code",
   "execution_count": null,
   "id": "620cbfe7-9bbb-44e5-b77b-bb0a0ad07250",
   "metadata": {},
   "outputs": [],
   "source": []
  },
  {
   "cell_type": "code",
   "execution_count": null,
   "id": "c87ef955-03f9-40a0-a80a-92a2cf503592",
   "metadata": {},
   "outputs": [],
   "source": [
    "【例2.2】获取Python关键词代码案例。"
   ]
  },
  {
   "cell_type": "code",
   "execution_count": 2,
   "id": "ea602ec3-f738-4d61-9d39-924c2850981d",
   "metadata": {},
   "outputs": [
    {
     "name": "stdout",
     "output_type": "stream",
     "text": [
      "['False', 'None', 'True', 'and', 'as', 'assert', 'async', 'await', 'break', 'class', 'continue', 'def', 'del', 'elif', 'else', 'except', 'finally', 'for', 'from', 'global', 'if', 'import', 'in', 'is', 'lambda', 'nonlocal', 'not', 'or', 'pass', 'raise', 'return', 'try', 'while', 'with', 'yield']\n"
     ]
    }
   ],
   "source": [
    "import keyword\n",
    "print(keyword.kwlist)"
   ]
  },
  {
   "cell_type": "code",
   "execution_count": null,
   "id": "5a4fb3e7-8efb-424d-9e8e-5ff0403ed923",
   "metadata": {},
   "outputs": [],
   "source": [
    "【例2.3】列表数据与获取单个元素。"
   ]
  },
  {
   "cell_type": "code",
   "execution_count": 4,
   "id": "5024bd9c-de66-4529-a874-5356525fb2c0",
   "metadata": {},
   "outputs": [],
   "source": [
    "my_list = [1, 2, 3, 4, 5]\n",
    "element = my_list[2]  # 获取列表中索引为2的元素，结果为 3"
   ]
  },
  {
   "cell_type": "code",
   "execution_count": null,
   "id": "e34b3b60-b9c4-489e-a19c-0ad6a82cc520",
   "metadata": {},
   "outputs": [],
   "source": [
    "【例2.4】元组数据与获取单个元素。"
   ]
  },
  {
   "cell_type": "code",
   "execution_count": null,
   "id": "49c68cfe-7c27-4f9f-9e78-00fc1a1e4af7",
   "metadata": {},
   "outputs": [],
   "source": [
    "my_tuple = (1, 2, 3, 4, 5)\n",
    "element = my_tuple[2]  # 获取元组中索引为2的元素，结果为 3"
   ]
  },
  {
   "cell_type": "code",
   "execution_count": null,
   "id": "aaec1c96-d1e5-4eda-8f4a-8a161318546f",
   "metadata": {},
   "outputs": [],
   "source": []
  },
  {
   "cell_type": "code",
   "execution_count": null,
   "id": "4f2fd33b-9bc4-4464-9662-30adc5341f3e",
   "metadata": {},
   "outputs": [],
   "source": [
    "【例2.5】字符串数据与获取单个元素。"
   ]
  },
  {
   "cell_type": "code",
   "execution_count": 5,
   "id": "22ab70f6-089b-489a-b876-c9219330cb0c",
   "metadata": {},
   "outputs": [],
   "source": [
    "my_string = \"Hello, World!\"\n",
    "character = my_string[7]  # 获取字符串中索引为7的字符，结果为 \"W\""
   ]
  },
  {
   "cell_type": "code",
   "execution_count": null,
   "id": "0ccabf3d-f939-4258-ba29-b91e7b67c682",
   "metadata": {},
   "outputs": [],
   "source": []
  },
  {
   "cell_type": "code",
   "execution_count": null,
   "id": "66b3e2b3-0c80-48f9-aade-5a77a88cc838",
   "metadata": {},
   "outputs": [],
   "source": [
    "【例2.6】list、tuple、str数据与元素切片。"
   ]
  },
  {
   "cell_type": "code",
   "execution_count": null,
   "id": "9d622d49-bc16-4051-8206-9560e62405ad",
   "metadata": {},
   "outputs": [],
   "source": [
    "my_list = [1, 2, 3, 4, 5]\n",
    "subset = my_list[1:4]  # 获取索引1到3的子集，结果为 [2, 3, 4]\n",
    "my_tuple = (1, 2, 3, 4, 5)\n",
    "subset = my_tuple[1:4]  # 获取索引1到3的子集，结果为 (2, 3, 4)\n",
    "my_string = \"Hello, World!\"\n",
    "subset = my_string[7:12]  # 获取索引7到11的子集，结果为 \"World\""
   ]
  },
  {
   "cell_type": "code",
   "execution_count": null,
   "id": "8536637f-d758-4d92-b908-fc5cd2060704",
   "metadata": {},
   "outputs": [],
   "source": []
  },
  {
   "cell_type": "code",
   "execution_count": null,
   "id": "c56b18cc-9cb0-4cf0-b37d-7dd8be1b3394",
   "metadata": {},
   "outputs": [],
   "source": [
    " 【例2.8】集合元素的增删。"
   ]
  },
  {
   "cell_type": "code",
   "execution_count": 6,
   "id": "4328ab98-533d-4e20-a633-0631920335f6",
   "metadata": {},
   "outputs": [],
   "source": [
    "   my_set = {1, 2, 3}\n",
    "   my_set.add(4)  # 结果为 {1, 2, 3, 4}\n",
    "   my_set.update([4, 5, 6])  # 结果为 {1, 2, 3, 4, 5, 6}\n",
    "   my_set.remove(3)  # 结果为 {1, 2, 4, 5, 6}\n",
    "   my_set.discard(5)  # 结果为 {1, 2, 4, 6}\n",
    "   my_set.pop()  # 随机移除一个元素并返回，结果可能为 {1, 2, 4} 等\n",
    "   my_set = {1, 2, 3, 4, 5}\n",
    "   my_set.clear()  # 结果为 set()"
   ]
  },
  {
   "cell_type": "code",
   "execution_count": null,
   "id": "d3133028-94f2-43fa-aabc-d7349ded5f52",
   "metadata": {},
   "outputs": [],
   "source": []
  },
  {
   "cell_type": "code",
   "execution_count": null,
   "id": "c6042703-57bc-4203-8a63-dcab8f8d90a7",
   "metadata": {},
   "outputs": [],
   "source": [
    " 【例2.8】集合元素的增删。"
   ]
  },
  {
   "cell_type": "code",
   "execution_count": null,
   "id": "de339e15-ff45-42ba-a594-965b9e130a26",
   "metadata": {},
   "outputs": [],
   "source": [
    "   my_set = {1, 2, 3}\n",
    "   my_set.add(4)  # 结果为 {1, 2, 3, 4}\n",
    "   my_set.update([4, 5, 6])  # 结果为 {1, 2, 3, 4, 5, 6}\n",
    "   my_set.remove(3)  # 结果为 {1, 2, 4, 5, 6}\n",
    "   my_set.discard(5)  # 结果为 {1, 2, 4, 6}\n",
    "   my_set.pop()  # 随机移除一个元素并返回，结果可能为 {1, 2, 4} 等\n",
    "   my_set = {1, 2, 3, 4, 5}\n",
    "   my_set.clear()  # 结果为 set()"
   ]
  },
  {
   "cell_type": "code",
   "execution_count": null,
   "id": "47f1dd77-7e6e-4357-b341-58445c5711c5",
   "metadata": {},
   "outputs": [],
   "source": []
  },
  {
   "cell_type": "code",
   "execution_count": null,
   "id": "c3317ad1-9aee-4cf1-9fb5-39c0272ff2b9",
   "metadata": {},
   "outputs": [],
   "source": [
    "【例2.18】条件语句 (if-elif-else)示例。输入一个数字，判断它的正负零状态。"
   ]
  },
  {
   "cell_type": "code",
   "execution_count": 8,
   "id": "2de64355-6a61-4990-8537-936957e1f4f6",
   "metadata": {},
   "outputs": [
    {
     "name": "stdin",
     "output_type": "stream",
     "text": [
      "请输入一个数字： 2\n"
     ]
    },
    {
     "name": "stdout",
     "output_type": "stream",
     "text": [
      "这是一个正数\n"
     ]
    }
   ],
   "source": [
    "num = float(input(\"请输入一个数字：\"))\n",
    "# 条件语句\n",
    "if num > 0:\n",
    "    print(\"这是一个正数\")\n",
    "elif num == 0:\n",
    "    print(\"这是零\")\n",
    "else:\n",
    "    print(\"这是一个负数\")"
   ]
  },
  {
   "cell_type": "code",
   "execution_count": null,
   "id": "395e1314-bfb8-410e-b533-dae84a12a947",
   "metadata": {},
   "outputs": [],
   "source": []
  }
 ],
 "metadata": {
  "kernelspec": {
   "display_name": "Python 3 (ipykernel)",
   "language": "python",
   "name": "python3"
  },
  "language_info": {
   "codemirror_mode": {
    "name": "ipython",
    "version": 3
   },
   "file_extension": ".py",
   "mimetype": "text/x-python",
   "name": "python",
   "nbconvert_exporter": "python",
   "pygments_lexer": "ipython3",
   "version": "3.10.2"
  }
 },
 "nbformat": 4,
 "nbformat_minor": 5
}
