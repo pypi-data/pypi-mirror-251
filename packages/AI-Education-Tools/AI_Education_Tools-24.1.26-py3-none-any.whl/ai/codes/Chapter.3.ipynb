{
 "cells": [
  {
   "cell_type": "markdown",
   "id": "ae6630b7-f094-4f52-8bc8-c4a9ba706842",
   "metadata": {},
   "source": [
    "## 【例3.1】使用 OpenML 模块获取数据集。\n",
    "首先，在OpenML网站查找iris数据集的元数据信息（见图 3.9），得到数据ID为61，然后再代码中按照ID获取数据。"
   ]
  },
  {
   "cell_type": "code",
   "execution_count": 2,
   "id": "35bae2e6-2a64-4cdc-9473-c8faebc8e200",
   "metadata": {},
   "outputs": [
    {
     "name": "stderr",
     "output_type": "stream",
     "text": [
      "C:\\Python\\Python310\\lib\\site-packages\\openml\\datasets\\functions.py:438: FutureWarning: Starting from Version 0.15 `download_data`, `download_qualities`, and `download_features_meta_data` will all be ``False`` instead of ``True`` by default to enable lazy loading. To disable this message until version 0.15 explicitly set `download_data`, `download_qualities`, and `download_features_meta_data` to a bool while calling `get_dataset`.\n",
      "  warnings.warn(\n"
     ]
    },
    {
     "name": "stdout",
     "output_type": "stream",
     "text": [
      "     sepallength  sepalwidth  petallength  petalwidth           class\n",
      "0            5.1         3.5          1.4         0.2     Iris-setosa\n",
      "1            4.9         3.0          1.4         0.2     Iris-setosa\n",
      "2            4.7         3.2          1.3         0.2     Iris-setosa\n",
      "3            4.6         3.1          1.5         0.2     Iris-setosa\n",
      "4            5.0         3.6          1.4         0.2     Iris-setosa\n",
      "..           ...         ...          ...         ...             ...\n",
      "145          6.7         3.0          5.2         2.3  Iris-virginica\n",
      "146          6.3         2.5          5.0         1.9  Iris-virginica\n",
      "147          6.5         3.0          5.2         2.0  Iris-virginica\n",
      "148          6.2         3.4          5.4         2.3  Iris-virginica\n",
      "149          5.9         3.0          5.1         1.8  Iris-virginica\n",
      "\n",
      "[150 rows x 5 columns]\n"
     ]
    }
   ],
   "source": [
    "\n",
    "import openml\n",
    "iris = openml.datasets.get_dataset(61)\n",
    "X, y, a, b = iris.get_data()\n",
    "print(X)\n"
   ]
  },
  {
   "cell_type": "code",
   "execution_count": 3,
   "id": "fa66d591-210b-4954-b4f7-83d6c26f72d3",
   "metadata": {},
   "outputs": [
    {
     "name": "stdout",
     "output_type": "stream",
     "text": [
      "     sepallength  sepalwidth  petallength  petalwidth           class\n",
      "0            5.1         3.5          1.4         0.2     Iris-setosa\n",
      "1            4.9         3.0          1.4         0.2     Iris-setosa\n",
      "2            4.7         3.2          1.3         0.2     Iris-setosa\n",
      "3            4.6         3.1          1.5         0.2     Iris-setosa\n",
      "4            5.0         3.6          1.4         0.2     Iris-setosa\n",
      "..           ...         ...          ...         ...             ...\n",
      "145          6.7         3.0          5.2         2.3  Iris-virginica\n",
      "146          6.3         2.5          5.0         1.9  Iris-virginica\n",
      "147          6.5         3.0          5.2         2.0  Iris-virginica\n",
      "148          6.2         3.4          5.4         2.3  Iris-virginica\n",
      "149          5.9         3.0          5.1         1.8  Iris-virginica\n",
      "\n",
      "[150 rows x 5 columns]\n"
     ]
    }
   ],
   "source": [
    "import openml\n",
    "\n",
    "# Explicitly set download parameters to suppress the FutureWarning\n",
    "iris = openml.datasets.get_dataset(61, download_data=True, download_qualities=True, download_features_meta_data=True)\n",
    "\n",
    "# Retrieve features (X) and labels (y)\n",
    "X, y, a, b = iris.get_data()\n",
    "print(X)\n"
   ]
  },
  {
   "cell_type": "code",
   "execution_count": 4,
   "id": "489c7f89-3cb3-4ef0-877d-6e58eaaf3473",
   "metadata": {},
   "outputs": [
    {
     "name": "stdout",
     "output_type": "stream",
     "text": [
      "None\n"
     ]
    }
   ],
   "source": [
    "print(y)"
   ]
  },
  {
   "cell_type": "code",
   "execution_count": 5,
   "id": "893b06d9-0629-4aa1-8f23-e08f5e480f0c",
   "metadata": {},
   "outputs": [
    {
     "name": "stdout",
     "output_type": "stream",
     "text": [
      "[False, False, False, False, True]\n"
     ]
    }
   ],
   "source": [
    "print(a)"
   ]
  },
  {
   "cell_type": "code",
   "execution_count": 6,
   "id": "c8371854-d51d-4337-abad-bfe22cbb640b",
   "metadata": {},
   "outputs": [
    {
     "name": "stdout",
     "output_type": "stream",
     "text": [
      "['sepallength', 'sepalwidth', 'petallength', 'petalwidth', 'class']\n"
     ]
    }
   ],
   "source": [
    "print(b)"
   ]
  },
  {
   "cell_type": "code",
   "execution_count": 8,
   "id": "ece9cde6-d151-4d04-8efa-d58440bc746a",
   "metadata": {},
   "outputs": [
    {
     "name": "stdout",
     "output_type": "stream",
     "text": [
      "Features (X):\n",
      "     sepallength  sepalwidth  petallength  petalwidth           class\n",
      "0            5.1         3.5          1.4         0.2     Iris-setosa\n",
      "1            4.9         3.0          1.4         0.2     Iris-setosa\n",
      "2            4.7         3.2          1.3         0.2     Iris-setosa\n",
      "3            4.6         3.1          1.5         0.2     Iris-setosa\n",
      "4            5.0         3.6          1.4         0.2     Iris-setosa\n",
      "..           ...         ...          ...         ...             ...\n",
      "145          6.7         3.0          5.2         2.3  Iris-virginica\n",
      "146          6.3         2.5          5.0         1.9  Iris-virginica\n",
      "147          6.5         3.0          5.2         2.0  Iris-virginica\n",
      "148          6.2         3.4          5.4         2.3  Iris-virginica\n",
      "149          5.9         3.0          5.1         1.8  Iris-virginica\n",
      "\n",
      "[150 rows x 5 columns]\n",
      "\n",
      "Labels (y):\n",
      "None\n"
     ]
    },
    {
     "name": "stderr",
     "output_type": "stream",
     "text": [
      "C:\\Python\\Python310\\lib\\site-packages\\openml\\datasets\\functions.py:438: FutureWarning: Starting from Version 0.15 `download_data`, `download_qualities`, and `download_features_meta_data` will all be ``False`` instead of ``True`` by default to enable lazy loading. To disable this message until version 0.15 explicitly set `download_data`, `download_qualities`, and `download_features_meta_data` to a bool while calling `get_dataset`.\n",
      "  warnings.warn(\n"
     ]
    }
   ],
   "source": [
    "import openml\n",
    "\n",
    "# Get the Iris dataset (ID 61)\n",
    "iris = openml.datasets.get_dataset(61)\n",
    "\n",
    "# Retrieve features (X) and labels (y)\n",
    "data_tuple = iris.get_data()\n",
    "X, y, _, _ = data_tuple\n",
    "\n",
    "# Print features and labels\n",
    "print(\"Features (X):\")\n",
    "print(X)\n",
    "print(\"\\nLabels (y):\")\n",
    "print(y)\n",
    "\n"
   ]
  },
  {
   "cell_type": "markdown",
   "id": "f1041263-bcff-44a1-bc2d-df55575f8836",
   "metadata": {},
   "source": [
    "## 【例3.2】演示Scikit-learn获取OpenML数据集。数据集的名称可以在OpenML网站上查询获得，这里数据集的名称为iris，。"
   ]
  },
  {
   "cell_type": "code",
   "execution_count": 10,
   "id": "6d4c8b8b-55b9-4b06-a26e-d7b885f60e5a",
   "metadata": {},
   "outputs": [
    {
     "name": "stdout",
     "output_type": "stream",
     "text": [
      "<class 'sklearn.utils._bunch.Bunch'>\n",
      "**Author**: R.A. Fisher  \n",
      "**Source**: [UCI](https://archive.ics.uci.edu/ml/datasets/Iris) - 1936 - Donated by Michael Marshall  \n",
      "**Please cite**:   \n",
      "\n",
      "**Iris Plants Database**  \n",
      "This is perhaps the best known database to be found in the pattern recognition literature.  Fisher's paper is a classic in the field and is referenced frequently to this day.  (See Duda & Hart, for example.)  The data set contains 3 classes of 50 instances each, where each class refers to a type of iris plant.  One class is     linearly separable from the other 2; the latter are NOT linearly separable from each other.\n",
      "\n",
      "Predicted attribute: class of iris plant.  \n",
      "This is an exceedingly simple domain.  \n",
      " \n",
      "### Attribute Information:\n",
      "    1. sepal length in cm\n",
      "    2. sepal width in cm\n",
      "    3. petal length in cm\n",
      "    4. petal width in cm\n",
      "    5. class: \n",
      "       -- Iris Setosa\n",
      "       -- Iris Versicolour\n",
      "       -- Iris Virginica\n",
      "\n",
      "Downloaded from openml.org.\n",
      "(150, 4) (150,)\n",
      "<class 'pandas.core.frame.DataFrame'> <class 'pandas.core.series.Series'>\n"
     ]
    }
   ],
   "source": [
    "\n",
    "from sklearn.datasets import fetch_openml\n",
    "# 获取openml数据集\n",
    "dataset=fetch_openml(name='iris', version=1, data_home='./data', return_X_y=False, as_frame=True,parser='auto')\n",
    "print(type(dataset))\n",
    "# 输出数据集的描述信息\n",
    "print(dataset.DESCR)\n",
    "# 输出特征数据和标签数据\n",
    "X = dataset.data\n",
    "y = dataset.target\n",
    "print(X.shape, y.shape)\n",
    "print(type(X),type(y))\n"
   ]
  },
  {
   "cell_type": "markdown",
   "id": "b2ec9810-9bf5-4ba3-bd45-4e0ea9ca20c4",
   "metadata": {},
   "source": [
    "## 【例3.3】演示Scikit-learn获取OpenML数据集iris、wine、mnist。"
   ]
  },
  {
   "cell_type": "code",
   "execution_count": 11,
   "id": "f4d50d81-016b-4aae-9ba5-002be0f56b76",
   "metadata": {},
   "outputs": [
    {
     "name": "stderr",
     "output_type": "stream",
     "text": [
      "[Parallel(n_jobs=-1)]: Using backend LokyBackend with 12 concurrent workers.\n"
     ]
    },
    {
     "name": "stdout",
     "output_type": "stream",
     "text": [
      "iris\n",
      "wine\n",
      "mnist_784\n"
     ]
    },
    {
     "name": "stderr",
     "output_type": "stream",
     "text": [
      "[Parallel(n_jobs=-1)]: Done   3 out of   3 | elapsed:   35.5s finished\n"
     ]
    }
   ],
   "source": [
    "\n",
    "from sklearn.datasets import fetch_openml\n",
    "from joblib import Parallel, delayed\n",
    "\n",
    "# 使用 Parallel 和 delayed 函数并行下载数据集\n",
    "datasets = ['iris', 'wine', 'mnist_784']\n",
    "results = Parallel(n_jobs=-1, verbose=2)(\n",
    "    delayed(fetch_openml)(name=d, version=1,cache=True,parser='auto') for d in datasets)\n",
    "\n",
    "# 打印下载完成的数据集的名称\n",
    "for r in results:\n",
    "    print(r['details']['name'])\n"
   ]
  },
  {
   "cell_type": "code",
   "execution_count": 13,
   "id": "352189de-5866-46aa-b7d0-f8aacbccf19b",
   "metadata": {},
   "outputs": [
    {
     "name": "stderr",
     "output_type": "stream",
     "text": [
      "[Parallel(n_jobs=-1)]: Using backend LokyBackend with 12 concurrent workers.\n"
     ]
    },
    {
     "name": "stdout",
     "output_type": "stream",
     "text": [
      "Dataset Name: iris\n"
     ]
    },
    {
     "name": "stderr",
     "output_type": "stream",
     "text": [
      "[Parallel(n_jobs=-1)]: Done   3 out of   3 | elapsed:   18.4s finished\n"
     ]
    },
    {
     "ename": "KeyError",
     "evalue": "'info'",
     "output_type": "error",
     "traceback": [
      "\u001b[1;31m---------------------------------------------------------------------------\u001b[0m",
      "\u001b[1;31mKeyError\u001b[0m                                  Traceback (most recent call last)",
      "Input \u001b[1;32mIn [13]\u001b[0m, in \u001b[0;36m<module>\u001b[1;34m\u001b[0m\n\u001b[0;32m     10\u001b[0m \u001b[38;5;28;01mfor\u001b[39;00m r \u001b[38;5;129;01min\u001b[39;00m results:\n\u001b[0;32m     11\u001b[0m     \u001b[38;5;28mprint\u001b[39m(\u001b[38;5;124mf\u001b[39m\u001b[38;5;124m\"\u001b[39m\u001b[38;5;124mDataset Name: \u001b[39m\u001b[38;5;132;01m{\u001b[39;00mr[\u001b[38;5;124m'\u001b[39m\u001b[38;5;124mdetails\u001b[39m\u001b[38;5;124m'\u001b[39m][\u001b[38;5;124m'\u001b[39m\u001b[38;5;124mname\u001b[39m\u001b[38;5;124m'\u001b[39m]\u001b[38;5;132;01m}\u001b[39;00m\u001b[38;5;124m\"\u001b[39m)\n\u001b[1;32m---> 12\u001b[0m     \u001b[38;5;28mprint\u001b[39m(\u001b[38;5;124mf\u001b[39m\u001b[38;5;124m\"\u001b[39m\u001b[38;5;124mDataset Info: \u001b[39m\u001b[38;5;132;01m{\u001b[39;00mr[\u001b[38;5;124m'\u001b[39m\u001b[38;5;124mdetails\u001b[39m\u001b[38;5;124m'\u001b[39m][\u001b[38;5;124m'\u001b[39m\u001b[38;5;124minfo\u001b[39m\u001b[38;5;124m'\u001b[39m]\u001b[38;5;132;01m}\u001b[39;00m\u001b[38;5;124m\"\u001b[39m)\n\u001b[0;32m     13\u001b[0m     \u001b[38;5;28mprint\u001b[39m()\n",
      "\u001b[1;31mKeyError\u001b[0m: 'info'"
     ]
    }
   ],
   "source": [
    "from sklearn.datasets import fetch_openml\n",
    "from joblib import Parallel, delayed\n",
    "\n",
    "# 使用 Parallel 和 delayed 函数并行下载数据集\n",
    "datasets = ['iris', 'wine', 'mnist_784']\n",
    "results = Parallel(n_jobs=-1, verbose=2)(\n",
    "    delayed(fetch_openml)(name=d, version=1, cache=True, parser='auto') for d in datasets)\n",
    "\n",
    "# 打印下载完成的数据集的名称和信息\n",
    "for r in results:\n",
    "    print(f\"Dataset Name: {r['details']['name']}\")\n",
    "    print(f\"Dataset Info: {r['details']['info']}\")\n",
    "    print()\n"
   ]
  },
  {
   "cell_type": "code",
   "execution_count": 12,
   "id": "b6608de6-6f98-4353-917b-81454b0b6ca8",
   "metadata": {},
   "outputs": [
    {
     "ename": "ImportError",
     "evalue": "\n`load_boston` has been removed from scikit-learn since version 1.2.\n\nThe Boston housing prices dataset has an ethical problem: as\ninvestigated in [1], the authors of this dataset engineered a\nnon-invertible variable \"B\" assuming that racial self-segregation had a\npositive impact on house prices [2]. Furthermore the goal of the\nresearch that led to the creation of this dataset was to study the\nimpact of air quality but it did not give adequate demonstration of the\nvalidity of this assumption.\n\nThe scikit-learn maintainers therefore strongly discourage the use of\nthis dataset unless the purpose of the code is to study and educate\nabout ethical issues in data science and machine learning.\n\nIn this special case, you can fetch the dataset from the original\nsource::\n\n    import pandas as pd\n    import numpy as np\n\n    data_url = \"http://lib.stat.cmu.edu/datasets/boston\"\n    raw_df = pd.read_csv(data_url, sep=\"\\s+\", skiprows=22, header=None)\n    data = np.hstack([raw_df.values[::2, :], raw_df.values[1::2, :2]])\n    target = raw_df.values[1::2, 2]\n\nAlternative datasets include the California housing dataset and the\nAmes housing dataset. You can load the datasets as follows::\n\n    from sklearn.datasets import fetch_california_housing\n    housing = fetch_california_housing()\n\nfor the California housing dataset and::\n\n    from sklearn.datasets import fetch_openml\n    housing = fetch_openml(name=\"house_prices\", as_frame=True)\n\nfor the Ames housing dataset.\n\n[1] M Carlisle.\n\"Racist data destruction?\"\n<https://medium.com/@docintangible/racist-data-destruction-113e3eff54a8>\n\n[2] Harrison Jr, David, and Daniel L. Rubinfeld.\n\"Hedonic housing prices and the demand for clean air.\"\nJournal of environmental economics and management 5.1 (1978): 81-102.\n<https://www.researchgate.net/publication/4974606_Hedonic_housing_prices_and_the_demand_for_clean_air>\n",
     "output_type": "error",
     "traceback": [
      "\u001b[1;31m---------------------------------------------------------------------------\u001b[0m",
      "\u001b[1;31mImportError\u001b[0m                               Traceback (most recent call last)",
      "Input \u001b[1;32mIn [12]\u001b[0m, in \u001b[0;36m<module>\u001b[1;34m\u001b[0m\n\u001b[1;32m----> 1\u001b[0m \u001b[38;5;28;01mfrom\u001b[39;00m \u001b[38;5;21;01msklearn\u001b[39;00m\u001b[38;5;21;01m.\u001b[39;00m\u001b[38;5;21;01mdatasets\u001b[39;00m \u001b[38;5;28;01mimport\u001b[39;00m load_boston\n\u001b[0;32m      2\u001b[0m boston \u001b[38;5;241m=\u001b[39m load_boston()\n\u001b[0;32m      3\u001b[0m \u001b[38;5;28mprint\u001b[39m(boston\u001b[38;5;241m.\u001b[39mDESCR)\n",
      "File \u001b[1;32mC:\\Python\\Python310\\lib\\site-packages\\sklearn\\datasets\\__init__.py:157\u001b[0m, in \u001b[0;36m__getattr__\u001b[1;34m(name)\u001b[0m\n\u001b[0;32m    108\u001b[0m \u001b[38;5;28;01mif\u001b[39;00m name \u001b[38;5;241m==\u001b[39m \u001b[38;5;124m\"\u001b[39m\u001b[38;5;124mload_boston\u001b[39m\u001b[38;5;124m\"\u001b[39m:\n\u001b[0;32m    109\u001b[0m     msg \u001b[38;5;241m=\u001b[39m textwrap\u001b[38;5;241m.\u001b[39mdedent(\u001b[38;5;124m\"\"\"\u001b[39m\n\u001b[0;32m    110\u001b[0m \u001b[38;5;124m        `load_boston` has been removed from scikit-learn since version 1.2.\u001b[39m\n\u001b[0;32m    111\u001b[0m \n\u001b[1;32m   (...)\u001b[0m\n\u001b[0;32m    155\u001b[0m \u001b[38;5;124m        <https://www.researchgate.net/publication/4974606_Hedonic_housing_prices_and_the_demand_for_clean_air>\u001b[39m\n\u001b[0;32m    156\u001b[0m \u001b[38;5;124m        \u001b[39m\u001b[38;5;124m\"\"\"\u001b[39m)\n\u001b[1;32m--> 157\u001b[0m     \u001b[38;5;28;01mraise\u001b[39;00m \u001b[38;5;167;01mImportError\u001b[39;00m(msg)\n\u001b[0;32m    158\u001b[0m \u001b[38;5;28;01mtry\u001b[39;00m:\n\u001b[0;32m    159\u001b[0m     \u001b[38;5;28;01mreturn\u001b[39;00m \u001b[38;5;28mglobals\u001b[39m()[name]\n",
      "\u001b[1;31mImportError\u001b[0m: \n`load_boston` has been removed from scikit-learn since version 1.2.\n\nThe Boston housing prices dataset has an ethical problem: as\ninvestigated in [1], the authors of this dataset engineered a\nnon-invertible variable \"B\" assuming that racial self-segregation had a\npositive impact on house prices [2]. Furthermore the goal of the\nresearch that led to the creation of this dataset was to study the\nimpact of air quality but it did not give adequate demonstration of the\nvalidity of this assumption.\n\nThe scikit-learn maintainers therefore strongly discourage the use of\nthis dataset unless the purpose of the code is to study and educate\nabout ethical issues in data science and machine learning.\n\nIn this special case, you can fetch the dataset from the original\nsource::\n\n    import pandas as pd\n    import numpy as np\n\n    data_url = \"http://lib.stat.cmu.edu/datasets/boston\"\n    raw_df = pd.read_csv(data_url, sep=\"\\s+\", skiprows=22, header=None)\n    data = np.hstack([raw_df.values[::2, :], raw_df.values[1::2, :2]])\n    target = raw_df.values[1::2, 2]\n\nAlternative datasets include the California housing dataset and the\nAmes housing dataset. You can load the datasets as follows::\n\n    from sklearn.datasets import fetch_california_housing\n    housing = fetch_california_housing()\n\nfor the California housing dataset and::\n\n    from sklearn.datasets import fetch_openml\n    housing = fetch_openml(name=\"house_prices\", as_frame=True)\n\nfor the Ames housing dataset.\n\n[1] M Carlisle.\n\"Racist data destruction?\"\n<https://medium.com/@docintangible/racist-data-destruction-113e3eff54a8>\n\n[2] Harrison Jr, David, and Daniel L. Rubinfeld.\n\"Hedonic housing prices and the demand for clean air.\"\nJournal of environmental economics and management 5.1 (1978): 81-102.\n<https://www.researchgate.net/publication/4974606_Hedonic_housing_prices_and_the_demand_for_clean_air>\n"
     ]
    }
   ],
   "source": [
    "from sklearn.datasets import load_boston\n",
    "boston = load_boston()\n",
    "print(boston.DESCR)\n"
   ]
  },
  {
   "cell_type": "code",
   "execution_count": 14,
   "id": "53edbab2-295c-44de-80a1-afcff7e30d4c",
   "metadata": {},
   "outputs": [
    {
     "name": "stdout",
     "output_type": "stream",
     "text": [
      ".. _california_housing_dataset:\n",
      "\n",
      "California Housing dataset\n",
      "--------------------------\n",
      "\n",
      "**Data Set Characteristics:**\n",
      "\n",
      "    :Number of Instances: 20640\n",
      "\n",
      "    :Number of Attributes: 8 numeric, predictive attributes and the target\n",
      "\n",
      "    :Attribute Information:\n",
      "        - MedInc        median income in block group\n",
      "        - HouseAge      median house age in block group\n",
      "        - AveRooms      average number of rooms per household\n",
      "        - AveBedrms     average number of bedrooms per household\n",
      "        - Population    block group population\n",
      "        - AveOccup      average number of household members\n",
      "        - Latitude      block group latitude\n",
      "        - Longitude     block group longitude\n",
      "\n",
      "    :Missing Attribute Values: None\n",
      "\n",
      "This dataset was obtained from the StatLib repository.\n",
      "https://www.dcc.fc.up.pt/~ltorgo/Regression/cal_housing.html\n",
      "\n",
      "The target variable is the median house value for California districts,\n",
      "expressed in hundreds of thousands of dollars ($100,000).\n",
      "\n",
      "This dataset was derived from the 1990 U.S. census, using one row per census\n",
      "block group. A block group is the smallest geographical unit for which the U.S.\n",
      "Census Bureau publishes sample data (a block group typically has a population\n",
      "of 600 to 3,000 people).\n",
      "\n",
      "A household is a group of people residing within a home. Since the average\n",
      "number of rooms and bedrooms in this dataset are provided per household, these\n",
      "columns may take surprisingly large values for block groups with few households\n",
      "and many empty houses, such as vacation resorts.\n",
      "\n",
      "It can be downloaded/loaded using the\n",
      ":func:`sklearn.datasets.fetch_california_housing` function.\n",
      "\n",
      ".. topic:: References\n",
      "\n",
      "    - Pace, R. Kelley and Ronald Barry, Sparse Spatial Autoregressions,\n",
      "      Statistics and Probability Letters, 33 (1997) 291-297\n",
      "\n"
     ]
    }
   ],
   "source": [
    "from sklearn.datasets import fetch_california_housing\n",
    "\n",
    "# Load the California housing dataset\n",
    "california_housing = fetch_california_housing()\n",
    "\n",
    "# Print the dataset description\n",
    "print(california_housing.DESCR)\n"
   ]
  },
  {
   "cell_type": "code",
   "execution_count": 15,
   "id": "b90e9584-a5c2-491d-9598-db9f6f316d3e",
   "metadata": {},
   "outputs": [
    {
     "name": "stdout",
     "output_type": "stream",
     "text": [
      ".. _wine_dataset:\n",
      "\n",
      "Wine recognition dataset\n",
      "------------------------\n",
      "\n",
      "**Data Set Characteristics:**\n",
      "\n",
      "    :Number of Instances: 178\n",
      "    :Number of Attributes: 13 numeric, predictive attributes and the class\n",
      "    :Attribute Information:\n",
      " \t\t- Alcohol\n",
      " \t\t- Malic acid\n",
      " \t\t- Ash\n",
      "\t\t- Alcalinity of ash  \n",
      " \t\t- Magnesium\n",
      "\t\t- Total phenols\n",
      " \t\t- Flavanoids\n",
      " \t\t- Nonflavanoid phenols\n",
      " \t\t- Proanthocyanins\n",
      "\t\t- Color intensity\n",
      " \t\t- Hue\n",
      " \t\t- OD280/OD315 of diluted wines\n",
      " \t\t- Proline\n",
      "\n",
      "    - class:\n",
      "            - class_0\n",
      "            - class_1\n",
      "            - class_2\n",
      "\t\t\n",
      "    :Summary Statistics:\n",
      "    \n",
      "    ============================= ==== ===== ======= =====\n",
      "                                   Min   Max   Mean     SD\n",
      "    ============================= ==== ===== ======= =====\n",
      "    Alcohol:                      11.0  14.8    13.0   0.8\n",
      "    Malic Acid:                   0.74  5.80    2.34  1.12\n",
      "    Ash:                          1.36  3.23    2.36  0.27\n",
      "    Alcalinity of Ash:            10.6  30.0    19.5   3.3\n",
      "    Magnesium:                    70.0 162.0    99.7  14.3\n",
      "    Total Phenols:                0.98  3.88    2.29  0.63\n",
      "    Flavanoids:                   0.34  5.08    2.03  1.00\n",
      "    Nonflavanoid Phenols:         0.13  0.66    0.36  0.12\n",
      "    Proanthocyanins:              0.41  3.58    1.59  0.57\n",
      "    Colour Intensity:              1.3  13.0     5.1   2.3\n",
      "    Hue:                          0.48  1.71    0.96  0.23\n",
      "    OD280/OD315 of diluted wines: 1.27  4.00    2.61  0.71\n",
      "    Proline:                       278  1680     746   315\n",
      "    ============================= ==== ===== ======= =====\n",
      "\n",
      "    :Missing Attribute Values: None\n",
      "    :Class Distribution: class_0 (59), class_1 (71), class_2 (48)\n",
      "    :Creator: R.A. Fisher\n",
      "    :Donor: Michael Marshall (MARSHALL%PLU@io.arc.nasa.gov)\n",
      "    :Date: July, 1988\n",
      "\n",
      "This is a copy of UCI ML Wine recognition datasets.\n",
      "https://archive.ics.uci.edu/ml/machine-learning-databases/wine/wine.data\n",
      "\n",
      "The data is the results of a chemical analysis of wines grown in the same\n",
      "region in Italy by three different cultivators. There are thirteen different\n",
      "measurements taken for different constituents found in the three types of\n",
      "wine.\n",
      "\n",
      "Original Owners: \n",
      "\n",
      "Forina, M. et al, PARVUS - \n",
      "An Extendible Package for Data Exploration, Classification and Correlation. \n",
      "Institute of Pharmaceutical and Food Analysis and Technologies,\n",
      "Via Brigata Salerno, 16147 Genoa, Italy.\n",
      "\n",
      "Citation:\n",
      "\n",
      "Lichman, M. (2013). UCI Machine Learning Repository\n",
      "[https://archive.ics.uci.edu/ml]. Irvine, CA: University of California,\n",
      "School of Information and Computer Science. \n",
      "\n",
      "|details-start|\n",
      "**References**\n",
      "|details-split|\n",
      "\n",
      "(1) S. Aeberhard, D. Coomans and O. de Vel, \n",
      "Comparison of Classifiers in High Dimensional Settings, \n",
      "Tech. Rep. no. 92-02, (1992), Dept. of Computer Science and Dept. of  \n",
      "Mathematics and Statistics, James Cook University of North Queensland. \n",
      "(Also submitted to Technometrics). \n",
      "\n",
      "The data was used with many others for comparing various \n",
      "classifiers. The classes are separable, though only RDA \n",
      "has achieved 100% correct classification. \n",
      "(RDA : 100%, QDA 99.4%, LDA 98.9%, 1NN 96.1% (z-transformed data)) \n",
      "(All results using the leave-one-out technique) \n",
      "\n",
      "(2) S. Aeberhard, D. Coomans and O. de Vel, \n",
      "\"THE CLASSIFICATION PERFORMANCE OF RDA\" \n",
      "Tech. Rep. no. 92-01, (1992), Dept. of Computer Science and Dept. of \n",
      "Mathematics and Statistics, James Cook University of North Queensland. \n",
      "(Also submitted to Journal of Chemometrics).\n",
      "\n",
      "|details-end|\n"
     ]
    }
   ],
   "source": [
    "from sklearn.datasets import load_wine\n",
    "wine = load_wine()\n",
    "print(wine.DESCR)\n"
   ]
  },
  {
   "cell_type": "code",
   "execution_count": null,
   "id": "1d4f3b88-e763-41ed-bc62-ddc0729902f5",
   "metadata": {},
   "outputs": [],
   "source": []
  },
  {
   "cell_type": "markdown",
   "id": "6af85476-9d73-41ac-b4b6-95c6f15ea1f3",
   "metadata": {},
   "source": [
    "## 【例3.5】使用make_blobs、make_classification、make_regression函数生成数据集的示例代码。"
   ]
  },
  {
   "cell_type": "code",
   "execution_count": 16,
   "id": "99d27ca4-1116-4752-b78a-62e98eba208c",
   "metadata": {},
   "outputs": [
    {
     "ename": "ValueError",
     "evalue": "n_classes(3) * n_clusters_per_class(2) must be smaller or equal 2**n_informative(2)=4",
     "output_type": "error",
     "traceback": [
      "\u001b[1;31m---------------------------------------------------------------------------\u001b[0m",
      "\u001b[1;31mValueError\u001b[0m                                Traceback (most recent call last)",
      "Input \u001b[1;32mIn [16]\u001b[0m, in \u001b[0;36m<module>\u001b[1;34m\u001b[0m\n\u001b[0;32m      3\u001b[0m X, y \u001b[38;5;241m=\u001b[39m make_blobs(n_samples\u001b[38;5;241m=\u001b[39m\u001b[38;5;241m100\u001b[39m, centers\u001b[38;5;241m=\u001b[39m\u001b[38;5;241m2\u001b[39m, random_state\u001b[38;5;241m=\u001b[39m\u001b[38;5;241m42\u001b[39m)\n\u001b[0;32m      4\u001b[0m \u001b[38;5;66;03m# 使用 make_classification 生成 3 类多分类数据集\u001b[39;00m\n\u001b[1;32m----> 5\u001b[0m X, y \u001b[38;5;241m=\u001b[39m \u001b[43mmake_classification\u001b[49m\u001b[43m(\u001b[49m\u001b[43mn_samples\u001b[49m\u001b[38;5;241;43m=\u001b[39;49m\u001b[38;5;241;43m100\u001b[39;49m\u001b[43m,\u001b[49m\u001b[43m \u001b[49m\u001b[43mn_classes\u001b[49m\u001b[38;5;241;43m=\u001b[39;49m\u001b[38;5;241;43m3\u001b[39;49m\u001b[43m,\u001b[49m\u001b[43m \u001b[49m\u001b[43mrandom_state\u001b[49m\u001b[38;5;241;43m=\u001b[39;49m\u001b[38;5;241;43m42\u001b[39;49m\u001b[43m)\u001b[49m\n\u001b[0;32m      6\u001b[0m \u001b[38;5;66;03m# 使用 make_regression 生成回归数据集\u001b[39;00m\n\u001b[0;32m      7\u001b[0m X, y \u001b[38;5;241m=\u001b[39m make_regression(n_samples\u001b[38;5;241m=\u001b[39m\u001b[38;5;241m100\u001b[39m, n_features\u001b[38;5;241m=\u001b[39m\u001b[38;5;241m2\u001b[39m, noise\u001b[38;5;241m=\u001b[39m\u001b[38;5;241m0.1\u001b[39m, random_state\u001b[38;5;241m=\u001b[39m\u001b[38;5;241m42\u001b[39m)\n",
      "File \u001b[1;32mC:\\Python\\Python310\\lib\\site-packages\\sklearn\\utils\\_param_validation.py:214\u001b[0m, in \u001b[0;36mvalidate_params.<locals>.decorator.<locals>.wrapper\u001b[1;34m(*args, **kwargs)\u001b[0m\n\u001b[0;32m    208\u001b[0m \u001b[38;5;28;01mtry\u001b[39;00m:\n\u001b[0;32m    209\u001b[0m     \u001b[38;5;28;01mwith\u001b[39;00m config_context(\n\u001b[0;32m    210\u001b[0m         skip_parameter_validation\u001b[38;5;241m=\u001b[39m(\n\u001b[0;32m    211\u001b[0m             prefer_skip_nested_validation \u001b[38;5;129;01mor\u001b[39;00m global_skip_validation\n\u001b[0;32m    212\u001b[0m         )\n\u001b[0;32m    213\u001b[0m     ):\n\u001b[1;32m--> 214\u001b[0m         \u001b[38;5;28;01mreturn\u001b[39;00m func(\u001b[38;5;241m*\u001b[39margs, \u001b[38;5;241m*\u001b[39m\u001b[38;5;241m*\u001b[39mkwargs)\n\u001b[0;32m    215\u001b[0m \u001b[38;5;28;01mexcept\u001b[39;00m InvalidParameterError \u001b[38;5;28;01mas\u001b[39;00m e:\n\u001b[0;32m    216\u001b[0m     \u001b[38;5;66;03m# When the function is just a wrapper around an estimator, we allow\u001b[39;00m\n\u001b[0;32m    217\u001b[0m     \u001b[38;5;66;03m# the function to delegate validation to the estimator, but we replace\u001b[39;00m\n\u001b[0;32m    218\u001b[0m     \u001b[38;5;66;03m# the name of the estimator by the name of the function in the error\u001b[39;00m\n\u001b[0;32m    219\u001b[0m     \u001b[38;5;66;03m# message to avoid confusion.\u001b[39;00m\n\u001b[0;32m    220\u001b[0m     msg \u001b[38;5;241m=\u001b[39m re\u001b[38;5;241m.\u001b[39msub(\n\u001b[0;32m    221\u001b[0m         \u001b[38;5;124mr\u001b[39m\u001b[38;5;124m\"\u001b[39m\u001b[38;5;124mparameter of \u001b[39m\u001b[38;5;124m\\\u001b[39m\u001b[38;5;124mw+ must be\u001b[39m\u001b[38;5;124m\"\u001b[39m,\n\u001b[0;32m    222\u001b[0m         \u001b[38;5;124mf\u001b[39m\u001b[38;5;124m\"\u001b[39m\u001b[38;5;124mparameter of \u001b[39m\u001b[38;5;132;01m{\u001b[39;00mfunc\u001b[38;5;241m.\u001b[39m\u001b[38;5;18m__qualname__\u001b[39m\u001b[38;5;132;01m}\u001b[39;00m\u001b[38;5;124m must be\u001b[39m\u001b[38;5;124m\"\u001b[39m,\n\u001b[0;32m    223\u001b[0m         \u001b[38;5;28mstr\u001b[39m(e),\n\u001b[0;32m    224\u001b[0m     )\n",
      "File \u001b[1;32mC:\\Python\\Python310\\lib\\site-packages\\sklearn\\datasets\\_samples_generator.py:209\u001b[0m, in \u001b[0;36mmake_classification\u001b[1;34m(n_samples, n_features, n_informative, n_redundant, n_repeated, n_classes, n_clusters_per_class, weights, flip_y, class_sep, hypercube, shift, scale, shuffle, random_state)\u001b[0m\n\u001b[0;32m    207\u001b[0m     msg \u001b[38;5;241m=\u001b[39m \u001b[38;5;124m\"\u001b[39m\u001b[38;5;124mn_classes(\u001b[39m\u001b[38;5;132;01m{}\u001b[39;00m\u001b[38;5;124m) * n_clusters_per_class(\u001b[39m\u001b[38;5;132;01m{}\u001b[39;00m\u001b[38;5;124m) must be\u001b[39m\u001b[38;5;124m\"\u001b[39m\n\u001b[0;32m    208\u001b[0m     msg \u001b[38;5;241m+\u001b[39m\u001b[38;5;241m=\u001b[39m \u001b[38;5;124m\"\u001b[39m\u001b[38;5;124m smaller or equal 2**n_informative(\u001b[39m\u001b[38;5;132;01m{}\u001b[39;00m\u001b[38;5;124m)=\u001b[39m\u001b[38;5;132;01m{}\u001b[39;00m\u001b[38;5;124m\"\u001b[39m\n\u001b[1;32m--> 209\u001b[0m     \u001b[38;5;28;01mraise\u001b[39;00m \u001b[38;5;167;01mValueError\u001b[39;00m(\n\u001b[0;32m    210\u001b[0m         msg\u001b[38;5;241m.\u001b[39mformat(\n\u001b[0;32m    211\u001b[0m             n_classes, n_clusters_per_class, n_informative, \u001b[38;5;241m2\u001b[39m\u001b[38;5;241m*\u001b[39m\u001b[38;5;241m*\u001b[39mn_informative\n\u001b[0;32m    212\u001b[0m         )\n\u001b[0;32m    213\u001b[0m     )\n\u001b[0;32m    215\u001b[0m \u001b[38;5;28;01mif\u001b[39;00m weights \u001b[38;5;129;01mis\u001b[39;00m \u001b[38;5;129;01mnot\u001b[39;00m \u001b[38;5;28;01mNone\u001b[39;00m:\n\u001b[0;32m    216\u001b[0m     \u001b[38;5;28;01mif\u001b[39;00m \u001b[38;5;28mlen\u001b[39m(weights) \u001b[38;5;129;01mnot\u001b[39;00m \u001b[38;5;129;01min\u001b[39;00m [n_classes, n_classes \u001b[38;5;241m-\u001b[39m \u001b[38;5;241m1\u001b[39m]:\n",
      "\u001b[1;31mValueError\u001b[0m: n_classes(3) * n_clusters_per_class(2) must be smaller or equal 2**n_informative(2)=4"
     ]
    }
   ],
   "source": [
    "from sklearn.datasets import make_blobs, make_classification, make_regression\n",
    "# 使用 make_blobs 生成 2 类聚类数据集\n",
    "X, y = make_blobs(n_samples=100, centers=2, random_state=42)\n",
    "# 使用 make_classification 生成 3 类多分类数据集\n",
    "X, y = make_classification(n_samples=100, n_classes=3, random_state=42)\n",
    "# 使用 make_regression 生成回归数据集\n",
    "X, y = make_regression(n_samples=100, n_features=2, noise=0.1, random_state=42)"
   ]
  },
  {
   "cell_type": "code",
   "execution_count": 17,
   "id": "5c51adb0-01eb-4e28-89c1-67d7454cf321",
   "metadata": {},
   "outputs": [
    {
     "data": {
      "image/png": "[encoded data removed]",
      "text/plain": [
       "<Figure size 432x288 with 1 Axes>"
      ]
     },
     "metadata": {
      "needs_background": "light"
     },
     "output_type": "display_data"
    },
    {
     "data": {
      "image/png": "[encoded data removed]",
      "text/plain": [
       "<Figure size 432x288 with 1 Axes>"
      ]
     },
     "metadata": {
      "needs_background": "light"
     },
     "output_type": "display_data"
    },
    {
     "data": {
      "image/png": "[encoded data removed]",
      "text/plain": [
       "<Figure size 432x288 with 1 Axes>"
      ]
     },
     "metadata": {
      "needs_background": "light"
     },
     "output_type": "display_data"
    }
   ],
   "source": [
    "import numpy as np\n",
    "import matplotlib.pyplot as plt\n",
    "from sklearn.datasets import make_blobs, make_classification, make_regression\n",
    "\n",
    "# Set a random seed for reproducibility\n",
    "np.random.seed(42)\n",
    "\n",
    "# Example 3.5: Generating datasets using make_blobs, make_classification, and make_regression\n",
    "\n",
    "# 1. make_blobs: Create a blob of points with specified centers and standard deviation\n",
    "X_blob, y_blob = make_blobs(n_samples=300, centers=3, random_state=42, cluster_std=1.0)\n",
    "plt.scatter(X_blob[:, 0], X_blob[:, 1], c=y_blob, cmap='viridis')\n",
    "plt.title(\"make_blobs Example\")\n",
    "plt.show()\n",
    "\n",
    "# 2. make_classification: Create a random classification dataset with specified parameters\n",
    "X_class, y_class = make_classification(n_samples=300, n_features=2, n_informative=2,\n",
    "                                       n_redundant=0, n_clusters_per_class=1, random_state=42)\n",
    "plt.scatter(X_class[:, 0], X_class[:, 1], c=y_class, cmap='viridis')\n",
    "plt.title(\"make_classification Example\")\n",
    "plt.show()\n",
    "\n",
    "# 3. make_regression: Create a random regression dataset with specified parameters\n",
    "X_reg, y_reg = make_regression(n_samples=300, n_features=1, noise=20, random_state=42)\n",
    "plt.scatter(X_reg, y_reg, color='blue')\n",
    "plt.title(\"make_regression Example\")\n",
    "plt.show()\n"
   ]
  },
  {
   "cell_type": "code",
   "execution_count": null,
   "id": "ec026488-ac52-478d-95ff-ca97d8e0b9f9",
   "metadata": {},
   "outputs": [],
   "source": []
  },
  {
   "cell_type": "code",
   "execution_count": null,
   "id": "319acb4a-dfe6-4d79-befb-78804007dc82",
   "metadata": {},
   "outputs": [],
   "source": [
    "【例3.6】数据的统计特征获取。可以使用Pandas中DataFrame对象的相关函数实现。"
   ]
  },
  {
   "cell_type": "code",
   "execution_count": 18,
   "id": "0af61f79-7375-4a54-8a84-4843e835b19a",
   "metadata": {},
   "outputs": [
    {
     "name": "stdout",
     "output_type": "stream",
     "text": [
      "最小值: 5\n",
      "最大值: 50\n",
      "平均数: 27.5\n",
      "中位数: 27.5\n",
      "众数: 5\n",
      "方差: 229.16666666666666\n",
      "标准差: 15.138251770487457\n",
      "百分位数(75%): 38.75\n",
      "偏度: 0.0\n",
      "峰度: -1.2000000000000002\n"
     ]
    }
   ],
   "source": [
    "import pandas as pd\n",
    "\n",
    "# 创建一个包含数据的DataFrame\n",
    "data = {'Value': [5, 10, 15, 20, 25, 30, 35, 40, 45, 50]}\n",
    "df = pd.DataFrame(data)\n",
    "\n",
    "# (1) 最小值\n",
    "min_value = df['Value'].min()\n",
    "\n",
    "# (2) 最大值\n",
    "max_value = df['Value'].max()\n",
    "\n",
    "# (3) 平均数\n",
    "mean_value = df['Value'].mean()\n",
    "\n",
    "# (4) 中位数\n",
    "median_value = df['Value'].median()\n",
    "\n",
    "# (5) 众数\n",
    "mode_value = df['Value'].mode()[0]  # 众数可能有多个，取第一个\n",
    "\n",
    "# (6) 方差\n",
    "variance_value = df['Value'].var()\n",
    "\n",
    "# (7) 标准差\n",
    "std_deviation_value = df['Value'].std()\n",
    "\n",
    "# (8) 百分位数\n",
    "percentile_value = df['Value'].quantile(0.75)  # 例如，获取第75个百分位数\n",
    "\n",
    "# (9) 偏度\n",
    "skewness_value = df['Value'].skew()\n",
    "\n",
    "# (10) 峰度\n",
    "kurtosis_value = df['Value'].kurt()\n",
    "\n",
    "# 打印结果\n",
    "print(f\"最小值: {min_value}\")\n",
    "print(f\"最大值: {max_value}\")\n",
    "print(f\"平均数: {mean_value}\")\n",
    "print(f\"中位数: {median_value}\")\n",
    "print(f\"众数: {mode_value}\")\n",
    "print(f\"方差: {variance_value}\")\n",
    "print(f\"标准差: {std_deviation_value}\")\n",
    "print(f\"百分位数(75%): {percentile_value}\")\n",
    "print(f\"偏度: {skewness_value}\")\n",
    "print(f\"峰度: {kurtosis_value}\")"
   ]
  },
  {
   "cell_type": "code",
   "execution_count": null,
   "id": "abc9eb95-eaef-4a1a-9872-803bb44ca8d6",
   "metadata": {},
   "outputs": [],
   "source": []
  },
  {
   "cell_type": "code",
   "execution_count": null,
   "id": "38f03a4e-1560-4d13-8b97-7850ec1b3e07",
   "metadata": {},
   "outputs": [],
   "source": [
    "【例3.7】切比雪夫距离计算示例。\n",
    "使用NumPy库可以很方便地计算切比雪夫距离，例如："
   ]
  },
  {
   "cell_type": "code",
   "execution_count": 19,
   "id": "1e2370ac-38ab-4ec1-ad34-a2e7750b1cd2",
   "metadata": {},
   "outputs": [
    {
     "name": "stdout",
     "output_type": "stream",
     "text": [
      "切比雪夫距离： 3\n"
     ]
    }
   ],
   "source": [
    "import numpy as np\n",
    "# 两个n维向量\n",
    "A = np.array([1, 2, 3])\n",
    "B = np.array([4, 5, 6])\n",
    "# 计算切比雪夫距离\n",
    "d = np.abs(A - B).max()\n",
    "print(\"切比雪夫距离：\", d)"
   ]
  },
  {
   "cell_type": "code",
   "execution_count": 20,
   "id": "1fc52ed1-ca9c-4cf1-96a9-40551e439dfd",
   "metadata": {},
   "outputs": [
    {
     "name": "stdout",
     "output_type": "stream",
     "text": [
      "切比雪夫距离矩阵：\n",
      " [[0. 3. 6.]\n",
      " [3. 0. 3.]\n",
      " [6. 3. 0.]]\n"
     ]
    }
   ],
   "source": [
    "from sklearn.metrics.pairwise import pairwise_distances\n",
    "import numpy as np\n",
    "# 多组n维向量\n",
    "X = np.array([[1, 2, 3], [4, 5, 6], [7, 8, 9]])\n",
    "# 计算多组向量之间的切比雪夫距离\n",
    "d = pairwise_distances(X, metric='chebyshev')\n",
    "print(\"切比雪夫距离矩阵：\\n\", d)\n"
   ]
  },
  {
   "cell_type": "code",
   "execution_count": null,
   "id": "5f8052fe-8d12-4c95-9e12-890f7ccb03b6",
   "metadata": {},
   "outputs": [],
   "source": []
  },
  {
   "cell_type": "code",
   "execution_count": null,
   "id": "55f4e818-0010-45d4-b2f5-bc1b0ef23315",
   "metadata": {},
   "outputs": [],
   "source": [
    "【例3.8】曼哈顿距离计算示例。"
   ]
  },
  {
   "cell_type": "code",
   "execution_count": 21,
   "id": "7c2be731-2436-4f18-9939-2fe32386ed75",
   "metadata": {},
   "outputs": [
    {
     "name": "stdout",
     "output_type": "stream",
     "text": [
      "7\n",
      "12\n"
     ]
    }
   ],
   "source": [
    "import numpy as np\n",
    "# 二维空间中两个点的曼哈顿距离\n",
    "point1 = np.array([1, 2])\n",
    "point2 = np.array([4, 6])\n",
    "manhattan_distance = np.sum(np.abs(point1 - point2))\n",
    "print(manhattan_distance) # 输出 7\n",
    "\n",
    "# 三维空间中两个点的曼哈顿距离\n",
    "point1 = np.array([1, 2, 3])\n",
    "point2 = np.array([4, 6, 8])\n",
    "manhattan_distance = np.sum(np.abs(point1 - point2))\n",
    "print(manhattan_distance) "
   ]
  },
  {
   "cell_type": "code",
   "execution_count": 22,
   "id": "4958f767-4f55-4950-8784-ad1919d5f429",
   "metadata": {},
   "outputs": [
    {
     "name": "stdout",
     "output_type": "stream",
     "text": [
      "7.0\n",
      "12.0\n"
     ]
    }
   ],
   "source": [
    "from sklearn.metrics.pairwise import manhattan_distances\n",
    "# 二维空间中两个点的曼哈顿距离\n",
    "point1 = np.array([1, 2])\n",
    "point2 = np.array([4, 6])\n",
    "manhattan_distance = manhattan_distances([point1], [point2])[0][0]\n",
    "print(manhattan_distance) # 输出 7\n",
    "\n",
    "# 三维空间中两个点的曼哈顿距离\n",
    "point1 = np.array([1, 2, 3])\n",
    "point2 = np.array([4, 6, 8])\n",
    "manhattan_distance = manhattan_distances([point1], [point2])[0][0]\n",
    "print(manhattan_distance) \n"
   ]
  },
  {
   "cell_type": "code",
   "execution_count": null,
   "id": "fc52718a-0543-4f72-b2ef-593618a666bd",
   "metadata": {},
   "outputs": [],
   "source": []
  },
  {
   "cell_type": "code",
   "execution_count": null,
   "id": "5a01437b-2a10-414e-a7f2-5e6042a03933",
   "metadata": {},
   "outputs": [],
   "source": [
    "【例3.9】欧几里得距离计算示例。"
   ]
  },
  {
   "cell_type": "code",
   "execution_count": 23,
   "id": "2d337782-48b5-463e-a6eb-004d72dbfe51",
   "metadata": {},
   "outputs": [
    {
     "name": "stdout",
     "output_type": "stream",
     "text": [
      "10.392304845413264 15.588457268119896 5.196152422706632 10.392304845413264\n"
     ]
    }
   ],
   "source": [
    "import numpy as np\n",
    "x00 = np.array([1, 2, 3])\n",
    "x01 = np.array([4, 5, 6])\n",
    "x10 = np.array([7, 8, 9])\n",
    "x11 = np.array([10, 11, 12])\n",
    "distance00 = np.linalg.norm(x00 - x10)\n",
    "distance01 = np.linalg.norm(x00 - x11)\n",
    "distance10 = np.linalg.norm(x01 - x10)\n",
    "distance11 = np.linalg.norm(x01 - x11)\n",
    "print(distance00,distance01,distance10,distance11)"
   ]
  },
  {
   "cell_type": "code",
   "execution_count": 24,
   "id": "7d780813-f295-4390-b9c4-b8ee4f19f9e9",
   "metadata": {},
   "outputs": [
    {
     "name": "stdout",
     "output_type": "stream",
     "text": [
      "[[10.39230485 15.58845727]\n",
      " [ 5.19615242 10.39230485]]\n"
     ]
    }
   ],
   "source": [
    "from sklearn.metrics.pairwise import euclidean_distances\n",
    "X = np.array([[1, 2, 3], [4, 5, 6]])\n",
    "Y = np.array([[7, 8, 9], [10, 11, 12]])\n",
    "distances = euclidean_distances(X, Y)\n",
    "print(distances)\n"
   ]
  },
  {
   "cell_type": "code",
   "execution_count": null,
   "id": "b82907fd-eee9-453d-9daf-e4e175c52cf5",
   "metadata": {},
   "outputs": [],
   "source": []
  },
  {
   "cell_type": "code",
   "execution_count": null,
   "id": "6bac896b-ca24-468a-af78-dc5e252e30b6",
   "metadata": {},
   "outputs": [],
   "source": [
    "【例3.10】闵可夫斯基距离计算示例。"
   ]
  },
  {
   "cell_type": "code",
   "execution_count": 25,
   "id": "bb41c1e7-37ad-4e6a-af8c-1ca6a010287a",
   "metadata": {},
   "outputs": [
    {
     "name": "stdout",
     "output_type": "stream",
     "text": [
      "7.0\n",
      "7.0710678118654755\n"
     ]
    }
   ],
   "source": [
    "import numpy as np\n",
    "# 二维空间中两个点的闵可夫斯基距离（p=1）\n",
    "point1 = np.array([1, 2])\n",
    "point2 = np.array([4, 6])\n",
    "minkowski_distance = np.power(np.sum(np.power(np.abs(point1 - point2), 1)), 1/1)\n",
    "print(minkowski_distance) # 输出 7\n",
    "# 三维空间中两个点的闵可夫斯基距离（p=2）\n",
    "point1 = np.array([1, 2, 3])\n",
    "point2 = np.array([4, 6, 8])\n",
    "minkowski_distance = np.power(np.sum(np.power(np.abs(point1 - point2), 2)), 1/2)\n",
    "print(minkowski_distance) "
   ]
  },
  {
   "cell_type": "code",
   "execution_count": 27,
   "id": "31feb527-0dc5-44c5-9ebc-08d74de8f923",
   "metadata": {},
   "outputs": [
    {
     "name": "stdout",
     "output_type": "stream",
     "text": [
      "4.497941445275415\n",
      "5.569212227823757\n"
     ]
    }
   ],
   "source": [
    "from scipy.spatial.distance import minkowski\n",
    "\n",
    "# 计算二维空间中两个点的闵可夫斯基距离\n",
    "point1 = np.array([1, 2])\n",
    "point2 = np.array([4, 6])\n",
    "minkowski_distance = minkowski(point1, point2, p=3)\n",
    "print(minkowski_distance)  # 输出 4.49794144528\n",
    "\n",
    "# 计算三维空间中两个点的闵可夫斯基距离\n",
    "point1 = np.array([1, 2, 3])\n",
    "point2 = np.array([4, 6, 8])\n",
    "minkowski_distance = minkowski(point1, point2, p=4)\n",
    "print(minkowski_distance)\n"
   ]
  },
  {
   "cell_type": "code",
   "execution_count": null,
   "id": "db67e805-2c6d-42e7-a924-542064742f5b",
   "metadata": {},
   "outputs": [],
   "source": []
  },
  {
   "cell_type": "code",
   "execution_count": null,
   "id": "aa6ccaa3-ce51-4c43-ac42-708174a941bf",
   "metadata": {},
   "outputs": [],
   "source": [
    "【例3.11】余弦相似度计算示例。\n",
    "在numpy中，可以使用 numpy.dot() 函数和 numpy.linalg.norm() 函数计算两个向量的点积和向量范数，从而计算它们之间的余弦相似度。示例如下。"
   ]
  },
  {
   "cell_type": "code",
   "execution_count": 28,
   "id": "174b9924-f229-4e08-86d2-048ab6875404",
   "metadata": {},
   "outputs": [
    {
     "name": "stdout",
     "output_type": "stream",
     "text": [
      "0.9746318461970762\n"
     ]
    }
   ],
   "source": [
    "import numpy as np\n",
    "# 计算两个向量的余弦相似度\n",
    "vector1 = np.array([1, 2, 3])\n",
    "vector2 = np.array([4, 5, 6])\n",
    "cosine_similarity = np.dot(vector1, vector2) / (np.linalg.norm(vector1) * np.linalg.norm(vector2))\n",
    "print(cosine_similarity) # 输出 0.974631846198"
   ]
  },
  {
   "cell_type": "code",
   "execution_count": null,
   "id": "e68c8a99-126a-49ed-8f0d-a04a3c856d3e",
   "metadata": {},
   "outputs": [],
   "source": [
    "在scikit-learn中，可以使用 sklearn.metrics.pairwise.cosine_similarity() 函数计算两个向量之间的余弦相似度。示例如下："
   ]
  },
  {
   "cell_type": "code",
   "execution_count": 29,
   "id": "c0d72878-a1a7-42aa-a083-2ac25e70b229",
   "metadata": {},
   "outputs": [
    {
     "name": "stdout",
     "output_type": "stream",
     "text": [
      "0.9746318461970762\n"
     ]
    }
   ],
   "source": [
    "from sklearn.metrics.pairwise import cosine_similarity\n",
    "# 计算两个向量的余弦相似度\n",
    "vector1 = np.array([1, 2, 3])\n",
    "vector2 = np.array([4, 5, 6])\n",
    "cosine_similarity = cosine_similarity([vector1], [vector2])[0][0]\n",
    "print(cosine_similarity) # 输出 0.974631846198"
   ]
  },
  {
   "cell_type": "code",
   "execution_count": null,
   "id": "7f2964bb-a9e7-426f-9d89-ee16afbf9096",
   "metadata": {},
   "outputs": [],
   "source": []
  },
  {
   "cell_type": "code",
   "execution_count": null,
   "id": "7c924b9e-d34b-4bb1-826f-41c3ae4093f9",
   "metadata": {},
   "outputs": [],
   "source": [
    "【例3.12】Jaccard相似系数计算示例。\n",
    "在Numpy中，可以使用 intersect1d 和 union1d 函数来计算两个集合的交集和并集。使用方法如下："
   ]
  },
  {
   "cell_type": "code",
   "execution_count": 30,
   "id": "95e8ef60-52dd-47c9-adb6-b666856489ad",
   "metadata": {},
   "outputs": [
    {
     "name": "stdout",
     "output_type": "stream",
     "text": [
      "Jaccard similarity coefficient: 0.0\n"
     ]
    }
   ],
   "source": [
    "import numpy as np\n",
    "# 计算两个集合的交集和并集\n",
    "intersection = np.intersect1d(A, B)\n",
    "union = np.union1d(A, B)\n",
    "# 计算Jaccard相似系数\n",
    "jaccard_similarity = intersection.size / union.size\n",
    "print('Jaccard similarity coefficient:', jaccard_similarity)"
   ]
  },
  {
   "cell_type": "code",
   "execution_count": null,
   "id": "e52990e6-e9a1-4c19-a080-f6f3b7a94c2f",
   "metadata": {},
   "outputs": [],
   "source": [
    "其中，A 和 B 分别是要计算相似度的两个集合，intersection 和 union 分别是它们的交集和并集，jaccard_similarity 是它们的Jaccard相似系数。\n",
    "在scikit-learn中，可以使用 jaccard_score 函数来计算两个集合的Jaccard相似系数。使用方法如下："
   ]
  },
  {
   "cell_type": "code",
   "execution_count": 32,
   "id": "93cc23e7-b628-4e74-acca-460099d6ebf2",
   "metadata": {},
   "outputs": [
    {
     "name": "stdout",
     "output_type": "stream",
     "text": [
      "Jaccard similarity coefficient: 0.6666666666666666\n"
     ]
    }
   ],
   "source": [
    "from sklearn.metrics import jaccard_score\n",
    "import numpy as np\n",
    "\n",
    "# Example multiclass targets\n",
    "y_true = np.array([0, 1, 2, 2, 3])\n",
    "y_pred = np.array([0, 2, 2, 2, 3])\n",
    "\n",
    "# Calculate Jaccard similarity coefficient\n",
    "jaccard_similarity = jaccard_score(y_true, y_pred, average='micro')\n",
    "print('Jaccard similarity coefficient:', jaccard_similarity)\n"
   ]
  },
  {
   "cell_type": "code",
   "execution_count": null,
   "id": "a44a21bf-53ca-42ff-843c-c734af13f463",
   "metadata": {},
   "outputs": [],
   "source": []
  },
  {
   "cell_type": "code",
   "execution_count": null,
   "id": "72b6f199-872a-4492-bbc2-3ece3edfda4a",
   "metadata": {},
   "outputs": [],
   "source": [
    "【例3.13】VDM计算示例。"
   ]
  },
  {
   "cell_type": "code",
   "execution_count": 33,
   "id": "cb7d368d-592b-4c59-b676-c135cbd86f22",
   "metadata": {},
   "outputs": [
    {
     "name": "stdout",
     "output_type": "stream",
     "text": [
      "VDM scores:\n",
      "A: 0.5\n",
      "B: 1.0\n",
      "C: 0.0\n"
     ]
    }
   ],
   "source": [
    "import numpy as np\n",
    "def calculate_vdm(feature, target):\n",
    "    unique_values = np.unique(feature)  # 获取特征的唯一取值\n",
    "    vdm_scores = {}  # 用于存储每个取值的VDM得分\n",
    "\n",
    "    for value in unique_values:\n",
    "        indices = np.where(feature == value)[0]  # 获取特征取值等于value的样本索引\n",
    "        class_counts = np.bincount(target[indices])  # 统计对应样本索引的目标类别计数\n",
    "\n",
    "        total_instances = len(indices)  # 特征取值等于value的样本总数\n",
    "        class_probabilities = class_counts / total_instances  # 目标类别的概率分布\n",
    "\n",
    "        vdm_score = np.sum(np.abs(class_probabilities - 1/len(np.unique(target))))  # 计算VDM得分\n",
    "        vdm_scores[value] = vdm_score\n",
    "\n",
    "    return vdm_scores\n",
    "\n",
    "# 示例数据\n",
    "feature = np.array(['A', 'A', 'B', 'B', 'B', 'C', 'C', 'C', 'C'])\n",
    "target = np.array([0, 0, 1, 1, 1, 0, 0, 1, 1])\n",
    "\n",
    "vdm_scores = calculate_vdm(feature, target)\n",
    "print(\"VDM scores:\")\n",
    "for value, score in vdm_scores.items():\n",
    "    print(f\"{value}: {score}\")"
   ]
  },
  {
   "cell_type": "code",
   "execution_count": null,
   "id": "cab9b06e-a299-4ca5-83f1-9c20ae30b400",
   "metadata": {},
   "outputs": [],
   "source": []
  },
  {
   "cell_type": "code",
   "execution_count": null,
   "id": "2c2ab09d-4f30-480d-ab42-dc527090c251",
   "metadata": {},
   "outputs": [],
   "source": [
    "【例3.14】皮尔逊相关系数计算案例。"
   ]
  },
  {
   "cell_type": "code",
   "execution_count": 34,
   "id": "cf3e16ac-e809-4679-a62d-188ada9f87ec",
   "metadata": {},
   "outputs": [
    {
     "ename": "NameError",
     "evalue": "name 'x' is not defined",
     "output_type": "error",
     "traceback": [
      "\u001b[1;31m---------------------------------------------------------------------------\u001b[0m",
      "\u001b[1;31mNameError\u001b[0m                                 Traceback (most recent call last)",
      "Input \u001b[1;32mIn [34]\u001b[0m, in \u001b[0;36m<module>\u001b[1;34m\u001b[0m\n\u001b[0;32m      1\u001b[0m \u001b[38;5;28;01mfrom\u001b[39;00m \u001b[38;5;21;01mscipy\u001b[39;00m\u001b[38;5;21;01m.\u001b[39;00m\u001b[38;5;21;01mstats\u001b[39;00m \u001b[38;5;28;01mimport\u001b[39;00m pearsonr\n\u001b[0;32m      2\u001b[0m \u001b[38;5;66;03m# 计算两个变量之间的皮尔逊相关系数和p值\u001b[39;00m\n\u001b[1;32m----> 3\u001b[0m corr, p_value \u001b[38;5;241m=\u001b[39m pearsonr(\u001b[43mx\u001b[49m, y)\n\u001b[0;32m      4\u001b[0m \u001b[38;5;28mprint\u001b[39m(\u001b[38;5;124m'\u001b[39m\u001b[38;5;124mPearson correlation coefficient:\u001b[39m\u001b[38;5;124m'\u001b[39m, corr)\n\u001b[0;32m      5\u001b[0m \u001b[38;5;28mprint\u001b[39m(\u001b[38;5;124m'\u001b[39m\u001b[38;5;124mp-value:\u001b[39m\u001b[38;5;124m'\u001b[39m, p_value)\n",
      "\u001b[1;31mNameError\u001b[0m: name 'x' is not defined"
     ]
    }
   ],
   "source": [
    "from scipy.stats import pearsonr\n",
    "# 计算两个变量之间的皮尔逊相关系数和p值\n",
    "corr, p_value = pearsonr(x, y)\n",
    "print('Pearson correlation coefficient:', corr)\n",
    "print('p-value:', p_value)"
   ]
  },
  {
   "cell_type": "code",
   "execution_count": 35,
   "id": "b9cca649-ed10-4c9d-852c-7f15082e7b1e",
   "metadata": {},
   "outputs": [
    {
     "name": "stdout",
     "output_type": "stream",
     "text": [
      "NumPy 计算的皮尔逊相关系数： 0.9877569118027771\n",
      "SciPy 计算的皮尔逊相关系数： 0.9877569118027771\n"
     ]
    }
   ],
   "source": [
    "import numpy as np\n",
    "from scipy.stats import pearsonr\n",
    "\n",
    "x = np.array([1, 2, 3, 4, 5])\n",
    "y = np.array([2, 3, 5, 8, 10])\n",
    "\n",
    "# 使用 NumPy 计算皮尔逊相关系数\n",
    "r_np = np.corrcoef(x, y)[0, 1]\n",
    "print('NumPy 计算的皮尔逊相关系数：', r_np)\n",
    "\n",
    "# 使用 SciPy 计算皮尔逊相关系数\n",
    "r_sp, p_value = pearsonr(x, y)\n",
    "print('SciPy 计算的皮尔逊相关系数：', r_sp)\n"
   ]
  },
  {
   "cell_type": "code",
   "execution_count": null,
   "id": "dabc021a-7c52-4e33-9108-ba98467a4946",
   "metadata": {},
   "outputs": [],
   "source": []
  },
  {
   "cell_type": "code",
   "execution_count": null,
   "id": "cc7c8307-e510-4693-9d1a-f1e89f717340",
   "metadata": {},
   "outputs": [],
   "source": [
    "【例3.15】斯皮尔曼相关系数计算案例。\n",
    "使用NumPy和SciPy库可以计算斯皮尔曼相关系数，代码示例如下："
   ]
  },
  {
   "cell_type": "code",
   "execution_count": 36,
   "id": "7033453c-0a0d-4085-9999-d298177d6eab",
   "metadata": {},
   "outputs": [
    {
     "name": "stdout",
     "output_type": "stream",
     "text": [
      "Spearman correlation coefficient: -0.9999999999999999\n",
      "p-value: 1.4042654220543672e-24\n"
     ]
    }
   ],
   "source": [
    "import numpy as np\n",
    "from scipy.stats import spearmanr\n",
    "\n",
    "# 创建两个随机变量\n",
    "x = np.array([1, 2, 3, 4, 5])\n",
    "y = np.array([5, 4, 3, 2, 1])\n",
    "\n",
    "# 计算斯皮尔曼相关系数和p值\n",
    "corr, p_value = spearmanr(x, y)\n",
    "\n",
    "print(\"Spearman correlation coefficient:\", corr)\n",
    "print(\"p-value:\", p_value)"
   ]
  },
  {
   "cell_type": "code",
   "execution_count": null,
   "id": "50ff4d1e-6a66-42f7-8361-4eb0941e642f",
   "metadata": {},
   "outputs": [],
   "source": [
    "在 scikit-learn 中，可以使用 spearmanr 函数计算两个变量之间的斯皮尔曼相关系数。示例如下："
   ]
  },
  {
   "cell_type": "code",
   "execution_count": 37,
   "id": "8c487367-eecd-41cc-a079-374946a7015b",
   "metadata": {},
   "outputs": [
    {
     "name": "stdout",
     "output_type": "stream",
     "text": [
      "斯皮尔曼相关系数： 0.9999999999999999\n",
      "p 值： 1.4042654220543672e-24\n"
     ]
    }
   ],
   "source": [
    "from scipy.stats import spearmanr\n",
    "# 定义两个变量\n",
    "x = [1, 2, 3, 4, 5]\n",
    "y = [2, 4, 6, 8, 10]\n",
    "# 计算斯皮尔曼相关系数和 p 值\n",
    "corr, p_value = spearmanr(x, y)\n",
    "print(\"斯皮尔曼相关系数：\", corr)\n",
    "print(\"p 值：\", p_value)"
   ]
  },
  {
   "cell_type": "code",
   "execution_count": null,
   "id": "9b34b962-128a-4038-91fa-cfe49b80eca0",
   "metadata": {},
   "outputs": [],
   "source": []
  }
 ],
 "metadata": {
  "kernelspec": {
   "display_name": "Python 3 (ipykernel)",
   "language": "python",
   "name": "python3"
  },
  "language_info": {
   "codemirror_mode": {
    "name": "ipython",
    "version": 3
   },
   "file_extension": ".py",
   "mimetype": "text/x-python",
   "name": "python",
   "nbconvert_exporter": "python",
   "pygments_lexer": "ipython3",
   "version": "3.10.2"
  }
 },
 "nbformat": 4,
 "nbformat_minor": 5
}
