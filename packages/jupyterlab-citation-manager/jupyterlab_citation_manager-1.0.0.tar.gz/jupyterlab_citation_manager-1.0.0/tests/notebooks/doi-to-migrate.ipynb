{
 "cells": [
  {
   "cell_type": "markdown",
   "id": "8564a58f-697c-4504-9956-223e6a4a9281",
   "metadata": {
    "tags": []
   },
   "source": [
    "The database first introduced in [(Krassowski et al., 2017)](https://doi.org/10.1093/nar/gkx973) was later expanded [(Krassowski et al., 2021)](https://doi.org/10.3389/fcell.2021.626821) to cover additional sources of mutations and types of post-translational modifications."
   ]
  }
 ],
 "metadata": {
  "citation-manager": {
   "items": {}
  },
  "kernelspec": {
   "display_name": "Python 3 (ipykernel)",
   "language": "python",
   "name": "python3"
  },
  "language_info": {
   "codemirror_mode": {
    "name": "ipython",
    "version": 3
   },
   "file_extension": ".py",
   "mimetype": "text/x-python",
   "name": "python",
   "nbconvert_exporter": "python",
   "pygments_lexer": "ipython3",
   "version": "3.9.5"
  }
 },
 "nbformat": 4,
 "nbformat_minor": 5
}
