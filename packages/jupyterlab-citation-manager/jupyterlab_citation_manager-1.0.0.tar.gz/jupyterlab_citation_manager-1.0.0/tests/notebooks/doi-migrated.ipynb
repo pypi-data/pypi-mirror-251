{
 "cells": [
  {
   "cell_type": "markdown",
   "id": "8564a58f-697c-4504-9956-223e6a4a9281",
   "metadata": {
    "citation-manager": {
     "citations": {
      "w2sho": [
       {
        "id": "10.1093/nar/gkx973",
        "source": "DOI"
       }
      ],
      "wphoa": [
       {
        "id": "10.3389/fcell.2021.626821",
        "source": "DOI"
       }
      ]
     }
    },
    "tags": []
   },
   "source": [
    "The database first introduced in <cite id=\"w2sho\">(Krassowski et al., 2017)</cite> was later expanded <cite id=\"wphoa\">(Krassowski et al., 2021)</cite> to cover additional sources of mutations and types of post-translational modifications."
   ]
  }
 ],
 "metadata": {
  "citation-manager": {
   "items": {
    "DOI": {
     "10.1093/nar/gkx973": {
      "DOI": "10.1093/nar/gkx973",
      "ISSN": [
       "0305-1048",
       "1362-4962"
      ],
      "URL": "http://dx.doi.org/10.1093/nar/gkx973",
      "author": [
       {
        "affiliation": [],
        "family": "Krassowski",
        "given": "Michal",
        "sequence": "first"
       },
       {
        "affiliation": [],
        "family": "Paczkowska",
        "given": "Marta",
        "sequence": "additional"
       },
       {
        "affiliation": [],
        "family": "Cullion",
        "given": "Kim",
        "sequence": "additional"
       },
       {
        "affiliation": [],
        "family": "Huang",
        "given": "Tina",
        "sequence": "additional"
       },
       {
        "affiliation": [],
        "family": "Dzneladze",
        "given": "Irakli",
        "sequence": "additional"
       },
       {
        "affiliation": [],
        "family": "Ouellette",
        "given": "B F Francis",
        "sequence": "additional"
       },
       {
        "affiliation": [],
        "family": "Yamada",
        "given": "Joseph T",
        "sequence": "additional"
       },
       {
        "affiliation": [],
        "family": "Fradet-Turcotte",
        "given": "Amelie",
        "sequence": "additional"
       },
       {
        "affiliation": [],
        "family": "Reimand",
        "given": "Jüri",
        "sequence": "additional"
       }
      ],
      "container-title": "Nucleic Acids Research",
      "content-domain": {
       "crossmark-restriction": false,
       "domain": []
      },
      "created": {
       "date-parts": [
        [
         2017,
         10,
         18
        ]
       ],
       "date-time": "2017-10-18T19:10:43Z",
       "timestamp": 1508353843000
      },
      "deposited": {
       "date-parts": [
        [
         2019,
         10,
         4
        ]
       ],
       "date-time": "2019-10-04T21:11:25Z",
       "timestamp": 1570223485000
      },
      "id": "10.1093/nar/gkx973",
      "indexed": {
       "date-parts": [
        [
         2021,
         4,
         19
        ]
       ],
       "date-time": "2021-04-19T10:43:56Z",
       "timestamp": 1618829036677
      },
      "is-referenced-by-count": 33,
      "issue": "D1",
      "issued": {
       "date-parts": [
        [
         2017,
         11,
         8
        ]
       ]
      },
      "journal-issue": {
       "issue": "D1",
       "published-online": {
        "date-parts": [
         [
          2017,
          11,
          8
         ]
        ]
       },
       "published-print": {
        "date-parts": [
         [
          2018,
          1,
          4
         ]
        ]
       }
      },
      "language": "en",
      "license": [
       {
        "URL": "http://creativecommons.org/licenses/by-nc/4.0/",
        "content-version": "vor",
        "delay-in-days": 0,
        "start": {
         "date-parts": [
          [
           2017,
           11,
           8
          ]
         ],
         "date-time": "2017-11-08T00:00:00Z",
         "timestamp": 1510099200000
        }
       }
      ],
      "link": [
       {
        "URL": "http://academic.oup.com/nar/article-pdf/46/D1/D901/23162894/gkx973.pdf",
        "content-type": "unspecified",
        "content-version": "vor",
        "intended-application": "similarity-checking"
       }
      ],
      "member": "286",
      "original-title": [],
      "page": "D901-D910",
      "prefix": "10.1093",
      "published-online": {
       "date-parts": [
        [
         2017,
         11,
         8
        ]
       ]
      },
      "published-print": {
       "date-parts": [
        [
         2018,
         1,
         4
        ]
       ]
      },
      "publisher": "Oxford University Press (OUP)",
      "reference": [
       {
        "DOI": "10.1038/nature13127",
        "article-title": "Guidelines for investigating causality of sequence variants in human disease",
        "doi-asserted-by": "crossref",
        "first-page": "469",
        "journal-title": "Nature",
        "key": "key\n\t\t\t\t20180103190641_B1",
        "volume": "508",
        "year": "2014"
       },
       {
        "DOI": "10.1038/nmeth.2562",
        "article-title": "Computational approaches to identify functional genetic variants in cancer genomes",
        "doi-asserted-by": "crossref",
        "first-page": "723",
        "journal-title": "Nat. Methods",
        "key": "key\n\t\t\t\t20180103190641_B2",
        "volume": "10",
        "year": "2013"
       },
       {
        "DOI": "10.1038/ng.2764",
        "article-title": "The Cancer Genome Atlas Pan-Cancer analysis project",
        "author": "Cancer Genome Atlas Research, N.",
        "doi-asserted-by": "crossref",
        "first-page": "1113",
        "journal-title": "Nat. Genet.",
        "key": "key\n\t\t\t\t20180103190641_B3",
        "volume": "45",
        "year": "2013"
       },
       {
        "DOI": "10.1038/nature08987",
        "article-title": "International network of cancer genome projects",
        "doi-asserted-by": "crossref",
        "first-page": "993",
        "journal-title": "Nature",
        "key": "key\n\t\t\t\t20180103190641_B4",
        "volume": "464",
        "year": "2010"
       },
       {
        "DOI": "10.1038/nature15393",
        "article-title": "A global reference for human genetic variation",
        "author": "Genomes Project, C.",
        "doi-asserted-by": "crossref",
        "first-page": "68",
        "journal-title": "Nature",
        "key": "key\n\t\t\t\t20180103190641_B5",
        "volume": "526",
        "year": "2015"
       },
       {
        "DOI": "10.1038/nature19057",
        "article-title": "Analysis of protein-coding genetic variation in 60,706 humans",
        "doi-asserted-by": "crossref",
        "first-page": "285",
        "journal-title": "Nature",
        "key": "key\n\t\t\t\t20180103190641_B6",
        "volume": "536",
        "year": "2016"
       },
       {
        "DOI": "10.1093/nar/gkt1113",
        "article-title": "ClinVar: public archive of relationships among sequence variation and human phenotype",
        "doi-asserted-by": "crossref",
        "first-page": "D980",
        "journal-title": "Nucleic Acids Res.",
        "key": "key\n\t\t\t\t20180103190641_B7",
        "volume": "42",
        "year": "2014"
       },
       {
        "DOI": "10.1038/nmeth0410-248",
        "article-title": "A method and server for predicting damaging missense mutations",
        "doi-asserted-by": "crossref",
        "first-page": "248",
        "journal-title": "Nat. Methods",
        "key": "key\n\t\t\t\t20180103190641_B8",
        "volume": "7",
        "year": "2010"
       },
       {
        "DOI": "10.1038/nprot.2009.86",
        "article-title": "Predicting the effects of coding non-synonymous variants on protein function using the SIFT algorithm",
        "doi-asserted-by": "crossref",
        "first-page": "1073",
        "journal-title": "Nat. Protoc.",
        "key": "key\n\t\t\t\t20180103190641_B9",
        "volume": "4",
        "year": "2009"
       },
       {
        "DOI": "10.1038/ng.2892",
        "article-title": "A general framework for estimating the relative pathogenicity of human genetic variants",
        "doi-asserted-by": "crossref",
        "first-page": "310",
        "journal-title": "Nat. Genet.",
        "key": "key\n\t\t\t\t20180103190641_B10",
        "volume": "46",
        "year": "2014"
       },
       {
        "DOI": "10.1038/nbt0808-864",
        "article-title": "The PSI-MOD community standard for representation of protein modification data",
        "doi-asserted-by": "crossref",
        "first-page": "864",
        "journal-title": "Nat. Biotechnol.",
        "key": "key\n\t\t\t\t20180103190641_B11",
        "volume": "26",
        "year": "2008"
       },
       {
        "DOI": "10.1038/nbt0303-255",
        "article-title": "Proteomic analysis of post-translational modifications",
        "doi-asserted-by": "crossref",
        "first-page": "255",
        "journal-title": "Nat. Biotechnol.",
        "key": "key\n\t\t\t\t20180103190641_B12",
        "volume": "21",
        "year": "2003"
       },
       {
        "DOI": "10.1038/373573a0",
        "article-title": "Protein modules and signalling networks",
        "doi-asserted-by": "crossref",
        "first-page": "573",
        "journal-title": "Nature",
        "key": "key\n\t\t\t\t20180103190641_B13",
        "volume": "373",
        "year": "1995"
       },
       {
        "DOI": "10.1093/nar/gkr1122",
        "article-title": "PhosphoSitePlus: a comprehensive resource for investigating the structure and function of experimentally determined post-translational modifications in man and mouse",
        "doi-asserted-by": "crossref",
        "first-page": "D261",
        "journal-title": "Nucleic Acids Res.",
        "key": "key\n\t\t\t\t20180103190641_B14",
        "volume": "40",
        "year": "2012"
       },
       {
        "DOI": "10.1093/nar/gkq1104",
        "article-title": "Phospho.ELM: a database of phosphorylation sites–update 2011",
        "doi-asserted-by": "crossref",
        "first-page": "D261",
        "journal-title": "Nucleic Acids Res.",
        "key": "key\n\t\t\t\t20180103190641_B15",
        "volume": "39",
        "year": "2011"
       },
       {
        "DOI": "10.1093/nar/gkn892",
        "article-title": "Human Protein Reference Database–2009 update",
        "doi-asserted-by": "crossref",
        "first-page": "D767",
        "journal-title": "Nucleic Acids Res.",
        "key": "key\n\t\t\t\t20180103190641_B16",
        "volume": "37",
        "year": "2009"
       },
       {
        "DOI": "10.1016/j.tibs.2005.04.013",
        "article-title": "Protein phosphorylation in signaling–50 years and counting",
        "doi-asserted-by": "crossref",
        "first-page": "286",
        "journal-title": "Trends Biochem. Sci.",
        "key": "key\n\t\t\t\t20180103190641_B17",
        "volume": "30",
        "year": "2005"
       },
       {
        "DOI": "10.1126/science.1063127",
        "article-title": "Translating the histone code",
        "doi-asserted-by": "crossref",
        "first-page": "1074",
        "journal-title": "Science",
        "key": "key\n\t\t\t\t20180103190641_B18",
        "volume": "293",
        "year": "2001"
       },
       {
        "DOI": "10.1038/nrm1700",
        "article-title": "Ubiquitin and ubiquitin-like proteins as multifunctional signals",
        "doi-asserted-by": "crossref",
        "first-page": "599",
        "journal-title": "Nat. Rev. Mol. Cell Biol.",
        "key": "key\n\t\t\t\t20180103190641_B19",
        "volume": "6",
        "year": "2005"
       },
       {
        "DOI": "10.1016/j.cell.2011.02.013",
        "article-title": "Hallmarks of cancer: the next generation",
        "doi-asserted-by": "crossref",
        "first-page": "646",
        "journal-title": "Cell",
        "key": "key\n\t\t\t\t20180103190641_B20",
        "volume": "144",
        "year": "2011"
       },
       {
        "DOI": "10.1038/nature07960",
        "article-title": "Targeting the ubiquitin system in cancer therapy",
        "doi-asserted-by": "crossref",
        "first-page": "438",
        "journal-title": "Nature",
        "key": "key\n\t\t\t\t20180103190641_B21",
        "volume": "458",
        "year": "2009"
       },
       {
        "DOI": "10.1038/nrclinonc.2015.213",
        "article-title": "Kinase inhibitors and monoclonal antibodies in oncology: clinical implications",
        "doi-asserted-by": "crossref",
        "first-page": "209",
        "journal-title": "Nat. Rev. Clin. Oncol.",
        "key": "key\n\t\t\t\t20180103190641_B22",
        "volume": "13",
        "year": "2016"
       },
       {
        "DOI": "10.1038/nrg.2016.93",
        "article-title": "Targeting the cancer epigenome for therapy",
        "doi-asserted-by": "crossref",
        "first-page": "630",
        "journal-title": "Nat. Rev. Genet.",
        "key": "key\n\t\t\t\t20180103190641_B23",
        "volume": "17",
        "year": "2016"
       },
       {
        "DOI": "10.1186/s13073-016-0311-2",
        "article-title": "Frequent mutations in acetylation and ubiquitination sites suggest novel driver mechanisms of cancer",
        "doi-asserted-by": "crossref",
        "first-page": "55",
        "journal-title": "Genome Med.",
        "key": "key\n\t\t\t\t20180103190641_B24",
        "volume": "8",
        "year": "2016"
       },
       {
        "DOI": "10.1371/journal.pgen.1004919",
        "article-title": "Evolutionary constraint and disease associations of post-translational modification sites in human genomes",
        "doi-asserted-by": "crossref",
        "first-page": "e1004919",
        "journal-title": "PLoS Genet.",
        "key": "key\n\t\t\t\t20180103190641_B25",
        "volume": "11",
        "year": "2015"
       },
       {
        "DOI": "10.1038/msb.2012.68",
        "article-title": "Systematic analysis of somatic mutations in phosphorylation signaling predicts novel cancer drivers",
        "doi-asserted-by": "crossref",
        "first-page": "637",
        "journal-title": "Mol. Syst. Biol.",
        "key": "key\n\t\t\t\t20180103190641_B26",
        "volume": "9",
        "year": "2013"
       },
       {
        "DOI": "10.1038/nmeth.3396",
        "article-title": "MIMP: predicting the impact of mutations on kinase-substrate phosphorylation",
        "doi-asserted-by": "crossref",
        "first-page": "531",
        "journal-title": "Nat. Methods",
        "key": "key\n\t\t\t\t20180103190641_B27",
        "volume": "12",
        "year": "2015"
       },
       {
        "article-title": "Loss of post-translational modification sites in disease",
        "first-page": "337",
        "journal-title": "Pac. Symp. Biocomput.",
        "key": "key\n\t\t\t\t20180103190641_B28",
        "year": "2010"
       },
       {
        "DOI": "10.1093/jmcb/mjv013",
        "article-title": "Reconfiguring phosphorylation signaling by genetic polymorphisms affects cancer susceptibility",
        "doi-asserted-by": "crossref",
        "first-page": "187",
        "journal-title": "J. Mol. Cell Biol.",
        "key": "key\n\t\t\t\t20180103190641_B29",
        "volume": "7",
        "year": "2015"
       },
       {
        "DOI": "10.1016/j.cell.2015.08.056",
        "article-title": "Kinome-wide decoding of network-attacking mutations rewiring cancer signaling",
        "doi-asserted-by": "crossref",
        "first-page": "202",
        "journal-title": "Cell",
        "key": "key\n\t\t\t\t20180103190641_B30",
        "volume": "163",
        "year": "2015"
       },
       {
        "article-title": "Automating somatic mutation calling for ten thousand tumor exomes",
        "key": "key\n\t\t\t\t20180103190641_B31",
        "year": "2017"
       },
       {
        "DOI": "10.1126/science.1219240",
        "article-title": "Evolution and functional impact of rare coding variation from deep sequencing of human exomes",
        "doi-asserted-by": "crossref",
        "first-page": "64",
        "journal-title": "Science",
        "key": "key\n\t\t\t\t20180103190641_B32",
        "volume": "337",
        "year": "2012"
       },
       {
        "DOI": "10.1093/nar/gkt1068",
        "article-title": "DrugBank 4.0: shedding new light on drug metabolism",
        "doi-asserted-by": "crossref",
        "first-page": "D1091",
        "journal-title": "Nucleic Acids Res.",
        "key": "key\n\t\t\t\t20180103190641_B33",
        "volume": "42",
        "year": "2014"
       },
       {
        "DOI": "10.1093/nar/gkq603",
        "article-title": "ANNOVAR: functional annotation of genetic variants from high-throughput sequencing data",
        "doi-asserted-by": "crossref",
        "first-page": "e164",
        "journal-title": "Nucleic Acids Res.",
        "key": "key\n\t\t\t\t20180103190641_B34",
        "volume": "38",
        "year": "2010"
       },
       {
        "DOI": "10.1093/nar/gkw1107",
        "article-title": "InterPro in 2017-beyond protein family and domain annotations",
        "doi-asserted-by": "crossref",
        "first-page": "D190",
        "journal-title": "Nucleic Acids Res.",
        "key": "key\n\t\t\t\t20180103190641_B35",
        "volume": "45",
        "year": "2017"
       },
       {
        "DOI": "10.1093/bioinformatics/bth195",
        "article-title": "The DISOPRED server for the prediction of protein disorder",
        "doi-asserted-by": "crossref",
        "first-page": "2138",
        "journal-title": "Bioinformatics",
        "key": "key\n\t\t\t\t20180103190641_B36",
        "volume": "20",
        "year": "2004"
       },
       {
        "DOI": "10.1093/nar/gkw1033",
        "article-title": "Genenames.org: the HGNC and VGNC resources in 2017",
        "doi-asserted-by": "crossref",
        "first-page": "D619",
        "journal-title": "Nucleic Acids Res.",
        "key": "key\n\t\t\t\t20180103190641_B37",
        "volume": "45",
        "year": "2017"
       },
       {
        "DOI": "10.1093/nar/gkw1099",
        "article-title": "UniProt: the universal protein knowledgebase",
        "author": "The UniProt, C.",
        "doi-asserted-by": "crossref",
        "first-page": "D158",
        "journal-title": "Nucleic Acids Res.",
        "key": "key\n\t\t\t\t20180103190641_B38",
        "volume": "45",
        "year": "2017"
       },
       {
        "DOI": "10.1126/science.1075762",
        "article-title": "The protein kinase complement of the human genome",
        "doi-asserted-by": "crossref",
        "first-page": "1912",
        "journal-title": "Science",
        "key": "key\n\t\t\t\t20180103190641_B39",
        "volume": "298",
        "year": "2002"
       },
       {
        "DOI": "10.1038/msb.2013.12",
        "article-title": "Construction of human activity-based phosphorylation networks",
        "doi-asserted-by": "crossref",
        "first-page": "655",
        "journal-title": "Mol. Syst. Biol.",
        "key": "key\n\t\t\t\t20180103190641_B40",
        "volume": "9",
        "year": "2013"
       },
       {
        "DOI": "10.1038/nrc1299",
        "article-title": "A census of human cancer genes",
        "doi-asserted-by": "crossref",
        "first-page": "177",
        "journal-title": "Nat. Rev. Cancer",
        "key": "key\n\t\t\t\t20180103190641_B41",
        "volume": "4",
        "year": "2004"
       },
       {
        "DOI": "10.1038/75556",
        "article-title": "Gene ontology: tool for the unification of biology. The Gene Ontology Consortium",
        "doi-asserted-by": "crossref",
        "first-page": "25",
        "journal-title": "Nat. Genet.",
        "key": "key\n\t\t\t\t20180103190641_B42",
        "volume": "25",
        "year": "2000"
       },
       {
        "DOI": "10.1093/nar/gkt1102",
        "article-title": "The Reactome pathway knowledgebase",
        "doi-asserted-by": "crossref",
        "first-page": "D472",
        "journal-title": "Nucleic Acids Res.",
        "key": "key\n\t\t\t\t20180103190641_B43",
        "volume": "42",
        "year": "2014"
       },
       {
        "DOI": "10.1016/j.cell.2017.08.028",
        "article-title": "Putting p53 in Context",
        "doi-asserted-by": "crossref",
        "first-page": "1062",
        "journal-title": "Cell",
        "key": "key\n\t\t\t\t20180103190641_B44",
        "volume": "170",
        "year": "2017"
       },
       {
        "DOI": "10.1101/gad.190678.112",
        "article-title": "Mutant p53: one name, many proteins",
        "doi-asserted-by": "crossref",
        "first-page": "1268",
        "journal-title": "Genes Dev.",
        "key": "key\n\t\t\t\t20180103190641_B45",
        "volume": "26",
        "year": "2012"
       },
       {
        "DOI": "10.1038/ncb2641",
        "article-title": "p53 mutations in cancer",
        "doi-asserted-by": "crossref",
        "first-page": "2",
        "journal-title": "Nat. Cell Biol.",
        "key": "key\n\t\t\t\t20180103190641_B46",
        "volume": "15",
        "year": "2013"
       },
       {
        "DOI": "10.1038/oncsis.2016.8",
        "article-title": "Gain of function of mutant p53: R282W on the peak",
        "doi-asserted-by": "crossref",
        "first-page": "e196",
        "journal-title": "Oncogenesis",
        "key": "key\n\t\t\t\t20180103190641_B47",
        "volume": "5",
        "year": "2016"
       },
       {
        "DOI": "10.1074/jbc.M110.174755",
        "article-title": "Aurora B interacts with NIR-p53, leading to p53 phosphorylation in its DNA-binding domain and subsequent functional suppression",
        "doi-asserted-by": "crossref",
        "first-page": "2236",
        "journal-title": "J. Biol. Chem.",
        "key": "key\n\t\t\t\t20180103190641_B48",
        "volume": "286",
        "year": "2011"
       },
       {
        "DOI": "10.1073/pnas.1110287109",
        "article-title": "Aurora B kinase phosphorylates and instigates degradation of p53",
        "doi-asserted-by": "crossref",
        "first-page": "E1513",
        "journal-title": "Proc. Natl. Acad. Sci. U.S.A.",
        "key": "key\n\t\t\t\t20180103190641_B49",
        "volume": "109",
        "year": "2012"
       },
       {
        "article-title": "Heterogeneity of Li-Fraumeni syndrome links to unequal gain-of-function effects of p53 mutations",
        "first-page": "4223",
        "journal-title": "Sci. Rep.",
        "key": "key\n\t\t\t\t20180103190641_B50",
        "volume": "4",
        "year": "2014"
       },
       {
        "DOI": "10.1038/ng0696-238",
        "article-title": "BRCA2 mutations in primary breast and ovarian cancers",
        "doi-asserted-by": "crossref",
        "first-page": "238",
        "journal-title": "Nat. Genet.",
        "key": "key\n\t\t\t\t20180103190641_B51",
        "volume": "13",
        "year": "1996"
       },
       {
        "DOI": "10.1038/378789a0",
        "article-title": "Identification of the breast cancer susceptibility gene BRCA2",
        "doi-asserted-by": "crossref",
        "first-page": "789",
        "journal-title": "Nature",
        "key": "key\n\t\t\t\t20180103190641_B52",
        "volume": "378",
        "year": "1995"
       },
       {
        "DOI": "10.1530/ERC-16-0297",
        "article-title": "BRCA2 functions: from DNA repair to replication fork stabilization",
        "doi-asserted-by": "crossref",
        "first-page": "T1",
        "journal-title": "Endocr. Relat. Cancer",
        "key": "key\n\t\t\t\t20180103190641_B53",
        "volume": "23",
        "year": "2016"
       },
       {
        "DOI": "10.1038/nature03404",
        "article-title": "CDK-dependent phosphorylation of BRCA2 as a regulatory mechanism for recombinational repair",
        "doi-asserted-by": "crossref",
        "first-page": "598",
        "journal-title": "Nature",
        "key": "key\n\t\t\t\t20180103190641_B54",
        "volume": "434",
        "year": "2005"
       },
       {
        "DOI": "10.1038/nsmb1245",
        "article-title": "Stabilization of RAD51 nucleoprotein filaments by the C-terminal region of BRCA2",
        "doi-asserted-by": "crossref",
        "first-page": "468",
        "journal-title": "Nat. Struct. Mol. Biol.",
        "key": "key\n\t\t\t\t20180103190641_B55",
        "volume": "14",
        "year": "2007"
       },
       {
        "DOI": "10.1016/j.celrep.2014.04.023",
        "article-title": "BRCA2 coordinates the activities of cell-cycle kinases to promote genome stability",
        "doi-asserted-by": "crossref",
        "first-page": "1547",
        "journal-title": "Cell Rep",
        "key": "key\n\t\t\t\t20180103190641_B56",
        "volume": "7",
        "year": "2014"
       },
       {
        "DOI": "10.1038/nsmb1251",
        "article-title": "Interaction with the BRCA2 C terminus protects RAD51-DNA filaments from disassembly by BRC repeats",
        "doi-asserted-by": "crossref",
        "first-page": "475",
        "journal-title": "Nat. Struct. Mol. Biol.",
        "key": "key\n\t\t\t\t20180103190641_B57",
        "volume": "14",
        "year": "2007"
       },
       {
        "article-title": "Moderate frequency of BRCA1 and BRCA2 germ-line mutations in Scandinavian familial breast cancer",
        "first-page": "1068",
        "journal-title": "Am. J. Hum. Genet.",
        "key": "key\n\t\t\t\t20180103190641_B58",
        "volume": "60",
        "year": "1997"
       },
       {
        "DOI": "10.1002/gcc.10148",
        "article-title": "Deletion of Brca2 exon 27 causes hypersensitivity to DNA crosslinks, chromosomal instability, and reduced life span in mice",
        "doi-asserted-by": "crossref",
        "first-page": "317",
        "journal-title": "Genes Chromosomes Cancer",
        "key": "key\n\t\t\t\t20180103190641_B59",
        "volume": "36",
        "year": "2003"
       },
       {
        "article-title": "Cells deleted for Brca2 COOH terminus exhibit hypersensitivity to gamma-radiation and premature senescence",
        "first-page": "3441",
        "journal-title": "Cancer Res.",
        "key": "key\n\t\t\t\t20180103190641_B60",
        "volume": "58",
        "year": "1998"
       },
       {
        "DOI": "10.1016/j.cub.2009.05.057",
        "article-title": "The carboxyl terminus of Brca2 links the disassembly of Rad51 complexes to mitotic entry",
        "doi-asserted-by": "crossref",
        "first-page": "1075",
        "journal-title": "Curr. Biol.",
        "key": "key\n\t\t\t\t20180103190641_B61",
        "volume": "19",
        "year": "2009"
       },
       {
        "DOI": "10.1016/j.cell.2011.03.041",
        "article-title": "Double-strand break repair-independent role for BRCA2 in blocking stalled replication fork degradation by MRE11",
        "doi-asserted-by": "crossref",
        "first-page": "529",
        "journal-title": "Cell",
        "key": "key\n\t\t\t\t20180103190641_B62",
        "volume": "145",
        "year": "2011"
       },
       {
        "DOI": "10.1371/journal.pgen.1002312",
        "article-title": "Von Hippel-Lindau (VHL) inactivation in sporadic clear cell renal cancer: associations with germline VHL polymorphisms and etiologic risk factors",
        "doi-asserted-by": "crossref",
        "first-page": "e1002312",
        "journal-title": "PLoS Genet.",
        "key": "key\n\t\t\t\t20180103190641_B63",
        "volume": "7",
        "year": "2011"
       },
       {
        "DOI": "10.1586/14737140.8.1.63",
        "article-title": "VHL inactivation in renal cell carcinoma: implications for diagnosis, prognosis and treatment",
        "doi-asserted-by": "crossref",
        "first-page": "63",
        "journal-title": "Expert Rev. Anticancer Ther.",
        "key": "key\n\t\t\t\t20180103190641_B64",
        "volume": "8",
        "year": "2008"
       },
       {
        "DOI": "10.4161/cc.23053",
        "article-title": "Nek1 phosphorylates Von Hippel-Lindau tumor suppressor to promote its proteasomal degradation and ciliary destabilization",
        "doi-asserted-by": "crossref",
        "first-page": "166",
        "journal-title": "Cell Cycle",
        "key": "key\n\t\t\t\t20180103190641_B65",
        "volume": "12",
        "year": "2013"
       },
       {
        "DOI": "10.1016/j.urolonc.2014.05.006",
        "article-title": "CDK1 and CDK2 activity is a strong predictor of renal cell carcinoma recurrence",
        "doi-asserted-by": "crossref",
        "first-page": "1240",
        "journal-title": "Urol. Oncol.",
        "key": "key\n\t\t\t\t20180103190641_B66",
        "volume": "32",
        "year": "2014"
       },
       {
        "DOI": "10.4161/cc.26930",
        "article-title": "CDK1 stabilizes HIF-1alpha via direct phosphorylation of Ser668 to promote tumor growth",
        "doi-asserted-by": "crossref",
        "first-page": "3689",
        "journal-title": "Cell Cycle",
        "key": "key\n\t\t\t\t20180103190641_B67",
        "volume": "12",
        "year": "2013"
       },
       {
        "DOI": "10.1038/nmeth.3963",
        "article-title": "Impact of outdated gene annotations on pathway enrichment analysis",
        "doi-asserted-by": "crossref",
        "first-page": "705",
        "journal-title": "Nat. Methods",
        "key": "key\n\t\t\t\t20180103190641_B68",
        "volume": "13",
        "year": "2016"
       },
       {
        "DOI": "10.1038/nrm3383",
        "article-title": "Vertebrate protein glycosylation: diversity, synthesis and function",
        "doi-asserted-by": "crossref",
        "first-page": "448",
        "journal-title": "Nat. Rev. Mol. Cell Biol.",
        "key": "key\n\t\t\t\t20180103190641_B69",
        "volume": "13",
        "year": "2012"
       },
       {
        "DOI": "10.1038/nrm.2016.81",
        "article-title": "A comprehensive compilation of SUMO proteomics",
        "doi-asserted-by": "crossref",
        "first-page": "581",
        "journal-title": "Nat. Rev. Mol. Cell Biol.",
        "key": "key\n\t\t\t\t20180103190641_B70",
        "volume": "17",
        "year": "2016"
       },
       {
        "DOI": "10.1093/nar/gkp810",
        "article-title": "PhosPhAt: the Arabidopsis thaliana phosphorylation site database. An update",
        "doi-asserted-by": "crossref",
        "first-page": "D828",
        "journal-title": "Nucleic Acids Res.",
        "key": "key\n\t\t\t\t20180103190641_B71",
        "volume": "38",
        "year": "2010"
       }
      ],
      "reference-count": 71,
      "references-count": 71,
      "relation": {
       "cites": [],
       "has-preprint": [
        {
         "asserted-by": "object",
         "id": "10.1101/178392",
         "id-type": "doi"
        }
       ]
      },
      "score": 1,
      "short-title": [],
      "source": "Crossref",
      "subtitle": [],
      "title": "ActiveDriverDB: human disease mutations and genome variation in post-translational modification sites of proteins",
      "type": "article-journal",
      "volume": "46"
     },
     "10.3389/fcell.2021.626821": {
      "DOI": "10.3389/fcell.2021.626821",
      "ISSN": [
       "2296-634X"
      ],
      "URL": "http://dx.doi.org/10.3389/fcell.2021.626821",
      "abstract": "<jats:p>Deciphering the functional impact of genetic variation is required to understand phenotypic diversity and the molecular mechanisms of inherited disease and cancer. While millions of genetic variants are now mapped in genome sequencing projects, distinguishing functional variants remains a major challenge. Protein-coding variation can be interpreted using post-translational modification (PTM) sites that are core components of cellular signaling networks controlling molecular processes and pathways. ActiveDriverDB is an interactive proteo-genomics database that uses more than 260,000 experimentally detected PTM sites to predict the functional impact of genetic variation in disease, cancer and the human population. Using machine learning tools, we prioritize proteins and pathways with enriched PTM-specific amino acid substitutions that potentially rewire signaling networks via induced or disrupted short linear motifs of kinase binding. We then map these effects to site-specific protein interaction networks and drug targets. In the 2021 update, we increased the PTM datasets by nearly 50%, included glycosylation, sumoylation and succinylation as new types of PTMs, and updated the workflows to interpret inherited disease mutations. We added a recent phosphoproteomics dataset reflecting the cellular response to SARS-CoV-2 to predict the impact of human genetic variation on COVID-19 infection and disease course. Overall, we estimate that 16-21% of known amino acid substitutions affect PTM sites among pathogenic disease mutations, somatic mutations in cancer genomes and germline variants in the human population. These data underline the potential of interpreting genetic variation through the lens of PTMs and signaling networks. The open-source database is freely available at <jats:ext-link>www.ActiveDriverDB.org</jats:ext-link>.</jats:p>",
      "alternative-id": [
       "10.3389/fcell.2021.626821"
      ],
      "author": [
       {
        "affiliation": [],
        "family": "Krassowski",
        "given": "Michal",
        "sequence": "first"
       },
       {
        "affiliation": [],
        "family": "Pellegrina",
        "given": "Diogo",
        "sequence": "additional"
       },
       {
        "affiliation": [],
        "family": "Mee",
        "given": "Miles W.",
        "sequence": "additional"
       },
       {
        "affiliation": [],
        "family": "Fradet-Turcotte",
        "given": "Amelie",
        "sequence": "additional"
       },
       {
        "affiliation": [],
        "family": "Bhat",
        "given": "Mamatha",
        "sequence": "additional"
       },
       {
        "affiliation": [],
        "family": "Reimand",
        "given": "Jüri",
        "sequence": "additional"
       }
      ],
      "container-title": "Frontiers in Cell and Developmental Biology",
      "container-title-short": "Front. Cell Dev. Biol.",
      "content-domain": {
       "crossmark-restriction": true,
       "domain": [
        "frontiersin.org"
       ]
      },
      "created": {
       "date-parts": [
        [
         2021,
         3,
         23
        ]
       ],
       "date-time": "2021-03-23T05:43:07Z",
       "timestamp": 1616478187000
      },
      "deposited": {
       "date-parts": [
        [
         2021,
         3,
         23
        ]
       ],
       "date-time": "2021-03-23T05:43:13Z",
       "timestamp": 1616478193000
      },
      "id": "10.3389/fcell.2021.626821",
      "indexed": {
       "date-parts": [
        [
         2021,
         3,
         23
        ]
       ],
       "date-time": "2021-03-23T06:17:19Z",
       "timestamp": 1616480239609
      },
      "is-referenced-by-count": 0,
      "issued": {
       "date-parts": [
        [
         2021,
         3,
         23
        ]
       ]
      },
      "license": [
       {
        "URL": "https://creativecommons.org/licenses/by/4.0/",
        "content-version": "vor",
        "delay-in-days": 0,
        "start": {
         "date-parts": [
          [
           2021,
           3,
           23
          ]
         ],
         "date-time": "2021-03-23T00:00:00Z",
         "timestamp": 1616457600000
        }
       }
      ],
      "link": [
       {
        "URL": "https://www.frontiersin.org/articles/10.3389/fcell.2021.626821/full",
        "content-type": "unspecified",
        "content-version": "vor",
        "intended-application": "similarity-checking"
       }
      ],
      "member": "1965",
      "original-title": [],
      "prefix": "10.3389",
      "published-online": {
       "date-parts": [
        [
         2021,
         3,
         23
        ]
       ]
      },
      "publisher": "Frontiers Media SA",
      "reference": [
       {
        "DOI": "10.1016/j.cell.2018.07.034",
        "article-title": "Comprehensive Characterization of Cancer Driver Genes and Mutations.",
        "author": "Bailey",
        "doi-asserted-by": "publisher",
        "first-page": "1034",
        "journal-title": "Cell",
        "key": "B1",
        "volume": "174",
        "year": "2018"
       },
       {
        "DOI": "10.1038/nature19768",
        "article-title": "Tissue-specific mutation accumulation in human adult stem cells during life.",
        "author": "Blokzijl",
        "doi-asserted-by": "publisher",
        "first-page": "260",
        "journal-title": "Nature",
        "key": "B2",
        "volume": "538",
        "year": "2016"
       },
       {
        "DOI": "10.1016/j.cell.2020.06.034",
        "article-title": "The Global Phosphorylation Landscape of SARS-CoV-2 Infection.",
        "author": "Bouhaddou",
        "doi-asserted-by": "crossref",
        "first-page": "685",
        "journal-title": "Cell",
        "key": "B3",
        "volume": "182",
        "year": "2020"
       },
       {
        "DOI": "10.1111/febs.15319",
        "article-title": "Sumoylation on its 25th anniversary: mechanisms, pathology, and emerging concepts.",
        "author": "Celen",
        "doi-asserted-by": "publisher",
        "first-page": "3110",
        "journal-title": "FEBS J.",
        "key": "B4",
        "volume": "287",
        "year": "2020"
       },
       {
        "DOI": "10.1021/pr8008012",
        "article-title": "Glycoproteomics analysis of human liver tissue by combination of multiple enzyme digestion and hydrazide chemistry.",
        "author": "Chen",
        "doi-asserted-by": "publisher",
        "first-page": "651",
        "journal-title": "J. Proteome Res.",
        "key": "B5",
        "volume": "8",
        "year": "2009"
       },
       {
        "DOI": "10.1016/j.cell.2007.08.045",
        "article-title": "SUMO-specific protease 1 is essential for stabilization of HIF1alpha during hypoxia.",
        "author": "Cheng",
        "doi-asserted-by": "publisher",
        "first-page": "584",
        "journal-title": "Cell",
        "key": "B6",
        "volume": "131",
        "year": "2007"
       },
       {
        "DOI": "10.1038/s41586-019-1879-7",
        "article-title": "A brief history of human disease genetics.",
        "author": "Claussnitzer",
        "doi-asserted-by": "publisher",
        "first-page": "179",
        "journal-title": "Nature",
        "key": "B7",
        "volume": "577",
        "year": "2020"
       },
       {
        "DOI": "10.1016/j.cell.2015.08.056",
        "article-title": "Kinome-wide decoding of network-attacking mutations rewiring cancer signaling.",
        "author": "Creixell",
        "doi-asserted-by": "publisher",
        "first-page": "202",
        "journal-title": "Cell",
        "key": "B8",
        "volume": "163",
        "year": "2015"
       },
       {
        "DOI": "10.15252/embj.201592595",
        "article-title": "Spatiotemporal regulation of posttranslational modifications in the DNA damage response.",
        "author": "Dantuma",
        "doi-asserted-by": "publisher",
        "first-page": "6",
        "journal-title": "EMBO J.",
        "key": "B9",
        "volume": "35",
        "year": "2016"
       },
       {
        "DOI": "10.1016/S0022-2836(03)00889-1",
        "article-title": "ALS mutants of human superoxide dismutase form fibrous aggregates via framework destabilization.",
        "author": "DiDonato",
        "doi-asserted-by": "publisher",
        "first-page": "601",
        "journal-title": "J. Mole. Biol.",
        "key": "B10",
        "volume": "332",
        "year": "2003"
       },
       {
        "DOI": "10.1093/nar/gkq1104",
        "article-title": "Phospho.ELM: a database of phosphorylation sites–update 2011.",
        "author": "Dinkel",
        "doi-asserted-by": "publisher",
        "first-page": "D261",
        "journal-title": "Nucleic Acids Res.",
        "key": "B11",
        "volume": "39",
        "year": "2011"
       },
       {
        "DOI": "10.1126/science.1207861",
        "article-title": "Sirt5 is a NAD-dependent protein lysine demalonylase and desuccinylase.",
        "author": "Du",
        "doi-asserted-by": "publisher",
        "first-page": "806",
        "journal-title": "Science",
        "key": "B12",
        "volume": "334",
        "year": "2011"
       },
       {
        "DOI": "10.1016/j.cels.2018.03.002",
        "article-title": "Scalable Open Science Approach for Mutation Calling of Tumor Exomes Using Multiple Genomic Pipelines.",
        "author": "Ellrott",
        "doi-asserted-by": "publisher",
        "first-page": "271",
        "journal-title": "Cell Syst.",
        "key": "B13",
        "volume": "6",
        "year": "2018"
       },
       {
        "DOI": "10.1186/s13008-015-0010-1",
        "article-title": "Sumo and the cellular stress response.",
        "author": "Enserink",
        "doi-asserted-by": "publisher",
        "journal-title": "Cell Div.",
        "key": "B14",
        "volume": "10",
        "year": "2015"
       },
       {
        "DOI": "10.1093/nar/gkw1107",
        "article-title": "InterPro in 2017-beyond protein family and domain annotations.",
        "author": "Finn",
        "doi-asserted-by": "publisher",
        "first-page": "D190",
        "journal-title": "Nucleic Acids Res.",
        "key": "B15",
        "volume": "45",
        "year": "2017"
       },
       {
        "DOI": "10.1146/annurev-biochem-061909-093311",
        "article-title": "Sumoylation: a regulatory protein modification in health and disease.",
        "author": "Flotho",
        "doi-asserted-by": "publisher",
        "first-page": "357",
        "journal-title": "Annu. Rev. Biochem.",
        "key": "B16",
        "volume": "82",
        "year": "2013"
       },
       {
        "DOI": "10.1038/nrc1299",
        "article-title": "A census of human cancer genes.",
        "author": "Futreal",
        "doi-asserted-by": "publisher",
        "first-page": "177",
        "journal-title": "Nat. Rev. Cancer",
        "key": "B17",
        "volume": "4",
        "year": "2004"
       },
       {
        "DOI": "10.1038/nrm2293",
        "article-title": "Concepts in sumoylation: a decade on.",
        "author": "Geiss-Friedlander",
        "doi-asserted-by": "publisher",
        "first-page": "947",
        "journal-title": "Nat. Rev. Mole. Cell Biol.",
        "key": "B18",
        "volume": "8",
        "year": "2007"
       },
       {
        "DOI": "10.1038/nrclinonc.2015.213",
        "article-title": "Kinase inhibitors and monoclonal antibodies in oncology: clinical implications.",
        "author": "Gharwan",
        "doi-asserted-by": "publisher",
        "first-page": "209",
        "journal-title": "Nat. Rev. Clin. Oncol.",
        "key": "B19",
        "volume": "13",
        "year": "2016"
       },
       {
        "DOI": "10.1038/nmeth.2562",
        "article-title": "Computational approaches to identify functional genetic variants in cancer genomes.",
        "author": "Gonzalez-Perez",
        "doi-asserted-by": "publisher",
        "first-page": "723",
        "journal-title": "Nat. Methods",
        "key": "B20",
        "volume": "10",
        "year": "2013"
       },
       {
        "DOI": "10.1038/nature07960",
        "article-title": "Targeting the ubiquitin system in cancer therapy.",
        "author": "Hoeller",
        "doi-asserted-by": "publisher",
        "first-page": "438",
        "journal-title": "Nature",
        "key": "B21",
        "volume": "458",
        "year": "2009"
       },
       {
        "DOI": "10.1093/nar/gku1267",
        "article-title": "PhosphoSitePlus, 2014: mutations, PTMs and recalibrations.",
        "author": "Hornbeck",
        "doi-asserted-by": "publisher",
        "first-page": "D512",
        "journal-title": "Nucleic Acids Res.",
        "key": "B22",
        "volume": "43",
        "year": "2015"
       },
       {
        "DOI": "10.1016/j.immuni.2016.08.014",
        "article-title": "Sumoylation Promotes the Stability of the DNA Sensor cGAS and the Adaptor STING to Regulate the Kinetics of Response to DNA Virus.",
        "author": "Hu",
        "doi-asserted-by": "publisher",
        "first-page": "555",
        "journal-title": "Immunity",
        "key": "B23",
        "volume": "45",
        "year": "2016"
       },
       {
        "DOI": "10.1093/nar/gkaa945",
        "article-title": "KinaseMD: kinase mutations and drug response database.",
        "author": "Hu",
        "doi-asserted-by": "publisher",
        "first-page": "D552",
        "journal-title": "Nucleic Acids Res.",
        "key": "B24",
        "volume": "49",
        "year": "2021"
       },
       {
        "DOI": "10.1016/j.cell.2018.03.039",
        "article-title": "Pathogenic Germline Variants in 10,389 Adult Cancers.",
        "author": "Huang",
        "doi-asserted-by": "publisher",
        "first-page": "355",
        "journal-title": "Cell",
        "key": "B25",
        "volume": "173",
        "year": "2018"
       },
       {
        "DOI": "10.1038/s41586-020-1969-6",
        "article-title": "Pan-cancer analysis of whole genomes.",
        "doi-asserted-by": "publisher",
        "first-page": "82",
        "journal-title": "Nature",
        "key": "B26",
        "volume": "578",
        "year": "2020"
       },
       {
        "DOI": "10.1073/pnas.2002660117",
        "article-title": "Comprehensive characterization of amino acid positions in protein structures reveals molecular effect of missense variants.",
        "author": "Iqbal",
        "doi-asserted-by": "publisher",
        "first-page": "28201",
        "journal-title": "Proc. Natl. Acad. Sci. U S A",
        "key": "B27",
        "volume": "117",
        "year": "2020"
       },
       {
        "DOI": "10.1038/nrg.2016.93",
        "article-title": "Targeting the cancer epigenome for therapy.",
        "author": "Jones",
        "doi-asserted-by": "publisher",
        "first-page": "630",
        "journal-title": "Nat. Rev. Genet.",
        "key": "B28",
        "volume": "17",
        "year": "2016"
       },
       {
        "DOI": "10.1073/pnas.1516373112",
        "article-title": "Comprehensive assessment of cancer missense mutation clustering in protein structures.",
        "author": "Kamburov",
        "doi-asserted-by": "publisher",
        "first-page": "E5486",
        "journal-title": "Proc. Natl. Acad. Sci. U S A",
        "key": "B29",
        "volume": "112",
        "year": "2015"
       },
       {
        "DOI": "10.1038/s41586-020-2308-7",
        "article-title": "The mutational constraint spectrum quantified from variation in 141,456 humans.",
        "author": "Karczewski",
        "doi-asserted-by": "publisher",
        "first-page": "434",
        "journal-title": "Nature",
        "key": "B30",
        "volume": "581",
        "year": "2020"
       },
       {
        "DOI": "10.1093/nar/gkn892",
        "article-title": "Human Protein Reference Database–2009 update.",
        "author": "Keshava Prasad",
        "doi-asserted-by": "publisher",
        "first-page": "D767",
        "journal-title": "Nucleic Acids Res.",
        "key": "B31",
        "volume": "37",
        "year": "2009"
       },
       {
        "DOI": "10.1101/178392",
        "article-title": "ActiveDriverDB: human disease mutations and genome variation in post-translational modification sites of proteins.",
        "author": "Krassowski",
        "doi-asserted-by": "publisher",
        "first-page": "D901",
        "journal-title": "Nucleic Acids Res",
        "key": "B32",
        "volume": "46",
        "year": "2017"
       },
       {
        "DOI": "10.1093/nar/gkz972",
        "article-title": "ClinVar: improvements to accessing data.",
        "author": "Landrum",
        "doi-asserted-by": "publisher",
        "first-page": "D835",
        "journal-title": "Nucleic Acids Res.",
        "key": "B33",
        "volume": "48",
        "year": "2020"
       },
       {
        "DOI": "10.1073/pnas.96.6.3149",
        "article-title": "The insulin-like growth factor (IGF)-dependent IGF binding protein-4 protease secreted by human fibroblasts is pregnancy-associated plasma protein-A.",
        "author": "Lawrence",
        "doi-asserted-by": "publisher",
        "first-page": "3149",
        "journal-title": "Proc. Natl. Acad. Sci. U S A",
        "key": "B34",
        "volume": "96",
        "year": "1999"
       },
       {
        "DOI": "10.1093/bib/bbz050",
        "article-title": "PRISMOID: a comprehensive 3D structure database for post-translational modifications and mutations with functional impact.",
        "author": "Li",
        "doi-asserted-by": "publisher",
        "first-page": "1069",
        "journal-title": "Brief Bioinform.",
        "key": "B35",
        "volume": "21",
        "year": "2020"
       },
       {
        "DOI": "10.1038/ncomms12235",
        "article-title": "SIRT7 is a histone desuccinylase that functionally links to chromatin compaction and genome stability.",
        "author": "Li",
        "doi-asserted-by": "publisher",
        "journal-title": "Nat. Commun.",
        "key": "B36",
        "volume": "7",
        "year": "2016"
       },
       {
        "DOI": "10.1142/9789814295291_0036",
        "article-title": "Loss of post-translational modification sites in disease.",
        "author": "Li",
        "doi-asserted-by": "publisher",
        "first-page": "337",
        "journal-title": "Pac. Symp. Biocomput.",
        "key": "B37",
        "volume": "2010",
        "year": "2010"
       },
       {
        "DOI": "10.1016/j.bbrc.2013.10.033",
        "article-title": "SIRT5 desuccinylates and activates SOD1 to eliminate ROS.",
        "author": "Lin",
        "doi-asserted-by": "publisher",
        "first-page": "191",
        "journal-title": "Biochem. Biophys. Res. Commun.",
        "key": "B38",
        "volume": "441",
        "year": "2013"
       },
       {
        "DOI": "10.1016/j.immuni.2016.06.020",
        "article-title": "Post-Translational Modification Control of Innate Immunity.",
        "author": "Liu",
        "doi-asserted-by": "publisher",
        "first-page": "15",
        "journal-title": "Immunity",
        "key": "B39",
        "volume": "45",
        "year": "2016"
       },
       {
        "DOI": "10.1021/pr0502065",
        "article-title": "Human plasma N-glycoproteome analysis by immunoaffinity subtraction, hydrazide chemistry, and mass spectrometry.",
        "author": "Liu",
        "doi-asserted-by": "publisher",
        "first-page": "2070",
        "journal-title": "J. Proteome Res.",
        "key": "B40",
        "volume": "4",
        "year": "2005"
       },
       {
        "DOI": "10.1038/nature13127",
        "article-title": "Guidelines for investigating causality of sequence variants in human disease.",
        "author": "MacArthur",
        "doi-asserted-by": "publisher",
        "first-page": "469",
        "journal-title": "Nature",
        "key": "B41",
        "volume": "508",
        "year": "2014"
       },
       {
        "DOI": "10.1038/nbt0303-255",
        "article-title": "Proteomic analysis of post-translational modifications.",
        "author": "Mann",
        "doi-asserted-by": "publisher",
        "first-page": "255",
        "journal-title": "Nat. Biotechnol.",
        "key": "B42",
        "volume": "21",
        "year": "2003"
       },
       {
        "DOI": "10.1126/science.aaa6806",
        "article-title": "Tumor evolution. High burden and pervasive positive selection of somatic mutations in normal human skin.",
        "author": "Martincorena",
        "doi-asserted-by": "publisher",
        "first-page": "880",
        "journal-title": "Science",
        "key": "B43",
        "volume": "348",
        "year": "2015"
       },
       {
        "DOI": "10.1038/s43018-019-0001-2",
        "article-title": "Systematic analysis of alterations in the ubiquitin proteolysis system reveals its contribution to driver mutations in cancer.",
        "author": "Martínez-Jiménez",
        "doi-asserted-by": "publisher",
        "first-page": "122",
        "journal-title": "Nat. Cancer",
        "key": "B44",
        "volume": "1",
        "year": "2020"
       },
       {
        "DOI": "10.1038/nbt0808-864",
        "article-title": "The PSI-MOD community standard for representation of protein modification data.",
        "author": "Montecchi-Palazzi",
        "doi-asserted-by": "publisher",
        "first-page": "864",
        "journal-title": "Nat. Biotechnol.",
        "key": "B45",
        "volume": "26",
        "year": "2008"
       },
       {
        "DOI": "10.1038/nrm3383",
        "article-title": "Vertebrate protein glycosylation: diversity, synthesis and function.",
        "author": "Moremen",
        "doi-asserted-by": "publisher",
        "first-page": "448",
        "journal-title": "Nat. Rev. Mole. Cell Biol.",
        "key": "B46",
        "volume": "13",
        "year": "2012"
       },
       {
        "DOI": "10.1126/science.275.5307.1787",
        "article-title": "Activation of beta-catenin-Tcf signaling in colon cancer by mutations in beta-catenin or APC.",
        "author": "Morin",
        "doi-asserted-by": "publisher",
        "first-page": "1787",
        "journal-title": "Science",
        "key": "B47",
        "volume": "275",
        "year": "1997"
       },
       {
        "DOI": "10.1186/s13073-016-0311-2",
        "article-title": "Frequent mutations in acetylation and ubiquitination sites suggest novel driver mechanisms of cancer.",
        "author": "Narayan",
        "doi-asserted-by": "publisher",
        "journal-title": "Genome Med.",
        "key": "B48",
        "volume": "8",
        "year": "2016"
       },
       {
        "DOI": "10.1038/s41467-019-13983-9",
        "article-title": "Integrative pathway enrichment analysis of multivariate omics data.",
        "author": "Paczkowska",
        "doi-asserted-by": "publisher",
        "journal-title": "Nat. Commun.",
        "key": "B49",
        "volume": "11",
        "year": "2020"
       },
       {
        "DOI": "10.1038/373573a0",
        "article-title": "Protein modules and signalling networks.",
        "author": "Pawson",
        "doi-asserted-by": "publisher",
        "first-page": "573",
        "journal-title": "Nature",
        "key": "B50",
        "volume": "373",
        "year": "1995"
       },
       {
        "DOI": "10.1101/gr.097857.109",
        "article-title": "Detection of nonneutral substitution rates on mammalian phylogenies.",
        "author": "Pollard",
        "doi-asserted-by": "publisher",
        "first-page": "110",
        "journal-title": "Genome Res.",
        "key": "B51",
        "volume": "20",
        "year": "2010"
       },
       {
        "DOI": "10.1371/journal.pcbi.1004518",
        "article-title": "A Pan-Cancer Catalogue of Cancer Driver Protein Interaction Interfaces.",
        "author": "Porta-Pardo",
        "doi-asserted-by": "publisher",
        "journal-title": "PLoS Comput. Biol.",
        "key": "B52",
        "volume": "11",
        "year": "2015"
       },
       {
        "DOI": "10.1093/bioinformatics/btn267",
        "article-title": "Gain and loss of phosphorylation sites in human cancer.",
        "author": "Radivojac",
        "doi-asserted-by": "publisher",
        "first-page": "i241",
        "journal-title": "Bioinformatics",
        "key": "B53",
        "volume": "24",
        "year": "2008"
       },
       {
        "DOI": "10.1038/s41581-019-0129-4",
        "article-title": "Glycosylation in health and disease.",
        "author": "Reily",
        "doi-asserted-by": "publisher",
        "first-page": "346",
        "journal-title": "Nat. Rev. Nephrol.",
        "key": "B54",
        "volume": "15",
        "year": "2019"
       },
       {
        "DOI": "10.1038/msb.2012.68",
        "article-title": "Systematic analysis of somatic mutations in phosphorylation signaling predicts novel cancer drivers.",
        "author": "Reimand",
        "doi-asserted-by": "publisher",
        "journal-title": "Mole. Syst. Biol.",
        "key": "B55",
        "volume": "9",
        "year": "2013"
       },
       {
        "DOI": "10.1038/srep02651",
        "article-title": "The mutational landscape of phosphorylation signaling in cancer.",
        "author": "Reimand",
        "doi-asserted-by": "publisher",
        "journal-title": "Sci. Rep.",
        "key": "B56",
        "volume": "3",
        "year": "2013"
       },
       {
        "DOI": "10.1371/journal.pgen.1004919",
        "article-title": "Evolutionary constraint and disease associations of post-translational modification sites in human genomes.",
        "author": "Reimand",
        "doi-asserted-by": "publisher",
        "journal-title": "PLoS Genet.",
        "key": "B57",
        "volume": "11",
        "year": "2015"
       },
       {
        "DOI": "10.1038/s41467-020-14367-0",
        "article-title": "Pathway and network analysis of more than 2,500 whole cancer genomes.",
        "author": "Reyna",
        "doi-asserted-by": "publisher",
        "journal-title": "Nat. Commun.",
        "key": "B58",
        "volume": "11",
        "year": "2020"
       },
       {
        "DOI": "10.1038/362059a0",
        "article-title": "Mutations in Cu/Zn superoxide dismutase gene are associated with familial amyotrophic lateral sclerosis.",
        "author": "Rosen",
        "doi-asserted-by": "publisher",
        "first-page": "59",
        "journal-title": "Nature",
        "key": "B59",
        "volume": "362",
        "year": "1993"
       },
       {
        "DOI": "10.1016/j.isci.2018.03.012",
        "article-title": "Chromatin Succinylation Correlates with Active Gene Expression and Is Perturbed by Defective TCA Cycle Metabolism.",
        "author": "Smestad",
        "doi-asserted-by": "publisher",
        "first-page": "63",
        "journal-title": "iScience",
        "key": "B60",
        "volume": "2",
        "year": "2018"
       },
       {
        "DOI": "10.1016/j.gendis.2019.09.011",
        "article-title": "Enzymatic and metabolic regulation of lysine succinylation.",
        "author": "Sreedhar",
        "doi-asserted-by": "publisher",
        "first-page": "166",
        "journal-title": "Genes Dis.",
        "key": "B61",
        "volume": "7",
        "year": "2020"
       },
       {
        "DOI": "10.1126/science.1219240",
        "article-title": "Evolution and functional impact of rare coding variation from deep sequencing of human exomes.",
        "author": "Tennessen",
        "doi-asserted-by": "publisher",
        "first-page": "64",
        "journal-title": "Science",
        "key": "B62",
        "volume": "337",
        "year": "2012"
       },
       {
        "DOI": "10.1038/nature15393",
        "article-title": "A global reference for human genetic variation.",
        "doi-asserted-by": "publisher",
        "first-page": "68",
        "journal-title": "Nature",
        "key": "B63",
        "volume": "526",
        "year": "2015"
       },
       {
        "DOI": "10.1016/j.molmet.2020.01.005",
        "article-title": "Compartmentalised acyl-CoA metabolism and roles in chromatin regulation.",
        "author": "Trefely",
        "doi-asserted-by": "publisher",
        "journal-title": "Mol. Metab.",
        "key": "B64",
        "volume": "38",
        "year": "2020"
       },
       {
        "DOI": "10.1093/nar/gky1049",
        "article-title": "UniProt: a worldwide hub of protein knowledge.",
        "doi-asserted-by": "publisher",
        "first-page": "D506",
        "journal-title": "Nucleic Acids Res.",
        "key": "B65",
        "volume": "47",
        "year": "2019"
       },
       {
        "DOI": "10.1038/nmeth.3963",
        "article-title": "Impact of outdated gene annotations on pathway enrichment analysis.",
        "author": "Wadi",
        "doi-asserted-by": "publisher",
        "first-page": "705",
        "journal-title": "Nat. Methods",
        "key": "B66",
        "volume": "13",
        "year": "2016"
       },
       {
        "DOI": "10.1038/nmeth.3396",
        "article-title": "MIMP: predicting the impact of mutations on kinase-substrate phosphorylation.",
        "author": "Wagih",
        "doi-asserted-by": "publisher",
        "first-page": "531",
        "journal-title": "Nat. Methods",
        "key": "B67",
        "volume": "12",
        "year": "2015"
       },
       {
        "DOI": "10.1093/jmcb/mjv013",
        "article-title": "Reconfiguring phosphorylation signaling by genetic polymorphisms affects cancer susceptibility.",
        "author": "Wang",
        "doi-asserted-by": "publisher",
        "first-page": "187",
        "journal-title": "J. Mol. Cell Biol.",
        "key": "B68",
        "volume": "7",
        "year": "2015"
       },
       {
        "DOI": "10.1093/bioinformatics/bth195",
        "article-title": "The DISOPRED server for the prediction of protein disorder.",
        "author": "Ward",
        "doi-asserted-by": "publisher",
        "first-page": "2138",
        "journal-title": "Bioinformatics",
        "key": "B69",
        "volume": "20",
        "year": "2004"
       },
       {
        "DOI": "10.1093/nar/gkx1037",
        "article-title": "DrugBank 5.0: a major update to the DrugBank database for 2018.",
        "author": "Wishart",
        "doi-asserted-by": "publisher",
        "first-page": "D1074",
        "journal-title": "Nucleic Acids Res.",
        "key": "B70",
        "volume": "46",
        "year": "2018"
       },
       {
        "DOI": "10.1016/j.chom.2013.04.011",
        "article-title": "Quantitative phosphoproteomics reveals extensive cellular reprogramming during HIV-1 entry.",
        "author": "Wojcechowskyj",
        "doi-asserted-by": "publisher",
        "first-page": "613",
        "journal-title": "Cell Host Microb.",
        "key": "B71",
        "volume": "13",
        "year": "2013"
       },
       {
        "DOI": "10.1038/nbt.1532",
        "article-title": "Mass-spectrometric identification and relative quantification of N-linked cell surface glycoproteins.",
        "author": "Wollscheid",
        "doi-asserted-by": "publisher",
        "first-page": "378",
        "journal-title": "Nat. Biotechnol.",
        "key": "B72",
        "volume": "27",
        "year": "2009"
       },
       {
        "DOI": "10.1074/mcp.M111.015875",
        "article-title": "Lysine succinylation and lysine malonylation in histones.",
        "author": "Xie",
        "doi-asserted-by": "publisher",
        "first-page": "100",
        "journal-title": "Mol. Cell Proteomics",
        "key": "B73",
        "volume": "11",
        "year": "2012"
       },
       {
        "DOI": "10.1098/rsob.170167",
        "article-title": "Protein SUMOylation modification and its associations with disease.",
        "author": "Yang",
        "doi-asserted-by": "publisher",
        "journal-title": "Open Biol.",
        "key": "B74",
        "volume": "2017",
        "year": "2017"
       },
       {
        "DOI": "10.1093/nar/gky821",
        "article-title": "AWESOME: a database of SNPs that affect protein post-translational modifications.",
        "author": "Yang",
        "doi-asserted-by": "publisher",
        "first-page": "D874",
        "journal-title": "Nucleic Acids Res.",
        "key": "B75",
        "volume": "47",
        "year": "2019"
       },
       {
        "DOI": "10.1016/j.molcel.2019.07.017",
        "article-title": "Disease-Causing Mutations in SF3B1 Alter Splicing by Disrupting Interaction with SUGP1.",
        "author": "Zhang",
        "doi-asserted-by": "publisher",
        "journal-title": "Mol. Cell",
        "key": "B76",
        "volume": "76",
        "year": "2019"
       },
       {
        "DOI": "10.1038/nchembio.495",
        "article-title": "Identification of lysine succinylation as a new post-translational modification.",
        "author": "Zhang",
        "doi-asserted-by": "publisher",
        "first-page": "58",
        "journal-title": "Nat. Chem. Biol.",
        "key": "B77",
        "volume": "7",
        "year": "2011"
       }
      ],
      "reference-count": 77,
      "references-count": 77,
      "relation": {
       "cites": []
      },
      "score": 1,
      "short-title": [],
      "source": "Crossref",
      "subtitle": [],
      "title": "ActiveDriverDB: Interpreting Genetic Variation in Human and Cancer Genomes Using Post-translational Modification Sites and Signaling Networks (2021 Update)",
      "type": "article-journal",
      "update-policy": "http://dx.doi.org/10.3389/crossmark-policy",
      "volume": "9"
     }
    }
   }
  },
  "kernelspec": {
   "display_name": "Python 3 (ipykernel)",
   "language": "python",
   "name": "python3"
  },
  "language_info": {
   "codemirror_mode": {
    "name": "ipython",
    "version": 3
   },
   "file_extension": ".py",
   "mimetype": "text/x-python",
   "name": "python",
   "nbconvert_exporter": "python",
   "pygments_lexer": "ipython3",
   "version": "3.9.5"
  }
 },
 "nbformat": 4,
 "nbformat_minor": 5
}
