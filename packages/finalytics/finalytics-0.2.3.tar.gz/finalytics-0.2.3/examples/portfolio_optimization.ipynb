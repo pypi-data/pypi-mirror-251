{
 "cells": [
  {
   "cell_type": "markdown",
   "id": "e9357192-6d2c-4f2b-9bde-515cfde857d1",
   "metadata": {},
   "source": [
    "![Finalytics](https://github.com/Nnamdi-sys/finalytics/raw/main/logo-color.png)"
   ]
  },
  {
   "cell_type": "code",
   "execution_count": 1,
   "id": "3aba6e20-645b-4c93-afab-4efe98055892",
   "metadata": {},
   "outputs": [],
   "source": [
    "#!pip install finalytics"
   ]
  },
  {
   "cell_type": "code",
   "execution_count": 2,
   "id": "5874b5a5-3700-485b-a72b-ae7693e5bad1",
   "metadata": {},
   "outputs": [],
   "source": [
    "from finalytics import Portfolio"
   ]
  },
  {
   "cell_type": "code",
   "execution_count": 3,
   "id": "136f4605-16e8-412a-8a88-a44fb16c7f53",
   "metadata": {},
   "outputs": [],
   "source": [
    "ticker_symbols = [\"AAPL\", \"MSFT\", \"NVDA\", \"BTC-USD\"]\n",
    "benchmark_symbol = \"^GSPC\"\n",
    "start_date = \"2019-01-01\"\n",
    "end_date = \"2023-12-31\"\n",
    "interval = \"1d\"\n",
    "confidence_level = 0.95\n",
    "risk_free_rate = 0.04\n",
    "max_iterations = 1000\n",
    "objective = \"max_sharpe\""
   ]
  },
  {
   "cell_type": "code",
   "execution_count": 4,
   "id": "365ac428-c57d-47da-97c8-1c7993b418ae",
   "metadata": {},
   "outputs": [],
   "source": [
    "portfolio = Portfolio(ticker_symbols, \n",
    "                      benchmark_symbol, \n",
    "                      start_date, \n",
    "                      end_date, \n",
    "                      interval, \n",
    "                      confidence_level, \n",
    "                      risk_free_rate, \n",
    "                      max_iterations, \n",
    "                      objective)"
   ]
  },
  {
   "cell_type": "code",
   "execution_count": 5,
   "id": "e707942f-3c0f-4148-a4cc-a6016a377402",
   "metadata": {},
   "outputs": [
    {
     "data": {
      "text/plain": [
       "{'ticker_symbols': ['AAPL', 'MSFT', 'NVDA', 'BTC-USD'],\n",
       " 'benchmark_symbol': '^GSPC',\n",
       " 'start_date': '2019-01-01',\n",
       " 'end_date': '2023-12-31',\n",
       " 'interval': '1d',\n",
       " 'confidence_level': 0.95,\n",
       " 'risk_free_rate': 0.04,\n",
       " 'portfolio_returns': shape: (1_825, 4)\n",
       " ┌───────────┬───────────┬──────────┬───────────┐\n",
       " │ AAPL      ┆ MSFT      ┆ NVDA     ┆ BTC-USD   │\n",
       " │ ---       ┆ ---       ┆ ---      ┆ ---       │\n",
       " │ f64       ┆ f64       ┆ f64      ┆ f64       │\n",
       " ╞═══════════╪═══════════╪══════════╪═══════════╡\n",
       " │ 0.0       ┆ 0.0       ┆ 0.0      ┆ 0.0       │\n",
       " │ 0.0       ┆ 0.0       ┆ 0.0      ┆ 2.598904  │\n",
       " │ -9.960737 ┆ -3.678799 ┆ -6.0417  ┆ -2.704974 │\n",
       " │ 4.26893   ┆ 4.650923  ┆ 6.406754 ┆ 0.546722  │\n",
       " │ …         ┆ …         ┆ …        ┆ …         │\n",
       " │ 0.051795  ┆ -0.157475 ┆ 0.280039 ┆ 2.169436  │\n",
       " │ 0.222629  ┆ 0.323467  ┆ 0.212475 ┆ -1.876028 │\n",
       " │ -0.542413 ┆ 0.202518  ┆ 0.0      ┆ -1.23969  │\n",
       " │ -0.542413 ┆ 0.202518  ┆ 0.0      ┆ 0.136582  │\n",
       " └───────────┴───────────┴──────────┴───────────┘,\n",
       " 'benchmark_returns': shape: (1_825,)\n",
       " Series: '' [f64]\n",
       " [\n",
       " \t0.0\n",
       " \t0.0\n",
       " \t-2.475673\n",
       " \t3.433571\n",
       " \t3.433571\n",
       " \t3.433571\n",
       " \t0.701043\n",
       " \t0.969529\n",
       " \t0.409805\n",
       " \t0.451842\n",
       " \t-0.01463\n",
       " \t-0.01463\n",
       " \t…\n",
       " \t0.452834\n",
       " \t0.586641\n",
       " \t-1.468427\n",
       " \t1.030147\n",
       " \t0.166006\n",
       " \t0.166006\n",
       " \t0.166006\n",
       " \t0.166006\n",
       " \t0.423169\n",
       " \t0.143046\n",
       " \t0.037017\n",
       " \t-0.282648\n",
       " \t-0.282648\n",
       " ],\n",
       " 'objective_function': 'Maximize Sharpe Ratio',\n",
       " 'optimization_method': 'Simple Gradient Descent',\n",
       " 'max_iterations': 1000,\n",
       " 'optimal_weights': [0.08989876980885894,\n",
       "  0.3904398073346116,\n",
       "  0.22707164423836682,\n",
       "  0.29258977861816265],\n",
       " 'optimal_portfolio_returns': shape: (1_825,)\n",
       " Series: '' [f64]\n",
       " [\n",
       " \t0.0\n",
       " \t0.760413\n",
       " \t-4.495154\n",
       " \t3.814435\n",
       " \t3.559488\n",
       " \t5.415535\n",
       " \t0.86312\n",
       " \t-0.070129\n",
       " \t1.189841\n",
       " \t-2.38408\n",
       " \t0.240245\n",
       " \t-0.033706\n",
       " \t…\n",
       " \t1.567524\n",
       " \t-0.344703\n",
       " \t-0.099513\n",
       " \t0.860945\n",
       " \t0.070541\n",
       " \t-0.187141\n",
       " \t-0.499256\n",
       " \t0.390758\n",
       " \t-0.541493\n",
       " \t0.641516\n",
       " \t-0.354351\n",
       " \t-0.332412\n",
       " \t0.070271\n",
       " ],\n",
       " 'Daily Return': 0.16553377483821477,\n",
       " 'Daily Volatility': 2.008679587089802,\n",
       " 'Cumulative Return': 1314.1508644573762,\n",
       " 'Annualized Return': 51.70994194585767,\n",
       " 'Annualized Volatility': 31.886799906309147,\n",
       " 'Alpha': -0.0030575259158315375,\n",
       " 'Beta': 0.5031102426384304,\n",
       " 'Sharpe Ratio': 1.4962285988572264,\n",
       " 'Sortino Ratio': 2.0651199036600123,\n",
       " 'Active Return': 23.972360046002294,\n",
       " 'Active Risk': 20.782772766949844,\n",
       " 'Information Ratio': 1.153472653279679,\n",
       " 'Calmar Ratio': 2.000826367051443,\n",
       " 'Maximum Drawdown': 25.84429253701861,\n",
       " 'Value at Risk': -2.8378898381780004,\n",
       " 'Expected Shortfall': -4.450537667163445}"
      ]
     },
     "execution_count": 5,
     "metadata": {},
     "output_type": "execute_result"
    }
   ],
   "source": [
    "portfolio.get_optimization_results()"
   ]
  },
  {
   "cell_type": "code",
   "execution_count": 6,
   "id": "f6829541-3e36-49ba-8314-caafe05edf57",
   "metadata": {},
   "outputs": [
    {
     "data": {
      "text/html": [
       "\n",
       "        <iframe\n",
       "            width=\"1000\"\n",
       "            height=\"800\"\n",
       "            src=\"optimization.html\"\n",
       "            frameborder=\"0\"\n",
       "            allowfullscreen\n",
       "            \n",
       "        ></iframe>\n",
       "        "
      ],
      "text/plain": [
       "<IPython.lib.display.IFrame at 0x1092c3290>"
      ]
     },
     "metadata": {},
     "output_type": "display_data"
    }
   ],
   "source": [
    "portfolio.display_portfolio_charts(chart_type=\"optimization\", display_format=\"notebook\")"
   ]
  },
  {
   "cell_type": "code",
   "execution_count": 7,
   "id": "5bbcc380-1db4-4b4a-8c92-c32ad0d7601f",
   "metadata": {},
   "outputs": [
    {
     "data": {
      "text/html": [
       "\n",
       "        <iframe\n",
       "            width=\"1000\"\n",
       "            height=\"800\"\n",
       "            src=\"performance.html\"\n",
       "            frameborder=\"0\"\n",
       "            allowfullscreen\n",
       "            \n",
       "        ></iframe>\n",
       "        "
      ],
      "text/plain": [
       "<IPython.lib.display.IFrame at 0x1057b90d0>"
      ]
     },
     "metadata": {},
     "output_type": "display_data"
    }
   ],
   "source": [
    "portfolio.display_portfolio_charts(chart_type=\"performance\", display_format=\"notebook\")"
   ]
  },
  {
   "cell_type": "code",
   "execution_count": 8,
   "id": "80042969-3240-4aa9-b0de-d1acb7346a8a",
   "metadata": {},
   "outputs": [
    {
     "data": {
      "text/html": [
       "\n",
       "        <iframe\n",
       "            width=\"1000\"\n",
       "            height=\"800\"\n",
       "            src=\"asset_returns.html\"\n",
       "            frameborder=\"0\"\n",
       "            allowfullscreen\n",
       "            \n",
       "        ></iframe>\n",
       "        "
      ],
      "text/plain": [
       "<IPython.lib.display.IFrame at 0x10a2a0a90>"
      ]
     },
     "metadata": {},
     "output_type": "display_data"
    }
   ],
   "source": [
    "portfolio.display_portfolio_charts(chart_type=\"asset_returns\", display_format=\"notebook\")"
   ]
  }
 ],
 "metadata": {
  "kernelspec": {
   "display_name": "venv",
   "language": "python",
   "name": "venv"
  },
  "language_info": {
   "codemirror_mode": {
    "name": "ipython",
    "version": 3
   },
   "file_extension": ".py",
   "mimetype": "text/x-python",
   "name": "python",
   "nbconvert_exporter": "python",
   "pygments_lexer": "ipython3",
   "version": "3.11.4"
  }
 },
 "nbformat": 4,
 "nbformat_minor": 5
}
