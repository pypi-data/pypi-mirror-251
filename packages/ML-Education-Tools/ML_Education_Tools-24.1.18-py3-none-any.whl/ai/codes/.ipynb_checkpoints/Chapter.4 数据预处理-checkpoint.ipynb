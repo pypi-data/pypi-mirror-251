{
 "cells": [
  {
   "cell_type": "code",
   "execution_count": 1,
   "id": "a6a0050e-b777-446a-9cf3-64ccebed8a67",
   "metadata": {
    "is_executing": true,
    "tags": []
   },
   "outputs": [],
   "source": []
  },
  {
   "cell_type": "markdown",
   "id": "1317a4e7-0c4f-448d-ad98-b88887a069a8",
   "metadata": {
    "is_executing": true,
    "tags": []
   },
   "source": [
    "## 【例4.1】发现缺失数据的常用方法。"
   ]
  },
  {
   "cell_type": "code",
   "execution_count": 1,
   "id": "f1952f6f-1671-4830-b2fd-c997fff081b4",
   "metadata": {
    "is_executing": true,
    "tags": []
   },
   "outputs": [
    {
     "name": "stdout",
     "output_type": "stream",
     "text": [
      "       A      B      C\n",
      "0  False  False  False\n",
      "1  False   True  False\n",
      "2   True  False  False\n",
      "3  False  False  False\n"
     ]
    }
   ],
   "source": [
    "import pandas as pd\n",
    "\n",
    "df = pd.DataFrame({\n",
    "       'A': [1, 2, None, 4],\n",
    "       'B': [5, None, 7, 8],\n",
    "       'C': [9, 10, 11, 12]\n",
    "   })\n",
    "print(df.isnull())"
   ]
  },
  {
   "cell_type": "code",
   "execution_count": 2,
   "id": "467f1408-80fe-48b9-8ee5-576ee61e8630",
   "metadata": {},
   "outputs": [
    {
     "name": "stdout",
     "output_type": "stream",
     "text": [
      "       A      B     C\n",
      "0   True   True  True\n",
      "1   True  False  True\n",
      "2  False   True  True\n",
      "3   True   True  True\n"
     ]
    }
   ],
   "source": [
    "print(df.notnull())"
   ]
  },
  {
   "cell_type": "code",
   "execution_count": 3,
   "id": "8564f65a-430b-475a-adfb-8c81f505c18b",
   "metadata": {},
   "outputs": [
    {
     "name": "stdout",
     "output_type": "stream",
     "text": [
      "<class 'pandas.core.frame.DataFrame'>\n",
      "RangeIndex: 4 entries, 0 to 3\n",
      "Data columns (total 3 columns):\n",
      " #   Column  Non-Null Count  Dtype  \n",
      "---  ------  --------------  -----  \n",
      " 0   A       3 non-null      float64\n",
      " 1   B       3 non-null      float64\n",
      " 2   C       4 non-null      int64  \n",
      "dtypes: float64(2), int64(1)\n",
      "memory usage: 224.0 bytes\n"
     ]
    }
   ],
   "source": [
    " df.info()"
   ]
  },
  {
   "cell_type": "code",
   "execution_count": 4,
   "id": "63904041-03f1-48bf-918a-fea4b02d9d01",
   "metadata": {},
   "outputs": [
    {
     "data": {
      "text/html": [
       "<div>\n",
       "<style scoped>\n",
       "    .dataframe tbody tr th:only-of-type {\n",
       "        vertical-align: middle;\n",
       "    }\n",
       "\n",
       "    .dataframe tbody tr th {\n",
       "        vertical-align: top;\n",
       "    }\n",
       "\n",
       "    .dataframe thead th {\n",
       "        text-align: right;\n",
       "    }\n",
       "</style>\n",
       "<table border=\"1\" class=\"dataframe\">\n",
       "  <thead>\n",
       "    <tr style=\"text-align: right;\">\n",
       "      <th></th>\n",
       "      <th>A</th>\n",
       "      <th>B</th>\n",
       "      <th>C</th>\n",
       "    </tr>\n",
       "  </thead>\n",
       "  <tbody>\n",
       "    <tr>\n",
       "      <th>count</th>\n",
       "      <td>3.000000</td>\n",
       "      <td>3.000000</td>\n",
       "      <td>4.000000</td>\n",
       "    </tr>\n",
       "    <tr>\n",
       "      <th>mean</th>\n",
       "      <td>2.333333</td>\n",
       "      <td>6.666667</td>\n",
       "      <td>10.500000</td>\n",
       "    </tr>\n",
       "    <tr>\n",
       "      <th>std</th>\n",
       "      <td>1.527525</td>\n",
       "      <td>1.527525</td>\n",
       "      <td>1.290994</td>\n",
       "    </tr>\n",
       "    <tr>\n",
       "      <th>min</th>\n",
       "      <td>1.000000</td>\n",
       "      <td>5.000000</td>\n",
       "      <td>9.000000</td>\n",
       "    </tr>\n",
       "    <tr>\n",
       "      <th>25%</th>\n",
       "      <td>1.500000</td>\n",
       "      <td>6.000000</td>\n",
       "      <td>9.750000</td>\n",
       "    </tr>\n",
       "    <tr>\n",
       "      <th>50%</th>\n",
       "      <td>2.000000</td>\n",
       "      <td>7.000000</td>\n",
       "      <td>10.500000</td>\n",
       "    </tr>\n",
       "    <tr>\n",
       "      <th>75%</th>\n",
       "      <td>3.000000</td>\n",
       "      <td>7.500000</td>\n",
       "      <td>11.250000</td>\n",
       "    </tr>\n",
       "    <tr>\n",
       "      <th>max</th>\n",
       "      <td>4.000000</td>\n",
       "      <td>8.000000</td>\n",
       "      <td>12.000000</td>\n",
       "    </tr>\n",
       "  </tbody>\n",
       "</table>\n",
       "</div>"
      ],
      "text/plain": [
       "              A         B          C\n",
       "count  3.000000  3.000000   4.000000\n",
       "mean   2.333333  6.666667  10.500000\n",
       "std    1.527525  1.527525   1.290994\n",
       "min    1.000000  5.000000   9.000000\n",
       "25%    1.500000  6.000000   9.750000\n",
       "50%    2.000000  7.000000  10.500000\n",
       "75%    3.000000  7.500000  11.250000\n",
       "max    4.000000  8.000000  12.000000"
      ]
     },
     "execution_count": 4,
     "metadata": {},
     "output_type": "execute_result"
    }
   ],
   "source": [
    "df.describe()"
   ]
  },
  {
   "cell_type": "code",
   "execution_count": 7,
   "id": "49bef755-0160-4530-ad81-86a010c37c6a",
   "metadata": {},
   "outputs": [],
   "source": [
    "df_interpolated = df.interpolate()"
   ]
  },
  {
   "cell_type": "code",
   "execution_count": 8,
   "id": "7b5ee969-ca07-4866-9c7f-931a37333ee0",
   "metadata": {},
   "outputs": [
    {
     "data": {
      "text/html": [
       "<div>\n",
       "<style scoped>\n",
       "    .dataframe tbody tr th:only-of-type {\n",
       "        vertical-align: middle;\n",
       "    }\n",
       "\n",
       "    .dataframe tbody tr th {\n",
       "        vertical-align: top;\n",
       "    }\n",
       "\n",
       "    .dataframe thead th {\n",
       "        text-align: right;\n",
       "    }\n",
       "</style>\n",
       "<table border=\"1\" class=\"dataframe\">\n",
       "  <thead>\n",
       "    <tr style=\"text-align: right;\">\n",
       "      <th></th>\n",
       "      <th>A</th>\n",
       "      <th>B</th>\n",
       "      <th>C</th>\n",
       "    </tr>\n",
       "  </thead>\n",
       "  <tbody>\n",
       "    <tr>\n",
       "      <th>0</th>\n",
       "      <td>1.0</td>\n",
       "      <td>5.0</td>\n",
       "      <td>9</td>\n",
       "    </tr>\n",
       "    <tr>\n",
       "      <th>1</th>\n",
       "      <td>2.0</td>\n",
       "      <td>6.0</td>\n",
       "      <td>10</td>\n",
       "    </tr>\n",
       "    <tr>\n",
       "      <th>2</th>\n",
       "      <td>3.0</td>\n",
       "      <td>7.0</td>\n",
       "      <td>11</td>\n",
       "    </tr>\n",
       "    <tr>\n",
       "      <th>3</th>\n",
       "      <td>4.0</td>\n",
       "      <td>8.0</td>\n",
       "      <td>12</td>\n",
       "    </tr>\n",
       "  </tbody>\n",
       "</table>\n",
       "</div>"
      ],
      "text/plain": [
       "     A    B   C\n",
       "0  1.0  5.0   9\n",
       "1  2.0  6.0  10\n",
       "2  3.0  7.0  11\n",
       "3  4.0  8.0  12"
      ]
     },
     "execution_count": 8,
     "metadata": {},
     "output_type": "execute_result"
    }
   ],
   "source": [
    "df_interpolated"
   ]
  },
  {
   "cell_type": "markdown",
   "id": "cbaaf718-5ad9-4b5a-b879-1c3df0b41d8c",
   "metadata": {},
   "source": [
    "【例4.2】以下是使用 pandas 和 scikit-learn 库进行数据清洗，包括处理缺失值、重复值和无效值："
   ]
  },
  {
   "cell_type": "code",
   "execution_count": 1,
   "id": "be15039b-b1db-4c7d-8f11-7f0b9518d8f3",
   "metadata": {},
   "outputs": [],
   "source": [
    "import pandas as pd\n",
    "from sklearn.impute import SimpleImputer\n",
    "\n",
    "# 创建示例数据\n",
    "data = {'姓名': ['张三', '李四', '王五', '赵六', '小明'],\n",
    "        '年龄': [23, 26, None, 24, 25],\n",
    "        '性别': ['男', '男', '女', '男', None],\n",
    "        '成绩': [90, 80, 85, 92, None]}\n",
    "df = pd.DataFrame(data)\n"
   ]
  },
  {
   "cell_type": "code",
   "execution_count": 2,
   "id": "3119e847-9cb5-4723-b9a0-05ec0e6c8c88",
   "metadata": {},
   "outputs": [
    {
     "data": {
      "text/html": [
       "<div>\n",
       "<style scoped>\n",
       "    .dataframe tbody tr th:only-of-type {\n",
       "        vertical-align: middle;\n",
       "    }\n",
       "\n",
       "    .dataframe tbody tr th {\n",
       "        vertical-align: top;\n",
       "    }\n",
       "\n",
       "    .dataframe thead th {\n",
       "        text-align: right;\n",
       "    }\n",
       "</style>\n",
       "<table border=\"1\" class=\"dataframe\">\n",
       "  <thead>\n",
       "    <tr style=\"text-align: right;\">\n",
       "      <th></th>\n",
       "      <th>姓名</th>\n",
       "      <th>年龄</th>\n",
       "      <th>性别</th>\n",
       "      <th>成绩</th>\n",
       "    </tr>\n",
       "  </thead>\n",
       "  <tbody>\n",
       "    <tr>\n",
       "      <th>0</th>\n",
       "      <td>张三</td>\n",
       "      <td>23.0</td>\n",
       "      <td>男</td>\n",
       "      <td>90.0</td>\n",
       "    </tr>\n",
       "    <tr>\n",
       "      <th>1</th>\n",
       "      <td>李四</td>\n",
       "      <td>26.0</td>\n",
       "      <td>男</td>\n",
       "      <td>80.0</td>\n",
       "    </tr>\n",
       "    <tr>\n",
       "      <th>2</th>\n",
       "      <td>王五</td>\n",
       "      <td>NaN</td>\n",
       "      <td>女</td>\n",
       "      <td>85.0</td>\n",
       "    </tr>\n",
       "    <tr>\n",
       "      <th>3</th>\n",
       "      <td>赵六</td>\n",
       "      <td>24.0</td>\n",
       "      <td>男</td>\n",
       "      <td>92.0</td>\n",
       "    </tr>\n",
       "    <tr>\n",
       "      <th>4</th>\n",
       "      <td>小明</td>\n",
       "      <td>25.0</td>\n",
       "      <td>None</td>\n",
       "      <td>NaN</td>\n",
       "    </tr>\n",
       "  </tbody>\n",
       "</table>\n",
       "</div>"
      ],
      "text/plain": [
       "   姓名    年龄    性别    成绩\n",
       "0  张三  23.0     男  90.0\n",
       "1  李四  26.0     男  80.0\n",
       "2  王五   NaN     女  85.0\n",
       "3  赵六  24.0     男  92.0\n",
       "4  小明  25.0  None   NaN"
      ]
     },
     "execution_count": 2,
     "metadata": {},
     "output_type": "execute_result"
    }
   ],
   "source": [
    "df"
   ]
  },
  {
   "cell_type": "code",
   "execution_count": null,
   "id": "fbdb8655-8f5b-411d-a946-c8fe273935e5",
   "metadata": {},
   "outputs": [],
   "source": [
    "df_cleaned = df.dropna()\n",
    "df['年龄'].fillna(df['年龄'].mean(), inplace=True)\n",
    "# 用性别列的众数填充性别缺失值\n",
    "df['性别'].fillna(df['性别'].mode()[0], inplace=True)\n",
    "# 用成绩列的中位数填充成绩缺失值\n",
    "df['成绩'].fillna(df['成绩'].median(), inplace=True)\n"
   ]
  },
  {
   "cell_type": "markdown",
   "id": "bc6c9eec-76ef-4568-a1de-77f2a12ad274",
   "metadata": {},
   "source": [
    "【例4.3】演示对数据的归一化处理。"
   ]
  },
  {
   "cell_type": "code",
   "execution_count": 9,
   "id": "14d7e0e7-c9e8-47e2-b19d-a4bc09ba6e63",
   "metadata": {},
   "outputs": [
    {
     "name": "stdout",
     "output_type": "stream",
     "text": [
      "StandardScaler后的数据：\n",
      " [[-1.41421356 -1.41421356 -1.41421356]\n",
      " [-0.70710678 -0.70710678 -0.70710678]\n",
      " [ 0.          0.          0.        ]\n",
      " [ 0.70710678  0.70710678  0.70710678]\n",
      " [ 1.41421356  1.41421356  1.41421356]]\n",
      "MinMaxScaler后的数据：\n",
      " [[0.   0.   0.  ]\n",
      " [0.25 0.25 0.25]\n",
      " [0.5  0.5  0.5 ]\n",
      " [0.75 0.75 0.75]\n",
      " [1.   1.   1.  ]]\n",
      "RobustScaler后的数据：\n",
      " [[-1.  -1.  -1. ]\n",
      " [-0.5 -0.5 -0.5]\n",
      " [ 0.   0.   0. ]\n",
      " [ 0.5  0.5  0.5]\n",
      " [ 1.   1.   1. ]]\n",
      "MaxAbsScaler后的数据：\n",
      " [[0.2 0.2 0.2]\n",
      " [0.4 0.4 0.4]\n",
      " [0.6 0.6 0.6]\n",
      " [0.8 0.8 0.8]\n",
      " [1.  1.  1. ]]\n"
     ]
    }
   ],
   "source": [
    "from sklearn.preprocessing import StandardScaler, MinMaxScaler, RobustScaler, MaxAbsScaler\n",
    "import pandas as pd\n",
    "import numpy as np\n",
    "\n",
    "# 创建示例数据\n",
    "data = pd.DataFrame({'A': [1, 2, 3, 4, 5],\n",
    "                     'B': [10, 20, 30, 40, 50],\n",
    "                     'C': [100, 200, 300, 400, 500]})\n",
    "# StandardScaler 将数据进行标准化处理，使得数据的均值为0，方差为1。\n",
    "scaler = StandardScaler()\n",
    "scaled_data = scaler.fit_transform(data)\n",
    "print(\"StandardScaler后的数据：\\n\", scaled_data)\n",
    "# MinMaxScaler 将数据进行缩放处理，使得数据在指定的范围内。\n",
    "minmax_scaler = MinMaxScaler(feature_range=(0, 1))\n",
    "scaled_data = minmax_scaler.fit_transform(data)\n",
    "print(\"MinMaxScaler后的数据：\\n\", scaled_data)\n",
    "\n",
    "# RobustScaler 与StandardScaler类似，但是可以处理异常值。\n",
    "robust_scaler = RobustScaler()\n",
    "scaled_data = robust_scaler.fit_transform(data)\n",
    "print(\"RobustScaler后的数据：\\n\", scaled_data)\n",
    "\n",
    "# MaxAbsScaler 将数据缩放到[-1,1]的范围内，适用于稀疏数据。\n",
    "maxabs_scaler = MaxAbsScaler()\n",
    "scaled_data = maxabs_scaler.fit_transform(data)\n",
    "print(\"MaxAbsScaler后的数据：\\n\", scaled_data)\n"
   ]
  },
  {
   "cell_type": "code",
   "execution_count": 3,
   "id": "5ca3a342-fa7c-4a6d-8590-36014617fd43",
   "metadata": {},
   "outputs": [
    {
     "name": "stdout",
     "output_type": "stream",
     "text": [
      "StandardScaler后的数据：\n",
      " [[-1.41421356 -1.41421356 -1.41421356]\n",
      " [-0.70710678 -0.70710678 -0.70710678]\n",
      " [ 0.          0.          0.        ]\n",
      " [ 0.70710678  0.70710678  0.70710678]\n",
      " [ 1.41421356  1.41421356  1.41421356]]\n",
      "MinMaxScaler后的数据：\n",
      " [[0.   0.   0.  ]\n",
      " [0.25 0.25 0.25]\n",
      " [0.5  0.5  0.5 ]\n",
      " [0.75 0.75 0.75]\n",
      " [1.   1.   1.  ]]\n",
      "RobustScaler后的数据：\n",
      " [[-1.  -1.  -1. ]\n",
      " [-0.5 -0.5 -0.5]\n",
      " [ 0.   0.   0. ]\n",
      " [ 0.5  0.5  0.5]\n",
      " [ 1.   1.   1. ]]\n",
      "MaxAbsScaler后的数据：\n",
      " [[0.2 0.2 0.2]\n",
      " [0.4 0.4 0.4]\n",
      " [0.6 0.6 0.6]\n",
      " [0.8 0.8 0.8]\n",
      " [1.  1.  1. ]]\n"
     ]
    }
   ],
   "source": [
    "from sklearn.preprocessing import StandardScaler, MinMaxScaler, RobustScaler, MaxAbsScaler\n",
    "import pandas as pd\n",
    "import numpy as np\n",
    "\n",
    "# 创建示例数据\n",
    "data = pd.DataFrame({'A': [1, 2, 3, 4, 5],\n",
    "                     'B': [10, 20, 30, 40, 50],\n",
    "                     'C': [100, 200, 300, 400, 500]})\n",
    "# StandardScaler 将数据进行标准化处理，使得数据的均值为0，方差为1。\n",
    "scaler = StandardScaler()\n",
    "scaled_data = scaler.fit_transform(data)\n",
    "print(\"StandardScaler后的数据：\\n\", scaled_data)\n",
    "# MinMaxScaler 将数据进行缩放处理，使得数据在指定的范围内。\n",
    "minmax_scaler = MinMaxScaler(feature_range=(0, 1))\n",
    "scaled_data = minmax_scaler.fit_transform(data)\n",
    "print(\"MinMaxScaler后的数据：\\n\", scaled_data)\n",
    "\n",
    "# RobustScaler 与StandardScaler类似，但是可以处理异常值。\n",
    "robust_scaler = RobustScaler()\n",
    "scaled_data = robust_scaler.fit_transform(data)\n",
    "print(\"RobustScaler后的数据：\\n\", scaled_data)\n",
    "\n",
    "# MaxAbsScaler 将数据缩放到[-1,1]的范围内，适用于稀疏数据。\n",
    "maxabs_scaler = MaxAbsScaler()\n",
    "scaled_data = maxabs_scaler.fit_transform(data)\n",
    "print(\"MaxAbsScaler后的数据：\\n\", scaled_data)\n"
   ]
  },
  {
   "cell_type": "markdown",
   "id": "30e2efc7-3c8f-4749-842d-156f4aa818e9",
   "metadata": {},
   "source": [
    "【例4.5】L1正则化："
   ]
  },
  {
   "cell_type": "code",
   "execution_count": 4,
   "id": "c9438534-c6ba-4ee2-ae24-949025febb26",
   "metadata": {},
   "outputs": [
    {
     "name": "stdout",
     "output_type": "stream",
     "text": [
      "[[1.66666667e-01 3.33333333e-01 5.00000000e-01]\n",
      " [7.84313725e-01 9.80392157e-02 1.17647059e-01]\n",
      " [8.99820378e-05 9.99799534e-01 1.10484274e-04]]\n"
     ]
    }
   ],
   "source": [
    "from sklearn.preprocessing import Normalizer\n",
    "import numpy as np\n",
    "\n",
    "X = np.array([[1, 2, 3], [4000, 500, 600], [79, 877777, 97]])\n",
    "\n",
    "transformer = Normalizer(norm='l1')\n",
    "X_normalized = transformer.transform(X)\n",
    "\n",
    "print(X_normalized)\n"
   ]
  },
  {
   "cell_type": "markdown",
   "id": "5a4d2156-2606-422b-ba31-8e84a6f4a954",
   "metadata": {},
   "source": [
    "【例4.6】L2正则化。"
   ]
  },
  {
   "cell_type": "code",
   "execution_count": 5,
   "id": "a8f65e54-c541-4451-9d62-4143b60e7d0a",
   "metadata": {},
   "outputs": [
    {
     "name": "stdout",
     "output_type": "stream",
     "text": [
      "[[0.26726124 0.53452248 0.80178373]\n",
      " [0.45584231 0.56980288 0.68376346]\n",
      " [0.50257071 0.57436653 0.64616234]]\n"
     ]
    }
   ],
   "source": [
    "from sklearn.preprocessing import Normalizer\n",
    "import numpy as np\n",
    "X = np.array([[1, 2, 3], [4, 5, 6], [7, 8, 9]])\n",
    "\n",
    "transformer = Normalizer(norm='l2')\n",
    "X_normalized = transformer.transform(X)\n",
    "\n",
    "print(X_normalized)\n"
   ]
  },
  {
   "cell_type": "markdown",
   "id": "ec97aa0b-a623-4f2c-a2ad-331aea20b092",
   "metadata": {},
   "source": [
    "【例4.7】将['apple', 'banana', 'pear']进行LabelEncoder。"
   ]
  },
  {
   "cell_type": "code",
   "execution_count": 6,
   "id": "8e35c9ae-fda5-4598-bc98-abd62220bc99",
   "metadata": {},
   "outputs": [
    {
     "name": "stdout",
     "output_type": "stream",
     "text": [
      "[0 1 2]\n"
     ]
    }
   ],
   "source": [
    "from sklearn.preprocessing import LabelEncoder\n",
    "# 创建 LabelEncoder 对象\n",
    "le = LabelEncoder()\n",
    "\n",
    "# 定义标签列表\n",
    "labels = ['apple', 'banana', 'pear']\n",
    "\n",
    "# 使用 LabelEncoder 对标签进行编码\n",
    "encoded_labels = le.fit_transform(labels)\n",
    "# 输出编码结果\n",
    "print(encoded_labels)\n"
   ]
  },
  {
   "cell_type": "code",
   "execution_count": null,
   "id": "dc971ef6-5978-475f-8a81-05355ee217af",
   "metadata": {},
   "outputs": [],
   "source": []
  }
 ],
 "metadata": {
  "kernelspec": {
   "display_name": "Python 3 (ipykernel)",
   "language": "python",
   "name": "python3"
  },
  "language_info": {
   "codemirror_mode": {
    "name": "ipython",
    "version": 3
   },
   "file_extension": ".py",
   "mimetype": "text/x-python",
   "name": "python",
   "nbconvert_exporter": "python",
   "pygments_lexer": "ipython3",
   "version": "3.10.2"
  }
 },
 "nbformat": 4,
 "nbformat_minor": 5
}
