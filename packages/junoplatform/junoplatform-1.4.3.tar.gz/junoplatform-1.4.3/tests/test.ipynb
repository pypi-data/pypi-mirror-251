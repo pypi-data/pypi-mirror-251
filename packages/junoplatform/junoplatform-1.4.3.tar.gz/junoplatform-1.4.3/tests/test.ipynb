{
 "cells": [
  {
   "cell_type": "code",
   "execution_count": 1,
   "metadata": {},
   "outputs": [],
   "source": [
    "import redis\n",
    "\n",
    "cli = redis.Redis.from_url(\"redis://:myredis@192.168.101.157\")"
   ]
  },
  {
   "cell_type": "code",
   "execution_count": 16,
   "metadata": {},
   "outputs": [
    {
     "data": {
      "text/plain": [
       "b'{\"Level_target\": [[1.0, 3.0, 0.2], [2.0, 2.0, 0.3], [3.0, 3.0, 0.4], [4.0, 3.0, 0.5], [5.0, 3.0, 0.6], [5.0, 3.0, 0.6], [5.0, 3.0, 0.6]], \"paraP\": 5, \"paraI\": 2, \"paraD\": 4, \"updata_value\": 4, \"pump_range\": [10, 100], \"interval_minute\": 10, \"pump_range_single\": [30, 50], \"algo_system_spec\": {\"module_summary\": [{\"enable\": true, \"user_input\": [true, true, true, true, true, true, true], \"ui\": true, \"name\": \"\\xe6\\x8e\\x92\\xe6\\x94\\xbe\\xe6\\xb1\\xa0\", \"tags\": [\"\\xe9\\x80\\x9a\\xe9\\x81\\x93 1.\\xe8\\xae\\xbe\\xe5\\xa4\\x87 1.\\xe9\\x80\\x9a\\xe9\\x81\\x93 1.\\xe8\\xae\\xbe\\xe5\\xa4\\x87 1.@LOCALMACHINE::.\\xe6\\x89\\x80\\xe6\\x9c\\x89\\xe5\\x8f\\x98\\xe9\\x87\\x8f\\xe7\\x9a\\x84\\xe5\\x88\\x97\\xe8\\xa1\\xa8.1#PAC\\xe5\\x90\\xaf\\xe5\\x8a\\xa8\\xe6\\x8c\\x89\\xe9\\x92\\xae\", \"\\xe8\\xbf\\x9b\\xe5\\x8f\\xa3TP\", \"AI-T20802_DIS\", \"AI-T20801_DIS\", \"AI-T30301_DIS\", \"\\xe6\\xa8\\xa1\\xe6\\x8b\\x9f\\xe9\\x87\\x8f\\xe5\\xae\\x9e\\xe9\\x99\\x85\\xe5\\x80\\xbc_AI-P30605_V\", \"\\xe9\\xab\\x98\\xe6\\x95\\x88\\xe5\\x87\\xba\\xe6\\xb0\\xb4TP\"], \"alias\": [\"\\xe8\\xbf\\x9b\\xe6\\xb0\\xb4PHL\", \"\\xe6\\x80\\xbb\\xe8\\xbf\\x9b\\xe6\\xb0\\xb4-TP\", \"\\xe7\\xa3\\x81\\xe6\\xb7\\xb7\\xe5\\x87\\x9d\\xe8\\xbf\\x9b\\xe6\\xb0\\xb4-TP1\", \"\\xe7\\xa3\\x81\\xe6\\xb7\\xb7\\xe5\\x87\\x9d\\xe8\\xbf\\x9b\\xe6\\xb0\\xb4-TP2\", \"\\xe7\\xa3\\x81\\xe6\\xb7\\xb7\\xe5\\x87\\x9d\\xe5\\x87\\xba\\xe6\\xb0\\xb4-SS\", \"\\xe6\\x80\\xbb\\xe5\\x87\\xba\\xe6\\xb0\\xb4-TP1\", \"\\xe6\\x80\\xbb\\xe5\\x87\\xba\\xe6\\xb0\\xb4-TP2\"], \"units\": [\"mg/L\", \"mg/L\", \"mg/L\", \"mg/L\", \"mg/L\", \"mg/L\", \"mg/L\"], \"targets\": \"Level_target\"}], \"MSET_aliases\": {\"MSET_1\": \"\\xe7\\x94\\x9f\\xe5\\x8c\\x96\\xe6\\xb1\\xa01-\\xe9\\x98\\x80\\xe9\\x97\\xa81\", \"MSET_2\": \"\\xe7\\x94\\x9f\\xe5\\x8c\\x96\\xe6\\xb1\\xa01-\\xe9\\x98\\x80\\xe9\\x97\\xa82\"}, \"data_input_zone\": {\"\\xe8\\xb0\\x83\\xe8\\x8a\\x82\\xe6\\xb1\\xa0-TN\": 11, \"\\xe8\\xb0\\x83\\xe8\\x8a\\x82\\xe6\\xb1\\xa0-aa\": 11, \"\\xe8\\xb0\\x83\\xe8\\x8a\\x82\\xe6\\xb1\\xa0-bb\": 11, \"\\xe8\\xb0\\x83\\xe8\\x8a\\x82\\xe6\\xb1\\xa0-cc\": 11}, \"operate_status\": 3}, \"ab_detect\": {\"confirm_len\": 5, \"tags\": [{\"name\": \"\\xe9\\x80\\x9a\\xe9\\x81\\x93 1.\\xe8\\xae\\xbe\\xe5\\xa4\\x87 1.\\xe9\\x80\\x9a\\xe9\\x81\\x93 1.\\xe8\\xae\\xbe\\xe5\\xa4\\x87 1.@LOCALMACHINE::.\\xe6\\x89\\x80\\xe6\\x9c\\x89\\xe5\\x8f\\x98\\xe9\\x87\\x8f\\xe7\\x9a\\x84\\xe5\\x88\\x97\\xe8\\xa1\\xa8.2#PAC\\xe5\\x90\\xaf\\xe5\\x8a\\xa8\\xe6\\x8c\\x89\\xe9\\x92\\xae\", \"work_time\": 5, \"normal_range\": [-100, 100], \"device_type\": [0, 60], \"direction\": 0}, {\"name\": \"\\xe9\\x80\\x9a\\xe9\\x81\\x93 1.\\xe8\\xae\\xbe\\xe5\\xa4\\x87 1.\\xe9\\x80\\x9a\\xe9\\x81\\x93 1.\\xe8\\xae\\xbe\\xe5\\xa4\\x87 1.@LOCALMACHINE::.\\xe6\\x89\\x80\\xe6\\x9c\\x89\\xe5\\x8f\\x98\\xe9\\x87\\x8f\\xe7\\x9a\\x84\\xe5\\x88\\x97\\xe8\\xa1\\xa8.1#PAC\\xe5\\x90\\xaf\\xe5\\x8a\\xa8\\xe6\\x8c\\x89\\xe9\\x92\\xae\", \"work_time\": 5, \"normal_range\": [-100, 100], \"device_type\": [0, 60], \"direction\": 0}]}}'"
      ]
     },
     "execution_count": 16,
     "metadata": {},
     "output_type": "execute_result"
    }
   ],
   "source": [
    "cli.get(f\"system.huaqi.ZENGXIN.reconfig\")"
   ]
  },
  {
   "cell_type": "code",
   "execution_count": 2,
   "metadata": {},
   "outputs": [
    {
     "name": "stdout",
     "output_type": "stream",
     "text": [
      "None A\n"
     ]
    }
   ],
   "source": [
    "print(None, \"A\")"
   ]
  },
  {
   "cell_type": "code",
   "execution_count": 13,
   "metadata": {},
   "outputs": [
    {
     "name": "stdout",
     "output_type": "stream",
     "text": [
      "1\n",
      "1\n",
      "1\n",
      "0\n"
     ]
    }
   ],
   "source": [
    "# define bit map\n",
    "#    15 14 13 12 11 10 9 8 7 6 5 4 3 2 1 0\n",
    "\n",
    "a = 7\n",
    "print(a >> 0 & 1)\n",
    "print((a >> 1 & 1))\n",
    "print(a >> 2 & 1)\n",
    "print(a >> 3 & 1)"
   ]
  },
  {
   "cell_type": "code",
   "execution_count": 17,
   "metadata": {},
   "outputs": [
    {
     "data": {
      "text/plain": [
       "b'{\"package_id\": \"e3f9ed8e268a427cbce7292fb8ab7fee\", \"username\": \"zengxing\", \"plant\": \"huaqi\", \"module\": \"ZENGXIN\", \"config\": {\"Level_target\": [[1.0, 3.0, 0.2], [2.0, 2.0, 0.3], [3.0, 3.0, 0.4], [4.0, 3.0, 0.5], [5.0, 3.0, 0.6], [5.0, 3.0, 0.6], [5.0, 3.0, 0.6]], \"paraP\": 5, \"paraI\": 2, \"paraD\": 4, \"updata_value\": 4, \"pump_range\": [10, 100], \"interval_minute\": 10, \"pump_range_single\": [30, 50], \"algo_system_spec\": {\"module_summary\": [{\"enable\": true, \"user_input\": [true, true, true, true, true, true, true], \"ui\": true, \"name\": \"\\xe6\\x8e\\x92\\xe6\\x94\\xbe\\xe6\\xb1\\xa0\", \"tags\": [\"\\xe9\\x80\\x9a\\xe9\\x81\\x93 1.\\xe8\\xae\\xbe\\xe5\\xa4\\x87 1.\\xe9\\x80\\x9a\\xe9\\x81\\x93 1.\\xe8\\xae\\xbe\\xe5\\xa4\\x87 1.@LOCALMACHINE::.\\xe6\\x89\\x80\\xe6\\x9c\\x89\\xe5\\x8f\\x98\\xe9\\x87\\x8f\\xe7\\x9a\\x84\\xe5\\x88\\x97\\xe8\\xa1\\xa8.1#PAC\\xe5\\x90\\xaf\\xe5\\x8a\\xa8\\xe6\\x8c\\x89\\xe9\\x92\\xae\", \"\\xe8\\xbf\\x9b\\xe5\\x8f\\xa3TP\", \"AI-T20802_DIS\", \"AI-T20801_DIS\", \"AI-T30301_DIS\", \"\\xe6\\xa8\\xa1\\xe6\\x8b\\x9f\\xe9\\x87\\x8f\\xe5\\xae\\x9e\\xe9\\x99\\x85\\xe5\\x80\\xbc_AI-P30605_V\", \"\\xe9\\xab\\x98\\xe6\\x95\\x88\\xe5\\x87\\xba\\xe6\\xb0\\xb4TP\"], \"alias\": [\"\\xe8\\xbf\\x9b\\xe6\\xb0\\xb4PHL\", \"\\xe6\\x80\\xbb\\xe8\\xbf\\x9b\\xe6\\xb0\\xb4-TP\", \"\\xe7\\xa3\\x81\\xe6\\xb7\\xb7\\xe5\\x87\\x9d\\xe8\\xbf\\x9b\\xe6\\xb0\\xb4-TP1\", \"\\xe7\\xa3\\x81\\xe6\\xb7\\xb7\\xe5\\x87\\x9d\\xe8\\xbf\\x9b\\xe6\\xb0\\xb4-TP2\", \"\\xe7\\xa3\\x81\\xe6\\xb7\\xb7\\xe5\\x87\\x9d\\xe5\\x87\\xba\\xe6\\xb0\\xb4-SS\", \"\\xe6\\x80\\xbb\\xe5\\x87\\xba\\xe6\\xb0\\xb4-TP1\", \"\\xe6\\x80\\xbb\\xe5\\x87\\xba\\xe6\\xb0\\xb4-TP2\"], \"units\": [\"mg/L\", \"mg/L\", \"mg/L\", \"mg/L\", \"mg/L\", \"mg/L\", \"mg/L\"], \"targets\": \"Level_target\"}], \"MSET_aliases\": {\"MSET_1\": \"\\xe7\\x94\\x9f\\xe5\\x8c\\x96\\xe6\\xb1\\xa01-\\xe9\\x98\\x80\\xe9\\x97\\xa81\", \"MSET_2\": \"\\xe7\\x94\\x9f\\xe5\\x8c\\x96\\xe6\\xb1\\xa01-\\xe9\\x98\\x80\\xe9\\x97\\xa82\"}, \"data_input_zone\": {\"\\xe8\\xb0\\x83\\xe8\\x8a\\x82\\xe6\\xb1\\xa0-TN\": 11, \"\\xe8\\xb0\\x83\\xe8\\x8a\\x82\\xe6\\xb1\\xa0-aa\": 11, \"\\xe8\\xb0\\x83\\xe8\\x8a\\x82\\xe6\\xb1\\xa0-bb\": 11, \"\\xe8\\xb0\\x83\\xe8\\x8a\\x82\\xe6\\xb1\\xa0-cc\": 11}, \"operate_status\": 3}, \"ab_detect\": {\"confirm_len\": 5, \"tags\": [{\"name\": \"\\xe9\\x80\\x9a\\xe9\\x81\\x93 1.\\xe8\\xae\\xbe\\xe5\\xa4\\x87 1.\\xe9\\x80\\x9a\\xe9\\x81\\x93 1.\\xe8\\xae\\xbe\\xe5\\xa4\\x87 1.@LOCALMACHINE::.\\xe6\\x89\\x80\\xe6\\x9c\\x89\\xe5\\x8f\\x98\\xe9\\x87\\x8f\\xe7\\x9a\\x84\\xe5\\x88\\x97\\xe8\\xa1\\xa8.2#PAC\\xe5\\x90\\xaf\\xe5\\x8a\\xa8\\xe6\\x8c\\x89\\xe9\\x92\\xae\", \"work_time\": 5, \"normal_range\": [-100, 100], \"device_type\": [0, 60], \"direction\": 0}, {\"name\": \"\\xe9\\x80\\x9a\\xe9\\x81\\x93 1.\\xe8\\xae\\xbe\\xe5\\xa4\\x87 1.\\xe9\\x80\\x9a\\xe9\\x81\\x93 1.\\xe8\\xae\\xbe\\xe5\\xa4\\x87 1.@LOCALMACHINE::.\\xe6\\x89\\x80\\xe6\\x9c\\x89\\xe5\\x8f\\x98\\xe9\\x87\\x8f\\xe7\\x9a\\x84\\xe5\\x88\\x97\\xe8\\xa1\\xa8.1#PAC\\xe5\\x90\\xaf\\xe5\\x8a\\xa8\\xe6\\x8c\\x89\\xe9\\x92\\xae\", \"work_time\": 5, \"normal_range\": [-100, 100], \"device_type\": [0, 60], \"direction\": 0}]}}, \"status\": 1, \"enable\": 1, \"create_time\": \"2023-11-30T10:24:20\", \"update_time\": \"2023-11-30T10:24:20\"}'"
      ]
     },
     "execution_count": 17,
     "metadata": {},
     "output_type": "execute_result"
    }
   ],
   "source": [
    "mkey = f\"huaqi.ZENGXIN\"\n",
    "cli.hget(\"system.ai.modules\", mkey)"
   ]
  },
  {
   "cell_type": "code",
   "execution_count": 2,
   "metadata": {},
   "outputs": [],
   "source": [
    "import requests\n",
    "import logging\n",
    "import json"
   ]
  },
  {
   "cell_type": "code",
   "execution_count": 10,
   "metadata": {},
   "outputs": [
    {
     "name": "stdout",
     "output_type": "stream",
     "text": [
      "write opc success: [{'key': 'aa', 'value': 1.0}]\n"
     ]
    }
   ],
   "source": [
    "api = \"http://localhost:8888/api/write\"\n",
    "data = [{\"key\": \"aa\", \"value\": 1.0}]\n",
    "\n",
    "try:\n",
    "    newdata = {\"batch\": True, \"data\": data}\n",
    "\n",
    "    r = requests.post(api, json=newdata, timeout=5)\n",
    "    if r.status_code != 200:\n",
    "        logging.error(r.text)\n",
    "\n",
    "    print(f\"write opc success: {data}\")\n",
    "except Exception as e:\n",
    "    logging.error(str(e))\n",
    "    raise e"
   ]
  },
  {
   "cell_type": "code",
   "execution_count": 23,
   "metadata": {},
   "outputs": [],
   "source": [
    "import redis\n",
    "\n",
    "cli = redis.Redis.from_url(\"redis://:myredis@192.168.101.158\")"
   ]
  },
  {
   "cell_type": "code",
   "execution_count": 31,
   "metadata": {},
   "outputs": [
    {
     "data": {
      "text/plain": [
       "1"
      ]
     },
     "execution_count": 31,
     "metadata": {},
     "output_type": "execute_result"
    }
   ],
   "source": [
    "cli.delete(\"system.ai.abnormal.confirm.yudai.TEST\")"
   ]
  },
  {
   "cell_type": "code",
   "execution_count": 69,
   "metadata": {},
   "outputs": [
    {
     "data": {
      "text/plain": [
       "[b'{\"COD2\": 1, \"_time_\": \"2023/11/23 14:07:20\"}',\n",
       " b'{\"COD2\": 1, \"_time_\": \"2023/11/23 14:11:20\"}']"
      ]
     },
     "execution_count": 69,
     "metadata": {},
     "output_type": "execute_result"
    }
   ],
   "source": [
    "cli.lrange(\"system.ai.abnormal.confirm.yudai.TEST\", 0, -1)"
   ]
  },
  {
   "cell_type": "code",
   "execution_count": 4,
   "metadata": {},
   "outputs": [
    {
     "name": "stdout",
     "output_type": "stream",
     "text": [
      "[[1, 2], [0, 0], [1, 0], [0, 1]]\n"
     ]
    }
   ],
   "source": [
    "with open(\"ab_detect.mock.json\", \"r\") as f:\n",
    "    x = json.load(f)\n",
    "    print(x)"
   ]
  },
  {
   "cell_type": "code",
   "execution_count": 43,
   "metadata": {},
   "outputs": [
    {
     "name": "stdout",
     "output_type": "stream",
     "text": [
      "True\n",
      "1 2 me\n"
     ]
    }
   ],
   "source": [
    "import inspect\n",
    "\n",
    "\n",
    "def func1(func):\n",
    "    sig = inspect.signature(func)\n",
    "    keys = sig.parameters.keys()\n",
    "\n",
    "    ks = [k for k in sig.parameters.keys()]\n",
    "    print(ks == [\"a\", \"b\", \"user_confirms\"])\n",
    "\n",
    "    if len(sig.parameters) == 2:\n",
    "        func2(1, 2)\n",
    "    elif \"user_confirms\" in sig.parameters:\n",
    "        func(1, 2, \"me\")\n",
    "\n",
    "\n",
    "def func2(a, b, user_confirms):\n",
    "    print(a, b, user_confirms)\n",
    "\n",
    "\n",
    "func1(func2)"
   ]
  },
  {
   "cell_type": "code",
   "execution_count": 4,
   "metadata": {},
   "outputs": [
    {
     "name": "stdout",
     "output_type": "stream",
     "text": [
      "2023-12-01 00:00:00\n",
      "2023-12-01 06:00:00\n"
     ]
    }
   ],
   "source": [
    "from datetime import datetime, timedelta\n",
    "\n",
    "# Get the current date\n",
    "today = datetime.now().date()\n",
    "\n",
    "# Calculate midnight of the next day\n",
    "tomorrow_midnight = datetime.combine(today, datetime.min.time())\n",
    "print(tomorrow_midnight)\n",
    "\n",
    "# Set the time to 24:00\n",
    "today_midnight = tomorrow_midnight + timedelta(hours=6)\n",
    "\n",
    "print(today_midnight)"
   ]
  },
  {
   "cell_type": "code",
   "execution_count": 5,
   "metadata": {},
   "outputs": [
    {
     "data": {
      "text/plain": [
       "'[10]'"
      ]
     },
     "execution_count": 5,
     "metadata": {},
     "output_type": "execute_result"
    }
   ],
   "source": [
    "import numpy as np\n",
    "import json\n",
    "\n",
    "data_dict = {\n",
    "    \"key1\": 123,\n",
    "    \"key2\": np.array([1.23, 4.56], dtype=np.float32),\n",
    "    \"key3\": {\n",
    "        \"nested_key1\": np.array([7, 8, 9], dtype=np.int64),\n",
    "        \"nested_key2\": \"value\",\n",
    "    },\n",
    "    \"key4\": [np.int64(10)],\n",
    "}\n",
    "\n",
    "\n",
    "def convert_json_compatible(obj):\n",
    "    if isinstance(\n",
    "        obj,\n",
    "        (\n",
    "            np.int64,\n",
    "            np.int32,\n",
    "            np.int16,\n",
    "            np.int8,\n",
    "        ),\n",
    "    ):\n",
    "        return int(obj)\n",
    "    elif isinstance(obj, (np.float32, np.float64)):\n",
    "        return float(obj)\n",
    "    elif isinstance(obj, np.ndarray):\n",
    "        return obj.tolist()\n",
    "    elif isinstance(obj, list):\n",
    "        return [convert_json_compatible(v) for v in obj]\n",
    "    elif isinstance(obj, dict):\n",
    "        return {k: convert_json_compatible(v) for k, v in obj.items()}\n",
    "    return obj\n",
    "\n",
    "\n",
    "json_dict = convert_json_compatible([np.int64(10)])\n",
    "\n",
    "json.dumps(json_dict)"
   ]
  },
  {
   "cell_type": "code",
   "execution_count": 5,
   "metadata": {},
   "outputs": [],
   "source": [
    "import os\n",
    "\n",
    "\n",
    "def get_file_names(directory):\n",
    "    file_names = []\n",
    "    for root, dirs, files in os.walk(directory):\n",
    "        file: str\n",
    "        for file in files:\n",
    "            if file.endswith(\".py\"):\n",
    "                file_path = os.path.join(root, file)\n",
    "                file_names.append(file_path)\n",
    "    return file_names"
   ]
  },
  {
   "cell_type": "code",
   "execution_count": 6,
   "metadata": {},
   "outputs": [
    {
     "data": {
      "text/plain": [
       "['../test/u_emergency.py',\n",
       " '../test/PACPAM.py',\n",
       " '../test/Bayes_model.py',\n",
       " '../test/plug_in.py',\n",
       " '../test/Scale.py',\n",
       " '../test/main.py',\n",
       " '../test/Abnormal_handel.py',\n",
       " '../test/PID_model.py']"
      ]
     },
     "execution_count": 6,
     "metadata": {},
     "output_type": "execute_result"
    }
   ],
   "source": [
    "get_file_names(\"../test/\")"
   ]
  },
  {
   "cell_type": "code",
   "execution_count": 38,
   "metadata": {},
   "outputs": [
    {
     "name": "stdout",
     "output_type": "stream",
     "text": [
      "[<setuptools.extension.Extension('u_emergency') at 0x7fbd88b599d0>, <setuptools.extension.Extension('PACPAM') at 0x7fbd89588b10>, <setuptools.extension.Extension('Bayes_model') at 0x7fbd88e82690>, <setuptools.extension.Extension('plug_in') at 0x7fbd88bafb50>, <setuptools.extension.Extension('Scale') at 0x7fbd88bad150>, <setuptools.extension.Extension('main') at 0x7fbd8886ba90>, <setuptools.extension.Extension('Abnormal_handel') at 0x7fbd88869090>, <setuptools.extension.Extension('PID_model') at 0x7fbd88869810>]\n",
      "['../test/u_emergency.py', '../test/PACPAM.py', '../test/Bayes_model.py', '../test/plug_in.py', '../test/Scale.py', '../test/main.py', '../test/Abnormal_handel.py', '../test/PID_model.py']\n"
     ]
    },
    {
     "ename": "AttributeError",
     "evalue": "'tuple' object has no attribute 'tb_frame'",
     "output_type": "error",
     "traceback": [
      "\u001b[0;31m---------------------------------------------------------------------------\u001b[0m",
      "\u001b[0;31mGetoptError\u001b[0m                               Traceback (most recent call last)",
      "File \u001b[0;32m~/.pyenv/versions/3.11.6/lib/python3.11/site-packages/setuptools/_distutils/fancy_getopt.py:246\u001b[0m, in \u001b[0;36mFancyGetopt.getopt\u001b[0;34m(self, args, object)\u001b[0m\n\u001b[1;32m    245\u001b[0m \u001b[39mtry\u001b[39;00m:\n\u001b[0;32m--> 246\u001b[0m     opts, args \u001b[39m=\u001b[39m getopt\u001b[39m.\u001b[39;49mgetopt(args, short_opts, \u001b[39mself\u001b[39;49m\u001b[39m.\u001b[39;49mlong_opts)\n\u001b[1;32m    247\u001b[0m \u001b[39mexcept\u001b[39;00m getopt\u001b[39m.\u001b[39merror \u001b[39mas\u001b[39;00m msg:\n",
      "File \u001b[0;32m~/.pyenv/versions/3.11.6/lib/python3.11/getopt.py:93\u001b[0m, in \u001b[0;36mgetopt\u001b[0;34m(args, shortopts, longopts)\u001b[0m\n\u001b[1;32m     92\u001b[0m \u001b[39mif\u001b[39;00m args[\u001b[39m0\u001b[39m]\u001b[39m.\u001b[39mstartswith(\u001b[39m'\u001b[39m\u001b[39m--\u001b[39m\u001b[39m'\u001b[39m):\n\u001b[0;32m---> 93\u001b[0m     opts, args \u001b[39m=\u001b[39m do_longs(opts, args[\u001b[39m0\u001b[39;49m][\u001b[39m2\u001b[39;49m:], longopts, args[\u001b[39m1\u001b[39;49m:])\n\u001b[1;32m     94\u001b[0m \u001b[39melse\u001b[39;00m:\n",
      "File \u001b[0;32m~/.pyenv/versions/3.11.6/lib/python3.11/getopt.py:164\u001b[0m, in \u001b[0;36mdo_longs\u001b[0;34m(opts, opt, longopts, args)\u001b[0m\n\u001b[1;32m    163\u001b[0m \u001b[39melif\u001b[39;00m optarg \u001b[39mis\u001b[39;00m \u001b[39mnot\u001b[39;00m \u001b[39mNone\u001b[39;00m:\n\u001b[0;32m--> 164\u001b[0m     \u001b[39mraise\u001b[39;00m GetoptError(_(\u001b[39m'\u001b[39m\u001b[39moption --\u001b[39m\u001b[39m%s\u001b[39;00m\u001b[39m must not have an argument\u001b[39m\u001b[39m'\u001b[39m) \u001b[39m%\u001b[39m opt, opt)\n\u001b[1;32m    165\u001b[0m opts\u001b[39m.\u001b[39mappend((\u001b[39m'\u001b[39m\u001b[39m--\u001b[39m\u001b[39m'\u001b[39m \u001b[39m+\u001b[39m opt, optarg \u001b[39mor\u001b[39;00m \u001b[39m'\u001b[39m\u001b[39m'\u001b[39m))\n",
      "\u001b[0;31mGetoptError\u001b[0m: option --fullname must not have an argument",
      "\nDuring handling of the above exception, another exception occurred:\n",
      "\u001b[0;31mDistutilsArgError\u001b[0m                         Traceback (most recent call last)",
      "File \u001b[0;32m~/.pyenv/versions/3.11.6/lib/python3.11/site-packages/setuptools/_distutils/core.py:172\u001b[0m, in \u001b[0;36msetup\u001b[0;34m(**attrs)\u001b[0m\n\u001b[1;32m    171\u001b[0m \u001b[39mtry\u001b[39;00m:\n\u001b[0;32m--> 172\u001b[0m     ok \u001b[39m=\u001b[39m dist\u001b[39m.\u001b[39;49mparse_command_line()\n\u001b[1;32m    173\u001b[0m \u001b[39mexcept\u001b[39;00m DistutilsArgError \u001b[39mas\u001b[39;00m msg:\n",
      "File \u001b[0;32m~/.pyenv/versions/3.11.6/lib/python3.11/site-packages/setuptools/_distutils/dist.py:466\u001b[0m, in \u001b[0;36mDistribution.parse_command_line\u001b[0;34m(self)\u001b[0m\n\u001b[1;32m    465\u001b[0m parser\u001b[39m.\u001b[39mset_aliases({\u001b[39m'\u001b[39m\u001b[39mlicence\u001b[39m\u001b[39m'\u001b[39m: \u001b[39m'\u001b[39m\u001b[39mlicense\u001b[39m\u001b[39m'\u001b[39m})\n\u001b[0;32m--> 466\u001b[0m args \u001b[39m=\u001b[39m parser\u001b[39m.\u001b[39;49mgetopt(args\u001b[39m=\u001b[39;49m\u001b[39mself\u001b[39;49m\u001b[39m.\u001b[39;49mscript_args, \u001b[39mobject\u001b[39;49m\u001b[39m=\u001b[39;49m\u001b[39mself\u001b[39;49m)\n\u001b[1;32m    467\u001b[0m option_order \u001b[39m=\u001b[39m parser\u001b[39m.\u001b[39mget_option_order()\n",
      "File \u001b[0;32m~/.pyenv/versions/3.11.6/lib/python3.11/site-packages/setuptools/_distutils/fancy_getopt.py:248\u001b[0m, in \u001b[0;36mFancyGetopt.getopt\u001b[0;34m(self, args, object)\u001b[0m\n\u001b[1;32m    247\u001b[0m \u001b[39mexcept\u001b[39;00m getopt\u001b[39m.\u001b[39merror \u001b[39mas\u001b[39;00m msg:\n\u001b[0;32m--> 248\u001b[0m     \u001b[39mraise\u001b[39;00m DistutilsArgError(msg)\n\u001b[1;32m    250\u001b[0m \u001b[39mfor\u001b[39;00m opt, val \u001b[39min\u001b[39;00m opts:\n",
      "\u001b[0;31mDistutilsArgError\u001b[0m: option --fullname must not have an argument",
      "\nDuring handling of the above exception, another exception occurred:\n",
      "\u001b[0;31mSystemExit\u001b[0m                                Traceback (most recent call last)",
      "    \u001b[0;31m[... skipping hidden 1 frame]\u001b[0m\n",
      "\u001b[1;32m/home/blu/work/junoplatform-work/juno-platform/tests/test.ipynb Cell 15\u001b[0m line \u001b[0;36m2\n\u001b[1;32m     <a href='vscode-notebook-cell:/home/blu/work/junoplatform-work/juno-platform/tests/test.ipynb#X15sZmlsZQ%3D%3D?line=17'>18</a>\u001b[0m \u001b[39mprint\u001b[39m(files)\n\u001b[0;32m---> <a href='vscode-notebook-cell:/home/blu/work/junoplatform-work/juno-platform/tests/test.ipynb#X15sZmlsZQ%3D%3D?line=19'>20</a>\u001b[0m setup(name\u001b[39m=\u001b[39;49m\u001b[39m\"\u001b[39;49m\u001b[39mo2\u001b[39;49m\u001b[39m\"\u001b[39;49m, cmdclass\u001b[39m=\u001b[39;49m{\n\u001b[1;32m     <a href='vscode-notebook-cell:/home/blu/work/junoplatform-work/juno-platform/tests/test.ipynb#X15sZmlsZQ%3D%3D?line=20'>21</a>\u001b[0m     \u001b[39m\"\u001b[39;49m\u001b[39mbuild_ext\u001b[39;49m\u001b[39m\"\u001b[39;49m: build_ext}, ext_modules\u001b[39m=\u001b[39;49mext_modules)\n\u001b[1;32m     <a href='vscode-notebook-cell:/home/blu/work/junoplatform-work/juno-platform/tests/test.ipynb#X15sZmlsZQ%3D%3D?line=22'>23</a>\u001b[0m setup(script_args\u001b[39m=\u001b[39m[\u001b[39m\"\u001b[39m\u001b[39mbuild_ext\u001b[39m\u001b[39m\"\u001b[39m])\n",
      "File \u001b[0;32m~/.pyenv/versions/3.11.6/lib/python3.11/site-packages/setuptools/_distutils/core.py:174\u001b[0m, in \u001b[0;36msetup\u001b[0;34m(**attrs)\u001b[0m\n\u001b[1;32m    173\u001b[0m \u001b[39mexcept\u001b[39;00m DistutilsArgError \u001b[39mas\u001b[39;00m msg:\n\u001b[0;32m--> 174\u001b[0m     \u001b[39mraise\u001b[39;00m \u001b[39mSystemExit\u001b[39;00m(gen_usage(dist\u001b[39m.\u001b[39mscript_name) \u001b[39m+\u001b[39m \u001b[39m\"\u001b[39m\u001b[39m\\n\u001b[39;00m\u001b[39merror: \u001b[39m\u001b[39m%s\u001b[39;00m\u001b[39m\"\u001b[39m \u001b[39m%\u001b[39m msg)\n\u001b[1;32m    176\u001b[0m \u001b[39mif\u001b[39;00m DEBUG:\n",
      "\u001b[0;31mSystemExit\u001b[0m: usage: ipykernel_launcher.py [global_opts] cmd1 [cmd1_opts] [cmd2 [cmd2_opts] ...]\n   or: ipykernel_launcher.py --help [cmd1 cmd2 ...]\n   or: ipykernel_launcher.py --help-commands\n   or: ipykernel_launcher.py cmd --help\n\nerror: option --fullname must not have an argument",
      "\nDuring handling of the above exception, another exception occurred:\n",
      "\u001b[0;31mAttributeError\u001b[0m                            Traceback (most recent call last)",
      "    \u001b[0;31m[... skipping hidden 1 frame]\u001b[0m\n",
      "File \u001b[0;32m~/.pyenv/versions/3.11.6/lib/python3.11/site-packages/IPython/core/interactiveshell.py:2097\u001b[0m, in \u001b[0;36mInteractiveShell.showtraceback\u001b[0;34m(self, exc_tuple, filename, tb_offset, exception_only, running_compiled_code)\u001b[0m\n\u001b[1;32m   2094\u001b[0m \u001b[39mif\u001b[39;00m exception_only:\n\u001b[1;32m   2095\u001b[0m     stb \u001b[39m=\u001b[39m [\u001b[39m'\u001b[39m\u001b[39mAn exception has occurred, use \u001b[39m\u001b[39m%\u001b[39m\u001b[39mtb to see \u001b[39m\u001b[39m'\u001b[39m\n\u001b[1;32m   2096\u001b[0m            \u001b[39m'\u001b[39m\u001b[39mthe full traceback.\u001b[39m\u001b[39m\\n\u001b[39;00m\u001b[39m'\u001b[39m]\n\u001b[0;32m-> 2097\u001b[0m     stb\u001b[39m.\u001b[39mextend(\u001b[39mself\u001b[39;49m\u001b[39m.\u001b[39;49mInteractiveTB\u001b[39m.\u001b[39;49mget_exception_only(etype,\n\u001b[1;32m   2098\u001b[0m                                                      value))\n\u001b[1;32m   2099\u001b[0m \u001b[39melse\u001b[39;00m:\n\u001b[1;32m   2101\u001b[0m     \u001b[39mdef\u001b[39;00m \u001b[39mcontains_exceptiongroup\u001b[39m(val):\n",
      "File \u001b[0;32m~/.pyenv/versions/3.11.6/lib/python3.11/site-packages/IPython/core/ultratb.py:710\u001b[0m, in \u001b[0;36mListTB.get_exception_only\u001b[0;34m(self, etype, value)\u001b[0m\n\u001b[1;32m    702\u001b[0m \u001b[39mdef\u001b[39;00m \u001b[39mget_exception_only\u001b[39m(\u001b[39mself\u001b[39m, etype, value):\n\u001b[1;32m    703\u001b[0m \u001b[39m    \u001b[39m\u001b[39m\"\"\"Only print the exception type and message, without a traceback.\u001b[39;00m\n\u001b[1;32m    704\u001b[0m \n\u001b[1;32m    705\u001b[0m \u001b[39m    Parameters\u001b[39;00m\n\u001b[0;32m   (...)\u001b[0m\n\u001b[1;32m    708\u001b[0m \u001b[39m    value : exception value\u001b[39;00m\n\u001b[1;32m    709\u001b[0m \u001b[39m    \"\"\"\u001b[39;00m\n\u001b[0;32m--> 710\u001b[0m     \u001b[39mreturn\u001b[39;00m ListTB\u001b[39m.\u001b[39;49mstructured_traceback(\u001b[39mself\u001b[39;49m, etype, value)\n",
      "File \u001b[0;32m~/.pyenv/versions/3.11.6/lib/python3.11/site-packages/IPython/core/ultratb.py:568\u001b[0m, in \u001b[0;36mListTB.structured_traceback\u001b[0;34m(self, etype, evalue, etb, tb_offset, context)\u001b[0m\n\u001b[1;32m    565\u001b[0m     chained_exc_ids\u001b[39m.\u001b[39madd(\u001b[39mid\u001b[39m(exception[\u001b[39m1\u001b[39m]))\n\u001b[1;32m    566\u001b[0m     chained_exceptions_tb_offset \u001b[39m=\u001b[39m \u001b[39m0\u001b[39m\n\u001b[1;32m    567\u001b[0m     out_list \u001b[39m=\u001b[39m (\n\u001b[0;32m--> 568\u001b[0m         \u001b[39mself\u001b[39;49m\u001b[39m.\u001b[39;49mstructured_traceback(\n\u001b[1;32m    569\u001b[0m             etype,\n\u001b[1;32m    570\u001b[0m             evalue,\n\u001b[1;32m    571\u001b[0m             (etb, chained_exc_ids),  \u001b[39m# type: ignore\u001b[39;49;00m\n\u001b[1;32m    572\u001b[0m             chained_exceptions_tb_offset,\n\u001b[1;32m    573\u001b[0m             context,\n\u001b[1;32m    574\u001b[0m         )\n\u001b[1;32m    575\u001b[0m         \u001b[39m+\u001b[39m chained_exception_message\n\u001b[1;32m    576\u001b[0m         \u001b[39m+\u001b[39m out_list)\n\u001b[1;32m    578\u001b[0m \u001b[39mreturn\u001b[39;00m out_list\n",
      "File \u001b[0;32m~/.pyenv/versions/3.11.6/lib/python3.11/site-packages/IPython/core/ultratb.py:1435\u001b[0m, in \u001b[0;36mAutoFormattedTB.structured_traceback\u001b[0;34m(self, etype, evalue, etb, tb_offset, number_of_lines_of_context)\u001b[0m\n\u001b[1;32m   1433\u001b[0m \u001b[39melse\u001b[39;00m:\n\u001b[1;32m   1434\u001b[0m     \u001b[39mself\u001b[39m\u001b[39m.\u001b[39mtb \u001b[39m=\u001b[39m etb\n\u001b[0;32m-> 1435\u001b[0m \u001b[39mreturn\u001b[39;00m FormattedTB\u001b[39m.\u001b[39;49mstructured_traceback(\n\u001b[1;32m   1436\u001b[0m     \u001b[39mself\u001b[39;49m, etype, evalue, etb, tb_offset, number_of_lines_of_context\n\u001b[1;32m   1437\u001b[0m )\n",
      "File \u001b[0;32m~/.pyenv/versions/3.11.6/lib/python3.11/site-packages/IPython/core/ultratb.py:1326\u001b[0m, in \u001b[0;36mFormattedTB.structured_traceback\u001b[0;34m(self, etype, value, tb, tb_offset, number_of_lines_of_context)\u001b[0m\n\u001b[1;32m   1323\u001b[0m mode \u001b[39m=\u001b[39m \u001b[39mself\u001b[39m\u001b[39m.\u001b[39mmode\n\u001b[1;32m   1324\u001b[0m \u001b[39mif\u001b[39;00m mode \u001b[39min\u001b[39;00m \u001b[39mself\u001b[39m\u001b[39m.\u001b[39mverbose_modes:\n\u001b[1;32m   1325\u001b[0m     \u001b[39m# Verbose modes need a full traceback\u001b[39;00m\n\u001b[0;32m-> 1326\u001b[0m     \u001b[39mreturn\u001b[39;00m VerboseTB\u001b[39m.\u001b[39;49mstructured_traceback(\n\u001b[1;32m   1327\u001b[0m         \u001b[39mself\u001b[39;49m, etype, value, tb, tb_offset, number_of_lines_of_context\n\u001b[1;32m   1328\u001b[0m     )\n\u001b[1;32m   1329\u001b[0m \u001b[39melif\u001b[39;00m mode \u001b[39m==\u001b[39m \u001b[39m'\u001b[39m\u001b[39mMinimal\u001b[39m\u001b[39m'\u001b[39m:\n\u001b[1;32m   1330\u001b[0m     \u001b[39mreturn\u001b[39;00m ListTB\u001b[39m.\u001b[39mget_exception_only(\u001b[39mself\u001b[39m, etype, value)\n",
      "File \u001b[0;32m~/.pyenv/versions/3.11.6/lib/python3.11/site-packages/IPython/core/ultratb.py:1173\u001b[0m, in \u001b[0;36mVerboseTB.structured_traceback\u001b[0;34m(self, etype, evalue, etb, tb_offset, number_of_lines_of_context)\u001b[0m\n\u001b[1;32m   1164\u001b[0m \u001b[39mdef\u001b[39;00m \u001b[39mstructured_traceback\u001b[39m(\n\u001b[1;32m   1165\u001b[0m     \u001b[39mself\u001b[39m,\n\u001b[1;32m   1166\u001b[0m     etype: \u001b[39mtype\u001b[39m,\n\u001b[0;32m   (...)\u001b[0m\n\u001b[1;32m   1170\u001b[0m     number_of_lines_of_context: \u001b[39mint\u001b[39m \u001b[39m=\u001b[39m \u001b[39m5\u001b[39m,\n\u001b[1;32m   1171\u001b[0m ):\n\u001b[1;32m   1172\u001b[0m \u001b[39m    \u001b[39m\u001b[39m\"\"\"Return a nice text document describing the traceback.\"\"\"\u001b[39;00m\n\u001b[0;32m-> 1173\u001b[0m     formatted_exception \u001b[39m=\u001b[39m \u001b[39mself\u001b[39;49m\u001b[39m.\u001b[39;49mformat_exception_as_a_whole(etype, evalue, etb, number_of_lines_of_context,\n\u001b[1;32m   1174\u001b[0m                                                            tb_offset)\n\u001b[1;32m   1176\u001b[0m     colors \u001b[39m=\u001b[39m \u001b[39mself\u001b[39m\u001b[39m.\u001b[39mColors  \u001b[39m# just a shorthand + quicker name lookup\u001b[39;00m\n\u001b[1;32m   1177\u001b[0m     colorsnormal \u001b[39m=\u001b[39m colors\u001b[39m.\u001b[39mNormal  \u001b[39m# used a lot\u001b[39;00m\n",
      "File \u001b[0;32m~/.pyenv/versions/3.11.6/lib/python3.11/site-packages/IPython/core/ultratb.py:1063\u001b[0m, in \u001b[0;36mVerboseTB.format_exception_as_a_whole\u001b[0;34m(self, etype, evalue, etb, number_of_lines_of_context, tb_offset)\u001b[0m\n\u001b[1;32m   1060\u001b[0m \u001b[39massert\u001b[39;00m \u001b[39misinstance\u001b[39m(tb_offset, \u001b[39mint\u001b[39m)\n\u001b[1;32m   1061\u001b[0m head \u001b[39m=\u001b[39m \u001b[39mself\u001b[39m\u001b[39m.\u001b[39mprepare_header(\u001b[39mstr\u001b[39m(etype), \u001b[39mself\u001b[39m\u001b[39m.\u001b[39mlong_header)\n\u001b[1;32m   1062\u001b[0m records \u001b[39m=\u001b[39m (\n\u001b[0;32m-> 1063\u001b[0m     \u001b[39mself\u001b[39;49m\u001b[39m.\u001b[39;49mget_records(etb, number_of_lines_of_context, tb_offset) \u001b[39mif\u001b[39;00m etb \u001b[39melse\u001b[39;00m []\n\u001b[1;32m   1064\u001b[0m )\n\u001b[1;32m   1066\u001b[0m frames \u001b[39m=\u001b[39m []\n\u001b[1;32m   1067\u001b[0m skipped \u001b[39m=\u001b[39m \u001b[39m0\u001b[39m\n",
      "File \u001b[0;32m~/.pyenv/versions/3.11.6/lib/python3.11/site-packages/IPython/core/ultratb.py:1131\u001b[0m, in \u001b[0;36mVerboseTB.get_records\u001b[0;34m(self, etb, number_of_lines_of_context, tb_offset)\u001b[0m\n\u001b[1;32m   1129\u001b[0m \u001b[39mwhile\u001b[39;00m cf \u001b[39mis\u001b[39;00m \u001b[39mnot\u001b[39;00m \u001b[39mNone\u001b[39;00m:\n\u001b[1;32m   1130\u001b[0m     \u001b[39mtry\u001b[39;00m:\n\u001b[0;32m-> 1131\u001b[0m         mod \u001b[39m=\u001b[39m inspect\u001b[39m.\u001b[39mgetmodule(cf\u001b[39m.\u001b[39;49mtb_frame)\n\u001b[1;32m   1132\u001b[0m         \u001b[39mif\u001b[39;00m mod \u001b[39mis\u001b[39;00m \u001b[39mnot\u001b[39;00m \u001b[39mNone\u001b[39;00m:\n\u001b[1;32m   1133\u001b[0m             mod_name \u001b[39m=\u001b[39m mod\u001b[39m.\u001b[39m\u001b[39m__name__\u001b[39m\n",
      "\u001b[0;31mAttributeError\u001b[0m: 'tuple' object has no attribute 'tb_frame'"
     ]
    }
   ],
   "source": [
    "from distutils.core import setup\n",
    "from distutils.extension import Extension\n",
    "from Cython.Distutils import build_ext\n",
    "\n",
    "ext_modules = [\n",
    "    # Extension(\"learn\", [\"learn.py\"]),\n",
    "    # Extension(\"data\", [\"data.py\"]),\n",
    "    #   ... all your modules that need be compiled ...\n",
    "]\n",
    "\n",
    "\n",
    "files = get_file_names(\"../test/\")\n",
    "for x in files:\n",
    "    base = os.path.splitext(os.path.basename(x))[0]\n",
    "    ext_modules.append(Extension(base, [x]))\n",
    "\n",
    "print(ext_modules)\n",
    "print(files)\n",
    "\n",
    "setup(name=\"o2\", cmdclass={\"build_ext\": build_ext}, ext_modules=ext_modules)\n",
    "\n",
    "setup(script_args=[\"build_ext\"])"
   ]
  },
  {
   "cell_type": "code",
   "execution_count": 35,
   "metadata": {},
   "outputs": [
    {
     "name": "stdout",
     "output_type": "stream",
     "text": [
      "[<setuptools.extension.Extension('u_emergency') at 0x7fbd89e4e590>, <setuptools.extension.Extension('PACPAM') at 0x7fbd88d8cdd0>, <setuptools.extension.Extension('Bayes_model') at 0x7fbd88d3ddd0>, <setuptools.extension.Extension('plug_in') at 0x7fbd88b766d0>, <setuptools.extension.Extension('Scale') at 0x7fbd88b77190>, <setuptools.extension.Extension('main') at 0x7fbd88b74150>, <setuptools.extension.Extension('Abnormal_handel') at 0x7fbd88b74950>, <setuptools.extension.Extension('PID_model') at 0x7fbd88b74a50>]\n",
      "['../test/u_emergency.py', '../test/PACPAM.py', '../test/Bayes_model.py', '../test/plug_in.py', '../test/Scale.py', '../test/main.py', '../test/Abnormal_handel.py', '../test/PID_model.py']\n"
     ]
    },
    {
     "ename": "AttributeError",
     "evalue": "'tuple' object has no attribute 'tb_frame'",
     "output_type": "error",
     "traceback": [
      "\u001b[0;31m---------------------------------------------------------------------------\u001b[0m",
      "\u001b[0;31mGetoptError\u001b[0m                               Traceback (most recent call last)",
      "File \u001b[0;32m~/.pyenv/versions/3.11.6/lib/python3.11/site-packages/setuptools/_distutils/fancy_getopt.py:246\u001b[0m, in \u001b[0;36mFancyGetopt.getopt\u001b[0;34m(self, args, object)\u001b[0m\n\u001b[1;32m    245\u001b[0m \u001b[39mtry\u001b[39;00m:\n\u001b[0;32m--> 246\u001b[0m     opts, args \u001b[39m=\u001b[39m getopt\u001b[39m.\u001b[39;49mgetopt(args, short_opts, \u001b[39mself\u001b[39;49m\u001b[39m.\u001b[39;49mlong_opts)\n\u001b[1;32m    247\u001b[0m \u001b[39mexcept\u001b[39;00m getopt\u001b[39m.\u001b[39merror \u001b[39mas\u001b[39;00m msg:\n",
      "File \u001b[0;32m~/.pyenv/versions/3.11.6/lib/python3.11/getopt.py:93\u001b[0m, in \u001b[0;36mgetopt\u001b[0;34m(args, shortopts, longopts)\u001b[0m\n\u001b[1;32m     92\u001b[0m \u001b[39mif\u001b[39;00m args[\u001b[39m0\u001b[39m]\u001b[39m.\u001b[39mstartswith(\u001b[39m'\u001b[39m\u001b[39m--\u001b[39m\u001b[39m'\u001b[39m):\n\u001b[0;32m---> 93\u001b[0m     opts, args \u001b[39m=\u001b[39m do_longs(opts, args[\u001b[39m0\u001b[39;49m][\u001b[39m2\u001b[39;49m:], longopts, args[\u001b[39m1\u001b[39;49m:])\n\u001b[1;32m     94\u001b[0m \u001b[39melse\u001b[39;00m:\n",
      "File \u001b[0;32m~/.pyenv/versions/3.11.6/lib/python3.11/getopt.py:164\u001b[0m, in \u001b[0;36mdo_longs\u001b[0;34m(opts, opt, longopts, args)\u001b[0m\n\u001b[1;32m    163\u001b[0m \u001b[39melif\u001b[39;00m optarg \u001b[39mis\u001b[39;00m \u001b[39mnot\u001b[39;00m \u001b[39mNone\u001b[39;00m:\n\u001b[0;32m--> 164\u001b[0m     \u001b[39mraise\u001b[39;00m GetoptError(_(\u001b[39m'\u001b[39m\u001b[39moption --\u001b[39m\u001b[39m%s\u001b[39;00m\u001b[39m must not have an argument\u001b[39m\u001b[39m'\u001b[39m) \u001b[39m%\u001b[39m opt, opt)\n\u001b[1;32m    165\u001b[0m opts\u001b[39m.\u001b[39mappend((\u001b[39m'\u001b[39m\u001b[39m--\u001b[39m\u001b[39m'\u001b[39m \u001b[39m+\u001b[39m opt, optarg \u001b[39mor\u001b[39;00m \u001b[39m'\u001b[39m\u001b[39m'\u001b[39m))\n",
      "\u001b[0;31mGetoptError\u001b[0m: option --fullname must not have an argument",
      "\nDuring handling of the above exception, another exception occurred:\n",
      "\u001b[0;31mDistutilsArgError\u001b[0m                         Traceback (most recent call last)",
      "File \u001b[0;32m~/.pyenv/versions/3.11.6/lib/python3.11/site-packages/setuptools/_distutils/core.py:172\u001b[0m, in \u001b[0;36msetup\u001b[0;34m(**attrs)\u001b[0m\n\u001b[1;32m    171\u001b[0m \u001b[39mtry\u001b[39;00m:\n\u001b[0;32m--> 172\u001b[0m     ok \u001b[39m=\u001b[39m dist\u001b[39m.\u001b[39;49mparse_command_line()\n\u001b[1;32m    173\u001b[0m \u001b[39mexcept\u001b[39;00m DistutilsArgError \u001b[39mas\u001b[39;00m msg:\n",
      "File \u001b[0;32m~/.pyenv/versions/3.11.6/lib/python3.11/site-packages/setuptools/_distutils/dist.py:466\u001b[0m, in \u001b[0;36mDistribution.parse_command_line\u001b[0;34m(self)\u001b[0m\n\u001b[1;32m    465\u001b[0m parser\u001b[39m.\u001b[39mset_aliases({\u001b[39m'\u001b[39m\u001b[39mlicence\u001b[39m\u001b[39m'\u001b[39m: \u001b[39m'\u001b[39m\u001b[39mlicense\u001b[39m\u001b[39m'\u001b[39m})\n\u001b[0;32m--> 466\u001b[0m args \u001b[39m=\u001b[39m parser\u001b[39m.\u001b[39;49mgetopt(args\u001b[39m=\u001b[39;49m\u001b[39mself\u001b[39;49m\u001b[39m.\u001b[39;49mscript_args, \u001b[39mobject\u001b[39;49m\u001b[39m=\u001b[39;49m\u001b[39mself\u001b[39;49m)\n\u001b[1;32m    467\u001b[0m option_order \u001b[39m=\u001b[39m parser\u001b[39m.\u001b[39mget_option_order()\n",
      "File \u001b[0;32m~/.pyenv/versions/3.11.6/lib/python3.11/site-packages/setuptools/_distutils/fancy_getopt.py:248\u001b[0m, in \u001b[0;36mFancyGetopt.getopt\u001b[0;34m(self, args, object)\u001b[0m\n\u001b[1;32m    247\u001b[0m \u001b[39mexcept\u001b[39;00m getopt\u001b[39m.\u001b[39merror \u001b[39mas\u001b[39;00m msg:\n\u001b[0;32m--> 248\u001b[0m     \u001b[39mraise\u001b[39;00m DistutilsArgError(msg)\n\u001b[1;32m    250\u001b[0m \u001b[39mfor\u001b[39;00m opt, val \u001b[39min\u001b[39;00m opts:\n",
      "\u001b[0;31mDistutilsArgError\u001b[0m: option --fullname must not have an argument",
      "\nDuring handling of the above exception, another exception occurred:\n",
      "\u001b[0;31mSystemExit\u001b[0m                                Traceback (most recent call last)",
      "    \u001b[0;31m[... skipping hidden 1 frame]\u001b[0m\n",
      "\u001b[1;32m/home/blu/work/junoplatform-work/juno-platform/tests/test.ipynb Cell 16\u001b[0m line \u001b[0;36m1\n\u001b[0;32m----> <a href='vscode-notebook-cell:/home/blu/work/junoplatform-work/juno-platform/tests/test.ipynb#X21sZmlsZQ%3D%3D?line=0'>1</a>\u001b[0m \u001b[39mcompile\u001b[39;49m(\u001b[39m\"\u001b[39;49m\u001b[39m../test\u001b[39;49m\u001b[39m\"\u001b[39;49m)\n",
      "\u001b[1;32m/home/blu/work/junoplatform-work/juno-platform/tests/test.ipynb Cell 16\u001b[0m line \u001b[0;36m2\n\u001b[1;32m     <a href='vscode-notebook-cell:/home/blu/work/junoplatform-work/juno-platform/tests/test.ipynb#X21sZmlsZQ%3D%3D?line=18'>19</a>\u001b[0m \u001b[39mprint\u001b[39m(files)\n\u001b[0;32m---> <a href='vscode-notebook-cell:/home/blu/work/junoplatform-work/juno-platform/tests/test.ipynb#X21sZmlsZQ%3D%3D?line=20'>21</a>\u001b[0m setup(name\u001b[39m=\u001b[39;49m\u001b[39m\"\u001b[39;49m\u001b[39mo2\u001b[39;49m\u001b[39m\"\u001b[39;49m, cmdclass\u001b[39m=\u001b[39;49m{\n\u001b[1;32m     <a href='vscode-notebook-cell:/home/blu/work/junoplatform-work/juno-platform/tests/test.ipynb#X21sZmlsZQ%3D%3D?line=21'>22</a>\u001b[0m       \u001b[39m\"\u001b[39;49m\u001b[39mbuild_ext\u001b[39;49m\u001b[39m\"\u001b[39;49m: build_ext}, ext_modules\u001b[39m=\u001b[39;49mext_modules)\n\u001b[1;32m     <a href='vscode-notebook-cell:/home/blu/work/junoplatform-work/juno-platform/tests/test.ipynb#X21sZmlsZQ%3D%3D?line=23'>24</a>\u001b[0m setup(script_args\u001b[39m=\u001b[39m[\u001b[39m\"\u001b[39m\u001b[39mbuild_ext\u001b[39m\u001b[39m\"\u001b[39m, \u001b[39m\"\u001b[39m\u001b[39m--inplace\u001b[39m\u001b[39m\"\u001b[39m])\n",
      "File \u001b[0;32m~/.pyenv/versions/3.11.6/lib/python3.11/site-packages/setuptools/_distutils/core.py:174\u001b[0m, in \u001b[0;36msetup\u001b[0;34m(**attrs)\u001b[0m\n\u001b[1;32m    173\u001b[0m \u001b[39mexcept\u001b[39;00m DistutilsArgError \u001b[39mas\u001b[39;00m msg:\n\u001b[0;32m--> 174\u001b[0m     \u001b[39mraise\u001b[39;00m \u001b[39mSystemExit\u001b[39;00m(gen_usage(dist\u001b[39m.\u001b[39mscript_name) \u001b[39m+\u001b[39m \u001b[39m\"\u001b[39m\u001b[39m\\n\u001b[39;00m\u001b[39merror: \u001b[39m\u001b[39m%s\u001b[39;00m\u001b[39m\"\u001b[39m \u001b[39m%\u001b[39m msg)\n\u001b[1;32m    176\u001b[0m \u001b[39mif\u001b[39;00m DEBUG:\n",
      "\u001b[0;31mSystemExit\u001b[0m: usage: ipykernel_launcher.py [global_opts] cmd1 [cmd1_opts] [cmd2 [cmd2_opts] ...]\n   or: ipykernel_launcher.py --help [cmd1 cmd2 ...]\n   or: ipykernel_launcher.py --help-commands\n   or: ipykernel_launcher.py cmd --help\n\nerror: option --fullname must not have an argument",
      "\nDuring handling of the above exception, another exception occurred:\n",
      "\u001b[0;31mAttributeError\u001b[0m                            Traceback (most recent call last)",
      "    \u001b[0;31m[... skipping hidden 1 frame]\u001b[0m\n",
      "File \u001b[0;32m~/.pyenv/versions/3.11.6/lib/python3.11/site-packages/IPython/core/interactiveshell.py:2097\u001b[0m, in \u001b[0;36mInteractiveShell.showtraceback\u001b[0;34m(self, exc_tuple, filename, tb_offset, exception_only, running_compiled_code)\u001b[0m\n\u001b[1;32m   2094\u001b[0m \u001b[39mif\u001b[39;00m exception_only:\n\u001b[1;32m   2095\u001b[0m     stb \u001b[39m=\u001b[39m [\u001b[39m'\u001b[39m\u001b[39mAn exception has occurred, use \u001b[39m\u001b[39m%\u001b[39m\u001b[39mtb to see \u001b[39m\u001b[39m'\u001b[39m\n\u001b[1;32m   2096\u001b[0m            \u001b[39m'\u001b[39m\u001b[39mthe full traceback.\u001b[39m\u001b[39m\\n\u001b[39;00m\u001b[39m'\u001b[39m]\n\u001b[0;32m-> 2097\u001b[0m     stb\u001b[39m.\u001b[39mextend(\u001b[39mself\u001b[39;49m\u001b[39m.\u001b[39;49mInteractiveTB\u001b[39m.\u001b[39;49mget_exception_only(etype,\n\u001b[1;32m   2098\u001b[0m                                                      value))\n\u001b[1;32m   2099\u001b[0m \u001b[39melse\u001b[39;00m:\n\u001b[1;32m   2101\u001b[0m     \u001b[39mdef\u001b[39;00m \u001b[39mcontains_exceptiongroup\u001b[39m(val):\n",
      "File \u001b[0;32m~/.pyenv/versions/3.11.6/lib/python3.11/site-packages/IPython/core/ultratb.py:710\u001b[0m, in \u001b[0;36mListTB.get_exception_only\u001b[0;34m(self, etype, value)\u001b[0m\n\u001b[1;32m    702\u001b[0m \u001b[39mdef\u001b[39;00m \u001b[39mget_exception_only\u001b[39m(\u001b[39mself\u001b[39m, etype, value):\n\u001b[1;32m    703\u001b[0m \u001b[39m    \u001b[39m\u001b[39m\"\"\"Only print the exception type and message, without a traceback.\u001b[39;00m\n\u001b[1;32m    704\u001b[0m \n\u001b[1;32m    705\u001b[0m \u001b[39m    Parameters\u001b[39;00m\n\u001b[0;32m   (...)\u001b[0m\n\u001b[1;32m    708\u001b[0m \u001b[39m    value : exception value\u001b[39;00m\n\u001b[1;32m    709\u001b[0m \u001b[39m    \"\"\"\u001b[39;00m\n\u001b[0;32m--> 710\u001b[0m     \u001b[39mreturn\u001b[39;00m ListTB\u001b[39m.\u001b[39;49mstructured_traceback(\u001b[39mself\u001b[39;49m, etype, value)\n",
      "File \u001b[0;32m~/.pyenv/versions/3.11.6/lib/python3.11/site-packages/IPython/core/ultratb.py:568\u001b[0m, in \u001b[0;36mListTB.structured_traceback\u001b[0;34m(self, etype, evalue, etb, tb_offset, context)\u001b[0m\n\u001b[1;32m    565\u001b[0m     chained_exc_ids\u001b[39m.\u001b[39madd(\u001b[39mid\u001b[39m(exception[\u001b[39m1\u001b[39m]))\n\u001b[1;32m    566\u001b[0m     chained_exceptions_tb_offset \u001b[39m=\u001b[39m \u001b[39m0\u001b[39m\n\u001b[1;32m    567\u001b[0m     out_list \u001b[39m=\u001b[39m (\n\u001b[0;32m--> 568\u001b[0m         \u001b[39mself\u001b[39;49m\u001b[39m.\u001b[39;49mstructured_traceback(\n\u001b[1;32m    569\u001b[0m             etype,\n\u001b[1;32m    570\u001b[0m             evalue,\n\u001b[1;32m    571\u001b[0m             (etb, chained_exc_ids),  \u001b[39m# type: ignore\u001b[39;49;00m\n\u001b[1;32m    572\u001b[0m             chained_exceptions_tb_offset,\n\u001b[1;32m    573\u001b[0m             context,\n\u001b[1;32m    574\u001b[0m         )\n\u001b[1;32m    575\u001b[0m         \u001b[39m+\u001b[39m chained_exception_message\n\u001b[1;32m    576\u001b[0m         \u001b[39m+\u001b[39m out_list)\n\u001b[1;32m    578\u001b[0m \u001b[39mreturn\u001b[39;00m out_list\n",
      "File \u001b[0;32m~/.pyenv/versions/3.11.6/lib/python3.11/site-packages/IPython/core/ultratb.py:1435\u001b[0m, in \u001b[0;36mAutoFormattedTB.structured_traceback\u001b[0;34m(self, etype, evalue, etb, tb_offset, number_of_lines_of_context)\u001b[0m\n\u001b[1;32m   1433\u001b[0m \u001b[39melse\u001b[39;00m:\n\u001b[1;32m   1434\u001b[0m     \u001b[39mself\u001b[39m\u001b[39m.\u001b[39mtb \u001b[39m=\u001b[39m etb\n\u001b[0;32m-> 1435\u001b[0m \u001b[39mreturn\u001b[39;00m FormattedTB\u001b[39m.\u001b[39;49mstructured_traceback(\n\u001b[1;32m   1436\u001b[0m     \u001b[39mself\u001b[39;49m, etype, evalue, etb, tb_offset, number_of_lines_of_context\n\u001b[1;32m   1437\u001b[0m )\n",
      "File \u001b[0;32m~/.pyenv/versions/3.11.6/lib/python3.11/site-packages/IPython/core/ultratb.py:1326\u001b[0m, in \u001b[0;36mFormattedTB.structured_traceback\u001b[0;34m(self, etype, value, tb, tb_offset, number_of_lines_of_context)\u001b[0m\n\u001b[1;32m   1323\u001b[0m mode \u001b[39m=\u001b[39m \u001b[39mself\u001b[39m\u001b[39m.\u001b[39mmode\n\u001b[1;32m   1324\u001b[0m \u001b[39mif\u001b[39;00m mode \u001b[39min\u001b[39;00m \u001b[39mself\u001b[39m\u001b[39m.\u001b[39mverbose_modes:\n\u001b[1;32m   1325\u001b[0m     \u001b[39m# Verbose modes need a full traceback\u001b[39;00m\n\u001b[0;32m-> 1326\u001b[0m     \u001b[39mreturn\u001b[39;00m VerboseTB\u001b[39m.\u001b[39;49mstructured_traceback(\n\u001b[1;32m   1327\u001b[0m         \u001b[39mself\u001b[39;49m, etype, value, tb, tb_offset, number_of_lines_of_context\n\u001b[1;32m   1328\u001b[0m     )\n\u001b[1;32m   1329\u001b[0m \u001b[39melif\u001b[39;00m mode \u001b[39m==\u001b[39m \u001b[39m'\u001b[39m\u001b[39mMinimal\u001b[39m\u001b[39m'\u001b[39m:\n\u001b[1;32m   1330\u001b[0m     \u001b[39mreturn\u001b[39;00m ListTB\u001b[39m.\u001b[39mget_exception_only(\u001b[39mself\u001b[39m, etype, value)\n",
      "File \u001b[0;32m~/.pyenv/versions/3.11.6/lib/python3.11/site-packages/IPython/core/ultratb.py:1173\u001b[0m, in \u001b[0;36mVerboseTB.structured_traceback\u001b[0;34m(self, etype, evalue, etb, tb_offset, number_of_lines_of_context)\u001b[0m\n\u001b[1;32m   1164\u001b[0m \u001b[39mdef\u001b[39;00m \u001b[39mstructured_traceback\u001b[39m(\n\u001b[1;32m   1165\u001b[0m     \u001b[39mself\u001b[39m,\n\u001b[1;32m   1166\u001b[0m     etype: \u001b[39mtype\u001b[39m,\n\u001b[0;32m   (...)\u001b[0m\n\u001b[1;32m   1170\u001b[0m     number_of_lines_of_context: \u001b[39mint\u001b[39m \u001b[39m=\u001b[39m \u001b[39m5\u001b[39m,\n\u001b[1;32m   1171\u001b[0m ):\n\u001b[1;32m   1172\u001b[0m \u001b[39m    \u001b[39m\u001b[39m\"\"\"Return a nice text document describing the traceback.\"\"\"\u001b[39;00m\n\u001b[0;32m-> 1173\u001b[0m     formatted_exception \u001b[39m=\u001b[39m \u001b[39mself\u001b[39;49m\u001b[39m.\u001b[39;49mformat_exception_as_a_whole(etype, evalue, etb, number_of_lines_of_context,\n\u001b[1;32m   1174\u001b[0m                                                            tb_offset)\n\u001b[1;32m   1176\u001b[0m     colors \u001b[39m=\u001b[39m \u001b[39mself\u001b[39m\u001b[39m.\u001b[39mColors  \u001b[39m# just a shorthand + quicker name lookup\u001b[39;00m\n\u001b[1;32m   1177\u001b[0m     colorsnormal \u001b[39m=\u001b[39m colors\u001b[39m.\u001b[39mNormal  \u001b[39m# used a lot\u001b[39;00m\n",
      "File \u001b[0;32m~/.pyenv/versions/3.11.6/lib/python3.11/site-packages/IPython/core/ultratb.py:1063\u001b[0m, in \u001b[0;36mVerboseTB.format_exception_as_a_whole\u001b[0;34m(self, etype, evalue, etb, number_of_lines_of_context, tb_offset)\u001b[0m\n\u001b[1;32m   1060\u001b[0m \u001b[39massert\u001b[39;00m \u001b[39misinstance\u001b[39m(tb_offset, \u001b[39mint\u001b[39m)\n\u001b[1;32m   1061\u001b[0m head \u001b[39m=\u001b[39m \u001b[39mself\u001b[39m\u001b[39m.\u001b[39mprepare_header(\u001b[39mstr\u001b[39m(etype), \u001b[39mself\u001b[39m\u001b[39m.\u001b[39mlong_header)\n\u001b[1;32m   1062\u001b[0m records \u001b[39m=\u001b[39m (\n\u001b[0;32m-> 1063\u001b[0m     \u001b[39mself\u001b[39;49m\u001b[39m.\u001b[39;49mget_records(etb, number_of_lines_of_context, tb_offset) \u001b[39mif\u001b[39;00m etb \u001b[39melse\u001b[39;00m []\n\u001b[1;32m   1064\u001b[0m )\n\u001b[1;32m   1066\u001b[0m frames \u001b[39m=\u001b[39m []\n\u001b[1;32m   1067\u001b[0m skipped \u001b[39m=\u001b[39m \u001b[39m0\u001b[39m\n",
      "File \u001b[0;32m~/.pyenv/versions/3.11.6/lib/python3.11/site-packages/IPython/core/ultratb.py:1131\u001b[0m, in \u001b[0;36mVerboseTB.get_records\u001b[0;34m(self, etb, number_of_lines_of_context, tb_offset)\u001b[0m\n\u001b[1;32m   1129\u001b[0m \u001b[39mwhile\u001b[39;00m cf \u001b[39mis\u001b[39;00m \u001b[39mnot\u001b[39;00m \u001b[39mNone\u001b[39;00m:\n\u001b[1;32m   1130\u001b[0m     \u001b[39mtry\u001b[39;00m:\n\u001b[0;32m-> 1131\u001b[0m         mod \u001b[39m=\u001b[39m inspect\u001b[39m.\u001b[39mgetmodule(cf\u001b[39m.\u001b[39;49mtb_frame)\n\u001b[1;32m   1132\u001b[0m         \u001b[39mif\u001b[39;00m mod \u001b[39mis\u001b[39;00m \u001b[39mnot\u001b[39;00m \u001b[39mNone\u001b[39;00m:\n\u001b[1;32m   1133\u001b[0m             mod_name \u001b[39m=\u001b[39m mod\u001b[39m.\u001b[39m\u001b[39m__name__\u001b[39m\n",
      "\u001b[0;31mAttributeError\u001b[0m: 'tuple' object has no attribute 'tb_frame'"
     ]
    }
   ],
   "source": [
    "compile(\"../test\")"
   ]
  },
  {
   "cell_type": "code",
   "execution_count": 65,
   "metadata": {},
   "outputs": [],
   "source": [
    "from Crypto.Random import get_random_bytes\n",
    "from Crypto.Util.Padding import pad, unpad\n",
    "from Crypto.Cipher import AES\n",
    "import json\n",
    "import struct\n",
    "\n",
    "header = b\"jpcfg\"\n",
    "\n",
    "\n",
    "def encrypt(plaintext, key):\n",
    "    if isinstance(plaintext, str):\n",
    "        plaintext = plaintext.encode(\"utf-8\")\n",
    "\n",
    "    cipher = AES.new(key, AES.MODE_CBC)\n",
    "    ciphertext = cipher.encrypt(pad(plaintext, AES.block_size))\n",
    "\n",
    "    return cipher.iv + ciphertext\n",
    "\n",
    "\n",
    "def decrypt(ciphertext, key):\n",
    "    iv = ciphertext[: AES.block_size]\n",
    "    ciphertext = ciphertext[AES.block_size:]\n",
    "    cipher = AES.new(key, AES.MODE_CBC, iv)\n",
    "    plaintext = unpad(cipher.decrypt(ciphertext), AES.block_size)\n",
    "\n",
    "    return plaintext\n",
    "\n",
    "\n",
    "def write_encrypt(config: dict):\n",
    "    key = get_random_bytes(16)  # Generate a random 16-byte (128-bit) key\n",
    "    print(\"key: \", key)\n",
    "    pass_siz = struct.pack(\"H\", 16)\n",
    "    raw = json.dumps(config, ensure_ascii=False)\n",
    "    encryed = encrypt(raw, key)\n",
    "    text_siz = struct.pack(\"I\", len(encryed))\n",
    "\n",
    "    with open(\"config.json\", \"wb\") as f:\n",
    "        f.write(header)\n",
    "        f.write(pass_siz)\n",
    "        f.write(key)\n",
    "        f.write(text_siz)\n",
    "        f.write(encryed)\n",
    "\n",
    "\n",
    "def read():\n",
    "    content = None\n",
    "    with open(\"config.json\", \"rb\") as f:\n",
    "        content = f.read()\n",
    "\n",
    "    lh = len(header)\n",
    "    if content[:lh] == header:\n",
    "        siz = struct.unpack(\"H\", content[lh: (lh + 2)])[0]\n",
    "        print(\"siz: \", siz)\n",
    "        lh += 2\n",
    "        key = content[lh: (lh + siz)]\n",
    "        lh += siz\n",
    "        siz = struct.unpack(\"I\", content[lh: (lh + 4)])[0]\n",
    "        lh += 4\n",
    "        text = content[lh:]\n",
    "        if len(text) != siz:\n",
    "            print(f\"invalid len: {len(text)}, {siz}\")\n",
    "        content = decrypt(text, key)\n",
    "\n",
    "    return json.loads(content)"
   ]
  },
  {
   "cell_type": "code",
   "execution_count": 66,
   "metadata": {},
   "outputs": [
    {
     "name": "stdout",
     "output_type": "stream",
     "text": [
      "key:  b'\\x81\\xda\\x12/\\xc2\\x86\\xf6\\xd7\\r\\x85\\xda\\x1c\\xe5\\xc7\\xc1\\xf6'\n",
      "siz:  16\n"
     ]
    },
    {
     "data": {
      "text/plain": [
       "{'a': 1, 'b': 2}"
      ]
     },
     "execution_count": 66,
     "metadata": {},
     "output_type": "execute_result"
    }
   ],
   "source": [
    "a = {\"a\": 1, \"b\": 2}\n",
    "write_encrypt(a)\n",
    "read()"
   ]
  },
  {
   "cell_type": "code",
   "execution_count": 41,
   "metadata": {},
   "outputs": [
    {
     "name": "stdout",
     "output_type": "stream",
     "text": [
      "Ciphertext: b'\\x16\\xc2\\xb5\\x01\\x15\\x9f\"\\xe3 la<\\xc7M\\x9a\\xb7\\x9f\\x8e\\xa1\\xac\\xf7(\\x86\\x89\\xa1\\xc5\\xa9\\x03\\xb0\\x06}\\xf6'\n",
      "Decrypted text: Hello, AES!\n"
     ]
    }
   ],
   "source": [
    "# Example usage\n",
    "key = get_random_bytes(16)  # Generate a random 16-byte (128-bit) key\n",
    "plaintext = b\"Hello, AES!\"\n",
    "\n",
    "# Encrypt the plaintext\n",
    "ciphertext = encrypt(plaintext, key)\n",
    "print(\"Ciphertext:\", ciphertext)\n",
    "\n",
    "# Decrypt the ciphertext\n",
    "decrypted_text = decrypt(ciphertext, key)\n",
    "print(\"Decrypted text:\", decrypted_text.decode())"
   ]
  },
  {
   "cell_type": "code",
   "execution_count": 24,
   "metadata": {},
   "outputs": [],
   "source": [
    "errmsg = '{\"number\":\"13456290332\",\"params\":{\"plant\":\"yudai, \\xe6\\xb0\\xb4\\xe5\\x8e\\x82 \",\"module\":\" CARBON, \\xe7\\xae\\x97\\xe6\\xb3\\x95\\xe6\\xa8\\xa1\\xe5\\x9d\\x97, \",\"fault\":\"\\xe7\\x82\\xb9\\xe4\\xbd\\x8d\\xe6\\x95\\xb0\\xe5\\x80\\xbc\\xe5\\x8f\\x91\\xe7\\x94\\x9f\\xe5\\xbc\\x82\\xe5\\xb8\\xb8\",\"ts\":1704332768.890402}}'"
   ]
  },
  {
   "cell_type": "code",
   "execution_count": 26,
   "metadata": {},
   "outputs": [
    {
     "data": {
      "text/plain": [
       "'{\"number\": \"13456290332\", \"params\": {\"plant\": \"yudai, æ°´å\\x8e\\x82 \", \"module\": \" CARBON, ç®\\x97æ³\\x95æ¨¡å\\x9d\\x97, \", \"fault\": \"ç\\x82¹ä½\\x8dæ\\x95°å\\x80¼å\\x8f\\x91ç\\x94\\x9få¼\\x82å¸¸\", \"ts\": 1704332768.890402}}'"
      ]
     },
     "execution_count": 26,
     "metadata": {},
     "output_type": "execute_result"
    }
   ],
   "source": [
    "x = json.loads(errmsg)\n",
    "json.dumps(x, ensure_ascii=False)"
   ]
  },
  {
   "cell_type": "code",
   "execution_count": 5,
   "metadata": {},
   "outputs": [
    {
     "data": {
      "text/plain": [
       "'{\"number\": \"13456290332\", \"params\": {\"plant\": \"yudai, æ°´å\\x8e\\x82 \", \"module\": \" CARBON, ç®\\x97æ³\\x95æ¨¡å\\x9d\\x97, \", \"fault\": \"ç\\x82¹ä½\\x8dæ\\x95°å\\x80¼å\\x8f\\x91ç\\x94\\x9få¼\\x82å¸¸\", \"ts\": 1704332768.890402}}'"
      ]
     },
     "execution_count": 5,
     "metadata": {},
     "output_type": "execute_result"
    }
   ],
   "source": [
    "import json\n",
    "\n",
    "x = json.loads(errmsg)\n",
    "json.dumps(x, ensure_ascii=False)"
   ]
  }
 ],
 "metadata": {
  "kernelspec": {
   "display_name": "Python 3",
   "language": "python",
   "name": "python3"
  },
  "language_info": {
   "codemirror_mode": {
    "name": "ipython",
    "version": 3
   },
   "file_extension": ".py",
   "mimetype": "text/x-python",
   "name": "python",
   "nbconvert_exporter": "python",
   "pygments_lexer": "ipython3",
   "version": "3.11.6"
  }
 },
 "nbformat": 4,
 "nbformat_minor": 2
}
