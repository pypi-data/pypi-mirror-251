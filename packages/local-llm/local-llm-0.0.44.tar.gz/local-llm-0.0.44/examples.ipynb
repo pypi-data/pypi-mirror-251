{
 "cells": [
  {
   "cell_type": "markdown",
   "metadata": {},
   "source": [
    "# Local-LLM Examples\n",
    "\n",
    "Simply choose your favorite model of choice from the models list and paste it into the `model` variable on the API calls. You can get a list of models below.\n",
    "\n",
    "**Note, you do not need an OpenAI API Key, the API Key is your own API Key for the server if you defined one.**\n"
   ]
  },
  {
   "cell_type": "code",
   "execution_count": null,
   "metadata": {},
   "outputs": [],
   "source": [
    "import requests\n",
    "\n",
    "models = requests.get(\"http://localhost:8091/v1/models\")\n",
    "print(models.json())"
   ]
  },
  {
   "cell_type": "markdown",
   "metadata": {},
   "source": [
    "Install OpenAI\n"
   ]
  },
  {
   "cell_type": "code",
   "execution_count": null,
   "metadata": {},
   "outputs": [],
   "source": [
    "%pip install openai==0.28.1"
   ]
  },
  {
   "cell_type": "markdown",
   "metadata": {},
   "source": [
    "# Completion\n",
    "\n",
    "[OpenAI API Reference](https://platform.openai.com/docs/api-reference/completions/create)\n"
   ]
  },
  {
   "cell_type": "code",
   "execution_count": 16,
   "metadata": {},
   "outputs": [
    {
     "name": "stdout",
     "output_type": "stream",
     "text": [
      "{\n",
      "  \"id\": \"cmpl-59e8a65d-41a3-4d48-be8b-7a3c8fc36361\",\n",
      "  \"object\": \"text_completion\",\n",
      "  \"created\": 1705516910,\n",
      "  \"model\": \"Mistral-7B-OpenOrca\",\n",
      "  \"choices\": [\n",
      "    {\n",
      "      \"text\": \"Once upon a time, in a land far far away full of all kinds of magical creatures, there lived large and fantastic dragons who could breathe powerful fire.\\n\\nThe elders, giants renowned for their storytelling abilities, loved to remember the tale when the lands were full of life and joy unlike anything ever seen before. Long ago, the world had plenty of resources; oceans swarming with fish, mountains of precious stones, and meadows of wildflowers. But soon as these magical creatures started disappearing, others stepped into their habitat which changed the earth's balance forever but among all those creatures, DRAGONS always had a special place in human\\u2019s mind.\\n\\nAn enigmatic volcanic dragon named Malgoryst stood tall in an azure mountain valley surrounded by greenery as far as his mighty red and scaly eyes could see. He roamed the mountains freely, hunting for meat using nothing but his legendary nostrils and a silent fire breathing expertise. The rest of dragons used to live in harmony sharing nature\\u2019s bounties with humans, except for few misguided who became hoarders preaching Draconic philosophy that said all goods must only serve dragon's pleasure which gradually changed the dynamics among dragons with time. But our protagonist Malgoryst was a lone soul with his own philosophy who wished everybody would enjoy the earth's beauty in their own manner, living in harmony not chaos- much contrary to what the world perceived about Dragons then.\",\n",
      "      \"index\": 0,\n",
      "      \"logprobs\": null,\n",
      "      \"finish_reason\": \"stop\"\n",
      "    }\n",
      "  ],\n",
      "  \"usage\": {\n",
      "    \"prompt_tokens\": 63,\n",
      "    \"completion_tokens\": 326,\n",
      "    \"total_tokens\": 389\n",
      "  }\n",
      "}\n"
     ]
    }
   ],
   "source": [
    "import openai\n",
    "\n",
    "openai.api_base = \"http://localhost:8091/v1\"\n",
    "openai.api_key = \"\"\n",
    "prompt = \"Tell me a short story about dragons.\"\n",
    "\n",
    "response = openai.Completion.create(\n",
    "    model=\"Mistral-7B-OpenOrca\",\n",
    "    prompt=prompt,\n",
    "    temperature=1.31,\n",
    "    max_tokens=8192,\n",
    "    top_p=1.0,\n",
    "    n=1,\n",
    "    stream=False,\n",
    ")\n",
    "print(response)"
   ]
  },
  {
   "cell_type": "markdown",
   "metadata": {},
   "source": [
    "## Chat Completion\n",
    "\n",
    "[OpenAI API Reference](https://platform.openai.com/docs/api-reference/chat)\n"
   ]
  },
  {
   "cell_type": "code",
   "execution_count": 17,
   "metadata": {},
   "outputs": [
    {
     "name": "stdout",
     "output_type": "stream",
     "text": [
      "{\n",
      "  \"id\": \"cmpl-13bd0802-0175-49e9-9a5a-5eec0986c835\",\n",
      "  \"object\": \"text_completion\",\n",
      "  \"created\": 1705517135,\n",
      "  \"model\": \"Mistral-7B-OpenOrca\",\n",
      "  \"usage\": {\n",
      "    \"prompt_tokens\": 62,\n",
      "    \"completion_tokens\": 51,\n",
      "    \"total_tokens\": 113\n",
      "  },\n",
      "  \"messages\": [\n",
      "    {\n",
      "      \"role\": \"user\",\n",
      "      \"content\": \"What is the capital of Ohio?\"\n",
      "    },\n",
      "    {\n",
      "      \"role\": \"assistant\",\n",
      "      \"content\": \"The capital of Ohio is Columbus. It's where the state's legislative, executive, and judicial branch buildings are all located, along with offices for governmental entities on a state or federal level.\"\n",
      "    }\n",
      "  ]\n",
      "}\n"
     ]
    }
   ],
   "source": [
    "import openai\n",
    "\n",
    "openai.api_base = \"http://localhost:8091/v1\"\n",
    "openai.api_key = \"\"\n",
    "prompt = \"What is the capital of Ohio?\"\n",
    "messages = [{\"role\": \"system\", \"content\": prompt}]\n",
    "\n",
    "response = openai.ChatCompletion.create(\n",
    "    model=\"Mistral-7B-OpenOrca\",\n",
    "    messages=messages,\n",
    "    temperature=1.31,\n",
    "    max_tokens=8192,\n",
    "    top_p=1.0,\n",
    "    n=1,\n",
    "    stream=False,\n",
    ")\n",
    "print(response)"
   ]
  },
  {
   "cell_type": "markdown",
   "metadata": {},
   "source": [
    "## Embeddings\n",
    "\n",
    "[OpenAI API Reference](https://platform.openai.com/docs/api-reference/embeddings)\n",
    "\n",
    "The embeddings endpoint it currently uses is an ONNX embedder with 256 max tokens.\n"
   ]
  },
  {
   "cell_type": "code",
   "execution_count": null,
   "metadata": {},
   "outputs": [],
   "source": [
    "import openai\n",
    "\n",
    "openai.api_base = \"http://localhost:8091/v1\"\n",
    "openai.api_key = \"\"\n",
    "prompt = \"Columbus is the capital of Ohio.\"\n",
    "\n",
    "response = openai.Embedding.create(\n",
    "    input=prompt,\n",
    "    engine=\"Mistral-7B-OpenOrca\",\n",
    ")\n",
    "\n",
    "print(response)"
   ]
  }
 ],
 "metadata": {
  "kernelspec": {
   "display_name": "Python 3",
   "language": "python",
   "name": "python3"
  },
  "language_info": {
   "codemirror_mode": {
    "name": "ipython",
    "version": 3
   },
   "file_extension": ".py",
   "mimetype": "text/x-python",
   "name": "python",
   "nbconvert_exporter": "python",
   "pygments_lexer": "ipython3",
   "version": "3.10.12"
  },
  "orig_nbformat": 4
 },
 "nbformat": 4,
 "nbformat_minor": 2
}
