{
 "cells": [
  {
   "cell_type": "markdown",
   "id": "902eac3a",
   "metadata": {},
   "source": [
    "# Import and Problem Visualization"
   ]
  },
  {
   "cell_type": "code",
   "execution_count": null,
   "id": "51ddbd1f",
   "metadata": {},
   "outputs": [],
   "source": [
    "from mqt.problemsolver.csp import CSP\n",
    "\n",
    "csp = CSP()\n",
    "csp.print_problem()"
   ]
  },
  {
   "cell_type": "markdown",
   "id": "d82d8ae3",
   "metadata": {},
   "source": [
    "# Definition of Problem Instance"
   ]
  },
  {
   "cell_type": "code",
   "execution_count": null,
   "id": "85392fc9",
   "metadata": {},
   "outputs": [],
   "source": [
    "sum_s0 = 3\n",
    "sum_s1 = 5\n",
    "sum_s2 = 3\n",
    "sum_s3 = 5"
   ]
  },
  {
   "cell_type": "markdown",
   "id": "207c8a93",
   "metadata": {},
   "source": [
    "# Create List of Constraints"
   ]
  },
  {
   "cell_type": "code",
   "execution_count": null,
   "id": "e30de0b3",
   "metadata": {},
   "outputs": [],
   "source": [
    "list_of_constraints = csp.get_kakuro_constraints(sum_s0=sum_s0, sum_s1=sum_s1, sum_s2=sum_s2, sum_s3=sum_s3)\n",
    "list_of_constraints"
   ]
  },
  {
   "cell_type": "markdown",
   "id": "ce718f3a",
   "metadata": {},
   "source": [
    "# Get available quantum algorithms"
   ]
  },
  {
   "cell_type": "code",
   "execution_count": null,
   "id": "1a518ef9",
   "metadata": {},
   "outputs": [],
   "source": [
    "available_quantum_algorithms = csp.get_available_quantum_algorithms()\n",
    "available_quantum_algorithms"
   ]
  },
  {
   "cell_type": "markdown",
   "id": "3e1ae22f",
   "metadata": {},
   "source": [
    "# Solve the problem accordingly"
   ]
  },
  {
   "cell_type": "code",
   "execution_count": null,
   "id": "4ab0a958",
   "metadata": {},
   "outputs": [],
   "source": [
    "for algo in available_quantum_algorithms:\n",
    "    print(\"Algorithm: \", algo)\n",
    "    res = csp.solve(constraints=list_of_constraints, quantum_algorithm=\"Grover\")\n",
    "    print(\"Solution: \", res)"
   ]
  },
  {
   "cell_type": "markdown",
   "id": "cdab1686",
   "metadata": {},
   "source": [
    "# Visualize solution"
   ]
  },
  {
   "cell_type": "code",
   "execution_count": null,
   "id": "63237a51",
   "metadata": {},
   "outputs": [],
   "source": [
    "csp.print_problem(sum_s0=sum_s0, sum_s1=sum_s1, sum_s2=sum_s2, sum_s3=sum_s3, a=res[0], b=res[1], c=res[2], d=res[3])"
   ]
  }
 ],
 "metadata": {
  "kernelspec": {
   "display_name": "Python 3 (ipykernel)",
   "language": "python",
   "name": "python3"
  },
  "language_info": {
   "codemirror_mode": {
    "name": "ipython",
    "version": 3
   },
   "file_extension": ".py",
   "mimetype": "text/x-python",
   "name": "python",
   "nbconvert_exporter": "python",
   "pygments_lexer": "ipython3"
  }
 },
 "nbformat": 4,
 "nbformat_minor": 5
}
