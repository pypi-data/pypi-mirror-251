{
 "cells": [
  {
   "cell_type": "code",
   "execution_count": null,
   "id": "5feb609a",
   "metadata": {},
   "outputs": [],
   "source": [
    "import numpy as np\n",
    "from qiskit import ClassicalRegister, QuantumCircuit, QuantumRegister, execute\n",
    "from qiskit.algorithms import Grover\n",
    "\n",
    "num_iterations = Grover.optimal_num_iterations(2, 4)\n",
    "a = QuantumRegister(1, \"a\")\n",
    "b = QuantumRegister(1, \"b\")\n",
    "c = QuantumRegister(1, \"c\")\n",
    "d = QuantumRegister(1, \"d\")\n",
    "flag = QuantumRegister(1, \"flag\")\n",
    "creg_c = ClassicalRegister(4, \"classical\")\n",
    "circuit = QuantumCircuit(a, b, c, d, flag, creg_c)\n",
    "\n",
    "circuit.h(a)\n",
    "circuit.h(b)\n",
    "circuit.h(c)\n",
    "circuit.h(d)\n",
    "circuit.x(flag)\n",
    "circuit.barrier(a, b, c, d, flag)\n",
    "for _i in range(2):\n",
    "    circuit.cx(d, c)\n",
    "    circuit.cx(b, d)\n",
    "    circuit.cx(a, b)\n",
    "    circuit.mcp(np.pi, [b, c, d], flag)\n",
    "    circuit.cx(a, b)\n",
    "    circuit.cx(b, d)\n",
    "    circuit.cx(d, c)\n",
    "    circuit.barrier(a, b, c, d)\n",
    "    circuit.h(a)\n",
    "    circuit.h(b)\n",
    "    circuit.h(c)\n",
    "    circuit.h(d)\n",
    "    circuit.x(d)\n",
    "    circuit.x(a)\n",
    "    circuit.x(b)\n",
    "    circuit.x(c)\n",
    "    circuit.mcp(np.pi, [a, b, c], d)\n",
    "    circuit.x(d)\n",
    "    circuit.x(c)\n",
    "    circuit.x(b)\n",
    "    circuit.x(a)\n",
    "    circuit.h(d)\n",
    "    circuit.h(c)\n",
    "    circuit.h(b)\n",
    "    circuit.h(a)\n",
    "    circuit.barrier(a, b, c, d)\n",
    "\n",
    "circuit.measure(a, creg_c[0])\n",
    "circuit.measure(b, creg_c[1])\n",
    "circuit.measure(c, creg_c[2])\n",
    "circuit.measure(d, creg_c[3])\n",
    "circuit.draw(output=\"mpl\", fold=-1)"
   ]
  },
  {
   "cell_type": "code",
   "execution_count": null,
   "id": "2c87af7c",
   "metadata": {},
   "outputs": [],
   "source": [
    "from mqt import ddsim\n",
    "\n",
    "backend = ddsim.DDSIMProvider().get_backend(\"qasm_simulator\")\n",
    "job = execute(circuit, backend, shots=10000000)\n",
    "counts = job.result().get_counts(circuit)"
   ]
  },
  {
   "cell_type": "code",
   "execution_count": null,
   "id": "45c3771d",
   "metadata": {},
   "outputs": [],
   "source": [
    "from qiskit.visualization import plot_histogram\n",
    "\n",
    "plot_histogram(counts, color=\"midnightblue\", title=\"Histogram\", figsize=(10, 5))"
   ]
  },
  {
   "cell_type": "code",
   "execution_count": null,
   "id": "a053b624",
   "metadata": {},
   "outputs": [],
   "source": [
    "iterations = Grover.optimal_num_iterations(num_solutions=2, num_qubits=4)\n",
    "iterations"
   ]
  }
 ],
 "metadata": {
  "kernelspec": {
   "display_name": "Python 3 (ipykernel)",
   "language": "python",
   "name": "python3"
  },
  "language_info": {
   "codemirror_mode": {
    "name": "ipython",
    "version": 3
   },
   "file_extension": ".py",
   "mimetype": "text/x-python",
   "name": "python",
   "nbconvert_exporter": "python",
   "pygments_lexer": "ipython3"
  }
 },
 "nbformat": 4,
 "nbformat_minor": 5
}
