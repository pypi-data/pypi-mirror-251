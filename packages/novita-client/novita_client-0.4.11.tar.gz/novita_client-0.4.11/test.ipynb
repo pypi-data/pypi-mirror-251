{
 "cells": [
  {
   "cell_type": "code",
   "execution_count": 3,
   "metadata": {},
   "outputs": [
    {
     "name": "stdout",
     "output_type": "stream",
     "text": [
      "Looking in indexes: https://pypi.org/simple, https://pypi.ngc.nvidia.com\n",
      "Requirement already satisfied: novita-client in ./.venv/lib/python3.11/site-packages (0.4.10)\n",
      "Requirement already satisfied: dataclass-wizard>=0.22.2 in ./.venv/lib/python3.11/site-packages (from novita-client) (0.22.2)\n",
      "Requirement already satisfied: requests>=2.27.1 in ./.venv/lib/python3.11/site-packages (from novita-client) (2.31.0)\n",
      "Requirement already satisfied: charset-normalizer<4,>=2 in ./.venv/lib/python3.11/site-packages (from requests>=2.27.1->novita-client) (3.2.0)\n",
      "Requirement already satisfied: idna<4,>=2.5 in ./.venv/lib/python3.11/site-packages (from requests>=2.27.1->novita-client) (3.4)\n",
      "Requirement already satisfied: urllib3<3,>=1.21.1 in ./.venv/lib/python3.11/site-packages (from requests>=2.27.1->novita-client) (2.0.4)\n",
      "Requirement already satisfied: certifi>=2017.4.17 in ./.venv/lib/python3.11/site-packages (from requests>=2.27.1->novita-client) (2023.7.22)\n"
     ]
    }
   ],
   "source": [
    "!pip install novita-client --upgrade"
   ]
  },
  {
   "cell_type": "code",
   "execution_count": 3,
   "metadata": {},
   "outputs": [],
   "source": [
    "import requests\n",
    "import io\n",
    "from PIL import Image\n",
    "\n",
    "from novita_client import NovitaClient, FACE_TRAINING_DEFAULT_COMPONENTS, Txt2ImgRequest, ADEtailer, Samplers"
   ]
  },
  {
   "cell_type": "code",
   "execution_count": 4,
   "metadata": {},
   "outputs": [],
   "source": [
    "novita_client = NovitaClient(api_key=\"650YpEeEBF2H88Z88idG6ZWvWiU2eVG6\") # get api key from https://novita.ai"
   ]
  },
  {
   "cell_type": "code",
   "execution_count": 5,
   "metadata": {},
   "outputs": [],
   "source": [
    "def load_image(image_url):\n",
    "    response = requests.get(image_url)\n",
    "    img = Image.open(io.BytesIO(response.content))\n",
    "    return img\n",
    "\n",
    "\n",
    "def make_image_grid(images, rows: int, cols: int, resize: int = None):\n",
    "    \"\"\"\n",
    "    Prepares a single grid of images. Useful for visualization purposes.\n",
    "    \"\"\"\n",
    "    assert len(images) == rows * cols\n",
    "\n",
    "    if resize is not None:\n",
    "        images = [img.resize((resize, resize)) for img in images]\n",
    "\n",
    "    w, h = images[0].size\n",
    "    grid = Image.new(\"RGB\", size=(cols * w, rows * h))\n",
    "\n",
    "    for i, img in enumerate(images):\n",
    "        grid.paste(img, box=(i % cols * w, i // cols * h))\n",
    "    return grid\n",
    "\n"
   ]
  },
  {
   "cell_type": "code",
   "execution_count": 7,
   "metadata": {},
   "outputs": [],
   "source": [
    "man_images_urls = [\n",
    "  \"https://github.com/novitalabs/python-sdk/assets/16937838/d5bd9408-f00f-40af-9ab9-a08d9e3bab4c\",\n",
    "  \"https://github.com/novitalabs/python-sdk/assets/16937838/de917152-0da9-45e7-b739-39fe0846533c\",\n",
    "  \"https://github.com/novitalabs/python-sdk/assets/16937838/d54450f5-0b2b-4660-8c28-a46d07d63116\",\n",
    "  \"https://github.com/novitalabs/python-sdk/assets/16937838/d9be4198-ee4c-438e-829b-fd64d8f7c0fc\",\n",
    "  \"https://github.com/novitalabs/python-sdk/assets/16937838/f957cdff-c7cb-43a2-974b-b34f8b75b991\",\n",
    "  \"https://github.com/novitalabs/python-sdk/assets/16937838/5605e479-0834-4394-9e86-96dd95d5345e\",\n",
    "  \"https://github.com/novitalabs/python-sdk/assets/16937838/617c7767-3e9a-4f02-bfc0-e5abd0e95847\",\n",
    "  \"https://github.com/novitalabs/python-sdk/assets/16937838/a9e388f9-90b5-42fc-aab0-fdbe72fc9072\",\n",
    "  \"https://github.com/novitalabs/python-sdk/assets/16937838/9a1a2182-9bfe-49ae-bb9f-2fea5dbbc33a\",\n",
    "  \"https://github.com/novitalabs/python-sdk/assets/16937838/adef6547-82d7-4ee2-9f85-129a927cc5c7\",\n",
    "  \"https://github.com/novitalabs/python-sdk/assets/16937838/08587977-1ca6-474d-90c0-5feeb955c8f1\",\n",
    "  \"https://github.com/novitalabs/python-sdk/assets/16937838/84e34e7d-4603-4191-9943-2f02ae5d8f93\"\n",
    "]\n",
    "\n",
    "\n",
    "man_images = []\n",
    "\n",
    "for image_url in man_images_urls:\n",
    "    man_images.append(load_image(image_url))"
   ]
  },
  {
   "cell_type": "code",
   "execution_count": 8,
   "metadata": {},
   "outputs": [],
   "source": [
    "make_image_grid(man_images, 3, 4, None)"
   ]
  },
  {
   "cell_type": "code",
   "execution_count": 8,
   "metadata": {},
   "outputs": [
    {
     "ename": "NameError",
     "evalue": "name 'man_images' is not defined",
     "output_type": "error",
     "traceback": [
      "\u001b[0;31m---------------------------------------------------------------------------\u001b[0m",
      "\u001b[0;31mNameError\u001b[0m                                 Traceback (most recent call last)",
      "\u001b[0;32m/tmp/ipykernel_4419/1417106938.py\u001b[0m in \u001b[0;36m<cell line: 0>\u001b[0;34m()\u001b[0m\n\u001b[1;32m      1\u001b[0m train_task_id = novita_client.create_training_subject(name=\"whiteman101\", \n\u001b[1;32m      2\u001b[0m                                       \u001b[0mbase_model\u001b[0m\u001b[0;34m=\u001b[0m\u001b[0;34m\"epicrealism_naturalSin_121250\"\u001b[0m\u001b[0;34m,\u001b[0m\u001b[0;34m\u001b[0m\u001b[0;34m\u001b[0m\u001b[0m\n\u001b[0;32m----> 3\u001b[0;31m                                       \u001b[0mimages\u001b[0m\u001b[0;34m=\u001b[0m\u001b[0mman_images\u001b[0m\u001b[0;34m,\u001b[0m\u001b[0;34m\u001b[0m\u001b[0;34m\u001b[0m\u001b[0m\n\u001b[0m\u001b[1;32m      4\u001b[0m                                       \u001b[0minstance_prompt\u001b[0m\u001b[0;34m=\u001b[0m\u001b[0;34m\"a closeup photo of ohwx person\"\u001b[0m\u001b[0;34m,\u001b[0m\u001b[0;34m\u001b[0m\u001b[0;34m\u001b[0m\u001b[0m\n\u001b[1;32m      5\u001b[0m                                       \u001b[0mclass_prompt\u001b[0m\u001b[0;34m=\u001b[0m\u001b[0;34m\"person\"\u001b[0m\u001b[0;34m,\u001b[0m\u001b[0;34m\u001b[0m\u001b[0;34m\u001b[0m\u001b[0m\n",
      "\u001b[0;31mNameError\u001b[0m: name 'man_images' is not defined"
     ]
    }
   ],
   "source": [
    "train_task_id = novita_client.create_training_subject(name=\"whiteman101\", \n",
    "                                      base_model=\"epicrealism_naturalSin_121250\", \n",
    "                                      images=man_images, \n",
    "                                      instance_prompt=\"a closeup photo of ohwx person\", \n",
    "                                      class_prompt=\"person\", \n",
    "                                      max_train_steps=2000, \n",
    "                                      components=FACE_TRAINING_DEFAULT_COMPONENTS,\n",
    "                                      learning_rate=3e-4,\n",
    "                                      seed=None,\n",
    "                                      lr_scheduler='cosine_with_restarts',\n",
    "                                      with_prior_preservation=True,\n",
    "                                      prior_loss_weight=1.0,\n",
    "                                      width=512,\n",
    "                                      height=512,\n",
    "                                      lora_r=32,\n",
    "                                      lora_alpha=32,\n",
    "                                      lora_text_encoder_r=32,\n",
    "                                      lora_text_encoder_alpha=32)"
   ]
  },
  {
   "cell_type": "code",
   "execution_count": 7,
   "metadata": {},
   "outputs": [
    {
     "ename": "NameError",
     "evalue": "name 'train_task_id' is not defined",
     "output_type": "error",
     "traceback": [
      "\u001b[0;31m---------------------------------------------------------------------------\u001b[0m",
      "\u001b[0;31mNameError\u001b[0m                                 Traceback (most recent call last)",
      "\u001b[0;32m/tmp/ipykernel_4419/2483395176.py\u001b[0m in \u001b[0;36m<cell line: 0>\u001b[0;34m()\u001b[0m\n\u001b[1;32m      2\u001b[0m \u001b[0mtrain_model_name\u001b[0m \u001b[0;34m=\u001b[0m \u001b[0;32mNone\u001b[0m\u001b[0;34m\u001b[0m\u001b[0;34m\u001b[0m\u001b[0m\n\u001b[1;32m      3\u001b[0m \u001b[0;32mwhile\u001b[0m \u001b[0;32mTrue\u001b[0m\u001b[0;34m:\u001b[0m\u001b[0;34m\u001b[0m\u001b[0;34m\u001b[0m\u001b[0m\n\u001b[0;32m----> 4\u001b[0;31m     \u001b[0mtrain_task_status\u001b[0m \u001b[0;34m=\u001b[0m \u001b[0mnovita_client\u001b[0m\u001b[0;34m.\u001b[0m\u001b[0mquery_training_subject_status\u001b[0m\u001b[0;34m(\u001b[0m\u001b[0mtrain_task_id\u001b[0m\u001b[0;34m)\u001b[0m\u001b[0;34m\u001b[0m\u001b[0;34m\u001b[0m\u001b[0m\n\u001b[0m\u001b[1;32m      5\u001b[0m     \u001b[0;32mif\u001b[0m \u001b[0mtrain_task_status\u001b[0m\u001b[0;34m.\u001b[0m\u001b[0mtask_status\u001b[0m \u001b[0;34m==\u001b[0m \u001b[0;34m\"TRAINING\"\u001b[0m \u001b[0;32mor\u001b[0m \u001b[0mtrain_task_status\u001b[0m\u001b[0;34m.\u001b[0m\u001b[0mtask_status\u001b[0m \u001b[0;34m==\u001b[0m \u001b[0;34m\"QUEUING\"\u001b[0m\u001b[0;34m:\u001b[0m\u001b[0;34m\u001b[0m\u001b[0;34m\u001b[0m\u001b[0m\n\u001b[1;32m      6\u001b[0m         \u001b[0mprint\u001b[0m\u001b[0;34m(\u001b[0m\u001b[0;34m\"Training in progress...\"\u001b[0m\u001b[0;34m)\u001b[0m\u001b[0;34m\u001b[0m\u001b[0;34m\u001b[0m\u001b[0m\n",
      "\u001b[0;31mNameError\u001b[0m: name 'train_task_id' is not defined"
     ]
    }
   ],
   "source": [
    "import time \n",
    "train_model_name = None\n",
    "while True:\n",
    "    train_task_status = novita_client.query_training_subject_status(train_task_id)\n",
    "    if train_task_status.task_status == \"TRAINING\" or train_task_status.task_status == \"QUEUING\":\n",
    "        print(\"Training in progress...\")\n",
    "        time.sleep(30)\n",
    "    elif train_task_status.task_status == \"SUCCESS\":\n",
    "        train_model_name = train_task_status.models[0].model_name\n",
    "        print(f\"Training completed successfully! Model id: {train_task_status.models[0].model_name}\")\n",
    "        break\n",
    "    elif train_task_status.task_status == \"FAILED\":\n",
    "        print(\"Training failed!\")\n",
    "        break\n",
    "    else:\n",
    "        print(f\"Unknown training status: {train_task_status.task_status}\")\n",
    "        break\n",
    "\n",
    "train_model_name = train_model_name.replace(\".safetensors\", \"\")"
   ]
  },
  {
   "cell_type": "code",
   "execution_count": 6,
   "metadata": {},
   "outputs": [
    {
     "ename": "NameError",
     "evalue": "name 'train_model_name' is not defined",
     "output_type": "error",
     "traceback": [
      "\u001b[0;31m---------------------------------------------------------------------------\u001b[0m",
      "\u001b[0;31mNameError\u001b[0m                                 Traceback (most recent call last)",
      "\u001b[0;32m/tmp/ipykernel_4419/1126643285.py\u001b[0m in \u001b[0;36m<cell line: 0>\u001b[0;34m()\u001b[0m\n\u001b[1;32m      7\u001b[0m   Txt2ImgRequest(\n\u001b[1;32m      8\u001b[0m     \u001b[0;31m# prompt=f\"a photo of ohwx man, handsome, <lora:{train_model_name}:{first_stage_lora_scale}>\",\u001b[0m\u001b[0;34m\u001b[0m\u001b[0;34m\u001b[0m\u001b[0m\n\u001b[0;32m----> 9\u001b[0;31m     \u001b[0mprompt\u001b[0m\u001b[0;34m=\u001b[0m\u001b[0;34mf\"a photo of ohwx man,  <lora:{train_model_name}:{first_stage_lora_scale}>, (extremely intricate:1.3), (realistic), portrait of a person, the most handsome in the world, (medieval armor), metal reflections, upper body, outdoors, intense sunlight, far away castle, professional photograph of a stunning person detailed, sharp focus, dramatic, award winning, cinematic lighting, octane render unreal engine, volumetrics dtx, (film grain, blurry background, blurry foreground, bokeh, depth of field, sunset, motion blur:1.3), chainmail\"\u001b[0m\u001b[0;34m,\u001b[0m\u001b[0;34m\u001b[0m\u001b[0;34m\u001b[0m\u001b[0m\n\u001b[0m\u001b[1;32m     10\u001b[0m     \u001b[0msampler_name\u001b[0m\u001b[0;34m=\u001b[0m\u001b[0mSamplers\u001b[0m\u001b[0;34m.\u001b[0m\u001b[0mDPMPP_M_KARRAS\u001b[0m\u001b[0;34m,\u001b[0m\u001b[0;34m\u001b[0m\u001b[0;34m\u001b[0m\u001b[0m\n\u001b[1;32m     11\u001b[0m     \u001b[0mmodel_name\u001b[0m\u001b[0;34m=\u001b[0m\u001b[0;34m\"epicrealism_pureEvolutionV5_97793.safetensors\"\u001b[0m\u001b[0;34m,\u001b[0m\u001b[0;34m\u001b[0m\u001b[0;34m\u001b[0m\u001b[0m\n",
      "\u001b[0;31mNameError\u001b[0m: name 'train_model_name' is not defined"
     ]
    }
   ],
   "source": [
    "first_stage_lora_scale = 0.5\n",
    "\n",
    "second_stage_lora_scale = 1.0\n",
    "second_stage_strength = 0.55\n",
    "\n",
    "txt2img_res = novita_client.sync_txt2img(\n",
    "  Txt2ImgRequest(\n",
    "    # prompt=f\"a photo of ohwx man, handsome, <lora:{train_model_name}:{first_stage_lora_scale}>\",\n",
    "    prompt=f\"a photo of ohwx man,  <lora:{train_model_name}:{first_stage_lora_scale}>, (extremely intricate:1.3), (realistic), portrait of a person, the most handsome in the world, (medieval armor), metal reflections, upper body, outdoors, intense sunlight, far away castle, professional photograph of a stunning person detailed, sharp focus, dramatic, award winning, cinematic lighting, octane render unreal engine, volumetrics dtx, (film grain, blurry background, blurry foreground, bokeh, depth of field, sunset, motion blur:1.3), chainmail\",\n",
    "    sampler_name=Samplers.DPMPP_M_KARRAS,\n",
    "    model_name=\"epicrealism_pureEvolutionV5_97793.safetensors\",\n",
    "    height=768,\n",
    "    width=512,\n",
    "    steps=20,\n",
    "    batch_size=4,\n",
    "    # hr_upscaler='Latent',\n",
    "    # enable_hr=True,\n",
    "    adetailer=ADEtailer(\n",
    "      prompt=f\"a closeup photo of ohwx man, masterpiece, <lora:{train_model_name}:{second_stage_lora_scale}>\",\n",
    "      steps=20,\n",
    "      strength=second_stage_strength)\n",
    "    )\n",
    ")"
   ]
  },
  {
   "cell_type": "code",
   "execution_count": null,
   "metadata": {},
   "outputs": [
    {
     "ename": "NameError",
     "evalue": "name 'txt2img_res' is not defined",
     "output_type": "error",
     "traceback": [
      "\u001b[0;31m---------------------------------------------------------------------------\u001b[0m",
      "\u001b[0;31mNameError\u001b[0m                                 Traceback (most recent call last)",
      "\u001b[0;32m/tmp/ipykernel_152931/1188988146.py\u001b[0m in \u001b[0;36m<cell line: 0>\u001b[0;34m()\u001b[0m\n\u001b[1;32m      1\u001b[0m \u001b[0mres_images\u001b[0m \u001b[0;34m=\u001b[0m \u001b[0;34m[\u001b[0m\u001b[0;34m]\u001b[0m\u001b[0;34m\u001b[0m\u001b[0;34m\u001b[0m\u001b[0m\n\u001b[1;32m      2\u001b[0m \u001b[0;34m\u001b[0m\u001b[0m\n\u001b[0;32m----> 3\u001b[0;31m \u001b[0;32mfor\u001b[0m \u001b[0mimg_bytes\u001b[0m \u001b[0;32min\u001b[0m \u001b[0mtxt2img_res\u001b[0m\u001b[0;34m.\u001b[0m\u001b[0mdata\u001b[0m\u001b[0;34m.\u001b[0m\u001b[0mimgs_bytes\u001b[0m\u001b[0;34m:\u001b[0m\u001b[0;34m\u001b[0m\u001b[0;34m\u001b[0m\u001b[0m\n\u001b[0m\u001b[1;32m      4\u001b[0m     \u001b[0mres_images\u001b[0m\u001b[0;34m.\u001b[0m\u001b[0mappend\u001b[0m\u001b[0;34m(\u001b[0m\u001b[0mImage\u001b[0m\u001b[0;34m.\u001b[0m\u001b[0mopen\u001b[0m\u001b[0;34m(\u001b[0m\u001b[0mio\u001b[0m\u001b[0;34m.\u001b[0m\u001b[0mBytesIO\u001b[0m\u001b[0;34m(\u001b[0m\u001b[0mimg_bytes\u001b[0m\u001b[0;34m)\u001b[0m\u001b[0;34m)\u001b[0m\u001b[0;34m)\u001b[0m\u001b[0;34m\u001b[0m\u001b[0;34m\u001b[0m\u001b[0m\n\u001b[1;32m      5\u001b[0m \u001b[0;34m\u001b[0m\u001b[0m\n",
      "\u001b[0;31mNameError\u001b[0m: name 'txt2img_res' is not defined"
     ]
    }
   ],
   "source": [
    "res_images = []\n",
    "\n",
    "for img_bytes in txt2img_res.data.imgs_bytes:\n",
    "    res_images.append(Image.open(io.BytesIO(img_bytes)))\n",
    "\n",
    "make_image_grid(res_images, 1, 4)\n"
   ]
  },
  {
   "cell_type": "code",
   "execution_count": null,
   "metadata": {},
   "outputs": [],
   "source": []
  }
 ],
 "metadata": {
  "kernelspec": {
   "display_name": ".venv",
   "language": "python",
   "name": "python3"
  },
  "language_info": {
   "codemirror_mode": {
    "name": "ipython",
    "version": 3
   },
   "file_extension": ".py",
   "mimetype": "text/x-python",
   "name": "python",
   "nbconvert_exporter": "python",
   "pygments_lexer": "ipython3",
   "version": "3.11.6"
  }
 },
 "nbformat": 4,
 "nbformat_minor": 2
}
