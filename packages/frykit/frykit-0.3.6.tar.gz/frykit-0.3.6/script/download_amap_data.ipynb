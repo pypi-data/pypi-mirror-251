{
 "cells": [
  {
   "cell_type": "markdown",
   "metadata": {},
   "source": [
    "下载高德地图行政区划数据，制作 shapefile 文件。"
   ]
  },
  {
   "cell_type": "code",
   "execution_count": null,
   "metadata": {},
   "outputs": [],
   "source": [
    "import json\n",
    "from io import StringIO\n",
    "\n",
    "import requests\n",
    "import shapefile\n",
    "import shapely.geometry as sgeom\n",
    "from shapely.ops import unary_union\n",
    "import numpy as np\n",
    "from frykit import DATA_DIRPATH"
   ]
  },
  {
   "cell_type": "markdown",
   "metadata": {},
   "source": [
    "高德 web API 查询行政区域：[https://lbs.amap.com/api/webservice/guide/api/district](https://lbs.amap.com/api/webservice/guide/api/district)\n",
    "\n",
    "按入门指南注册并申请密钥（key），拼接 HTTP 请求的 URL，接收并解析返回的数据。"
   ]
  },
  {
   "cell_type": "code",
   "execution_count": null,
   "metadata": {},
   "outputs": [],
   "source": [
    "key = '1145141919810'"
   ]
  },
  {
   "cell_type": "markdown",
   "metadata": {},
   "source": [
    "特殊省名指这些省的子一级（即市级）就是它们自身。"
   ]
  },
  {
   "cell_type": "code",
   "execution_count": null,
   "metadata": {},
   "outputs": [],
   "source": [
    "province_names = ['北京市', '天津市', '河北省', '山西省', '内蒙古自治区', '辽宁省', '吉林省', '黑龙江省', '上海市', '江苏省', '浙江省', '安徽省', '福建省', '江西省', '山东省', '河南省', '湖北省', '湖南省', '广东省', '广西壮族自治区', '海南省', '重庆市', '四川省', '贵州省', '云南省', '西藏自治区', '陕西省', '甘肃省', '青海省', '宁夏回族自治区', '新疆维吾尔自治区', '台湾省', '香港特别行政区', '澳门特别行政区']\n",
    "special_province_names = ['北京市', '天津市', '上海市', '重庆市', '台湾省', '香港特别行政区', '澳门特别行政区']\n",
    "len(province_names), len(special_province_names)"
   ]
  },
  {
   "cell_type": "markdown",
   "metadata": {},
   "source": [
    "根据省名收集市名和 adcode。\n",
    "\n",
    "收集方法是在 URL 里加入 `subdistrict=1` 以返回子区划，认为子区划就算是市级。\n",
    "\n",
    "高德文档里的相关下载一栏可以下载到城市编码表，一开始的想法是根据表中 adcode 最后两位不为 00 来找出所有市。但这样会遗漏掉直辖县之类的区划，导致最后凑不出完整的中国地图。所以最后采用了上一段的方法。"
   ]
  },
  {
   "cell_type": "code",
   "execution_count": null,
   "metadata": {},
   "outputs": [],
   "source": [
    "province_records = []\n",
    "city_records = []\n",
    "for province_name in province_names:\n",
    "    url = f'https://restapi.amap.com/v3/config/district?key={key}&keywords={province_name}&subdistrict=1'\n",
    "    response = requests.get(url)\n",
    "    content = json.loads(response.content.decode())\n",
    "    province_district = content['districts'][0]\n",
    "    province_adcode = int(province_district['adcode'])\n",
    "    province_records.append({\n",
    "        'pr_name': province_name,\n",
    "        'pr_adcode': province_adcode\n",
    "    })\n",
    "\n",
    "    if province_name in special_province_names:\n",
    "        city_records.append({\n",
    "            'ct_name': province_name,\n",
    "            'ct_adcode': province_adcode,\n",
    "            'pr_name': province_name,\n",
    "            'pr_adcode': province_adcode\n",
    "        })\n",
    "        continue\n",
    "\n",
    "    for district_data in province_district['districts']:\n",
    "        city_district = district_data\n",
    "        city_records.append({\n",
    "            'ct_name': city_district['name'],\n",
    "            'ct_adcode': int(city_district['adcode']),\n",
    "            'pr_name': province_name,\n",
    "            'pr_adcode': province_adcode\n",
    "        })"
   ]
  },
  {
   "cell_type": "code",
   "execution_count": null,
   "metadata": {},
   "outputs": [],
   "source": [
    "def create_prj_file(filepath):\n",
    "    '''制作prj文件.'''\n",
    "    wkt = 'GEOGCS[\"WGS84\",DATUM[\"WGS_1984\",SPHEROID[\"WGS 84\",6378137,298.257223563]],PRIMEM[\"Greenwich\",0],UNIT[\"degree\",0.017453292519943295]]'\n",
    "    with open(str(filepath), 'w', encoding='utf-8') as f:\n",
    "        f.write(wkt)"
   ]
  },
  {
   "cell_type": "code",
   "execution_count": null,
   "metadata": {},
   "outputs": [],
   "source": [
    "def polyline_to_coordinates(polyline):\n",
    "    '''polyline字符串转为一组多边形的坐标序列.'''\n",
    "    return [\n",
    "         np.loadtxt(StringIO(part), delimiter=',').tolist()\n",
    "         for part in polyline.replace(';', '\\n').split('|')\n",
    "    ]"
   ]
  },
  {
   "cell_type": "code",
   "execution_count": null,
   "metadata": {},
   "outputs": [],
   "source": [
    "def polygon_to_coordinates(polygon):\n",
    "    '''多边形对象转为shapefile适用的坐标序列.'''\n",
    "    coordinates = []\n",
    "    for polygon in getattr(polygon, 'geoms', [polygon]):\n",
    "        for ring in [polygon.exterior, *polygon.interiors]:\n",
    "            coordinates.append(ring.coords[:])\n",
    "\n",
    "    return coordinates"
   ]
  },
  {
   "cell_type": "markdown",
   "metadata": {},
   "source": [
    "`polyline` 用字符串表示多边形坐标序列。不同多边形用 `|` 分隔，不同点用 `;` 分割，xy 用 `,` 分隔。多边形环的绕行方向都是顺时针，那么问题来了，怎么判断多边形的洞，怎么判断 `MultiPolygon` 呢？\n",
    "\n",
    "测试后大致发现，`polyline` 里不是用单独的多边形表示洞，而是将带洞的多边形切成两个独立的多边形，当这两个多边形拼在一起时，就会凑出一个洞。类似下图的效果。因此这里的策略是直接合并 `polyline` 里的所有多边形。\n",
    "\n",
    "关于多边形绕行方向：\n",
    "\n",
    "- shapely 里构造 `Polygon` 时方向无所谓，因为已经通过 `shell` 和 `holes` 参数明确指定了外环和内环。但经过运算后会变成外环顺时针内环逆时针。\n",
    "- Shapefile 要求外环顺时针，内环逆时针；GeoJSON 要求外环逆时针，内环顺时针，不过并不强制。\n",
    "- PyShp 的 `__geo_interface__` 接口能将 shapefile 转为 GeoJSON，但除了 2.2.0 版本外不会改变底层数据的绕行方向。\n",
    "- `sgeom.shape` 会用到 `__geo_interface__` 接口。\n",
    "- `mpath.Path` 要求内外环方向不一致即可。\n",
    "\n",
    "总结：用 shapely 和 PyShp 处理全为顺时针的 `polyline` 数据，最后能得到外环顺时针，内环逆时针的 shapefile 文件。后续用于 Matplotlib 时能区分出洞。"
   ]
  },
  {
   "cell_type": "code",
   "execution_count": null,
   "metadata": {},
   "outputs": [],
   "source": [
    "geom1 = sgeom.Polygon([(0, 0), (0, 3), (3, 3), (3, 2), (1, 2), (1, 1), (3, 1), (3, 0), (0, 0)])\n",
    "geom2 = sgeom.Polygon([(2, 1), (2, 2), (3, 2), (3, 1), (2, 1)])\n",
    "unary_union([geom1, geom2])"
   ]
  },
  {
   "cell_type": "markdown",
   "metadata": {},
   "source": [
    "获取区划坐标需要在 URL 中加入 `extensions=all`。\n",
    "\n",
    "某些省市存在飞地，会出现子多边形相隔很远的 `MultiPolygon`（例如天津市）。"
   ]
  },
  {
   "cell_type": "code",
   "execution_count": null,
   "metadata": {},
   "outputs": [],
   "source": [
    "shp_dirpath = DATA_DIRPATH / 'shp'\n",
    "border_filepath = shp_dirpath / 'cn_border.shp'\n",
    "create_prj_file(shp_dirpath / f'{border_filepath.stem}.prj')\n",
    "with shapefile.Writer(str(border_filepath), shapeType=5) as writer:\n",
    "    writer.fields = [['cn_name', 'C', 80, 0], ['cn_adcode', 'N', 6, 0]]\n",
    "    url = f'https://restapi.amap.com/v3/config/district?key={key}&keywords=100000&subdistrict=0&extensions=all'\n",
    "    response = requests.get(url)\n",
    "    content = json.loads(response.content.decode())\n",
    "    polyline = content['districts'][0]['polyline']\n",
    "    coordinates = polyline_to_coordinates(polyline)\n",
    "    polygon = unary_union([sgeom.Polygon(coords) for coords in coordinates])\n",
    "    coordinates = polygon_to_coordinates(polygon)\n",
    "    writer.record(cn_name='中华人民共和国', cn_adcode=100000)\n",
    "    writer.poly(coordinates)"
   ]
  },
  {
   "cell_type": "code",
   "execution_count": null,
   "metadata": {},
   "outputs": [],
   "source": [
    "province_filepath = shp_dirpath / 'cn_province.shp'\n",
    "create_prj_file(shp_dirpath / f'{province_filepath.stem}.prj')\n",
    "with shapefile.Writer(str(province_filepath), shapeType=5) as writer:\n",
    "    writer.fields = [['pr_name', 'C', 80, 0], ['pr_adcode', 'N', 6, 0]]\n",
    "    for record in province_records:\n",
    "        url = f'https://restapi.amap.com/v3/config/district?key={key}&keywords={record[\"pr_adcode\"]}&subdistrict=0&extensions=all'\n",
    "        response = requests.get(url)\n",
    "        content = json.loads(response.content.decode())\n",
    "        polyline = content['districts'][0]['polyline']\n",
    "        coordinates = polyline_to_coordinates(polyline)\n",
    "        polygon = unary_union([sgeom.Polygon(coords) for coords in coordinates])\n",
    "        coordinates = polygon_to_coordinates(polygon)\n",
    "        writer.record(**record)\n",
    "        writer.poly(coordinates)\n",
    "        print(record)"
   ]
  },
  {
   "cell_type": "code",
   "execution_count": null,
   "metadata": {},
   "outputs": [],
   "source": [
    "city_filepath = shp_dirpath / 'cn_city.shp'\n",
    "create_prj_file(shp_dirpath / f'{city_filepath.stem}.prj')\n",
    "with shapefile.Writer(str(city_filepath), shapeType=5) as writer:\n",
    "    writer.fields = [\n",
    "        ['ct_name', 'C', 80, 0],\n",
    "        ['ct_adcode', 'N', 6, 0],\n",
    "        ['pr_name', 'C', 80, 0],\n",
    "        ['pr_adcode', 'N', 6, 0]\n",
    "    ]\n",
    "    for record in city_records:\n",
    "        url = f'https://restapi.amap.com/v3/config/district?key={key}&keywords={record[\"ct_adcode\"]}&subdistrict=0&extensions=all'\n",
    "        response = requests.get(url)\n",
    "        content = json.loads(response.content.decode())\n",
    "        polyline = content['districts'][0]['polyline']\n",
    "        coordinates = polyline_to_coordinates(polyline)\n",
    "        polygon = unary_union([sgeom.Polygon(coords) for coords in coordinates])\n",
    "        coordinates = polygon_to_coordinates(polygon)\n",
    "        writer.record(**record)\n",
    "        writer.poly(coordinates)\n",
    "        print(record)"
   ]
  },
  {
   "cell_type": "markdown",
   "metadata": {},
   "source": [
    "[https://datav.aliyun.com/portal/school/atlas/area_selector](https://datav.aliyun.com/portal/school/atlas/area_selector) 全国的 GeoJSON 数据里含多边形表示的九段线，以此制作九段线的 shapefile 文件。注意 `writer.shape` 会自动将 GeoJSON 里逆时针的外环改为顺时针。"
   ]
  },
  {
   "cell_type": "code",
   "execution_count": null,
   "metadata": {},
   "outputs": [],
   "source": [
    "nine_line_filepath = shp_dirpath / 'nine_line.shp'\n",
    "create_prj_file(shp_dirpath / f'{nine_line_filepath.stem}.prj')\n",
    "with shapefile.Writer(str(nine_line_filepath)) as writer:\n",
    "    url = 'https://geo.datav.aliyun.com/areas_v3/bound/100000_full.json'\n",
    "    response = requests.get(url)\n",
    "    content = json.loads(response.content.decode())\n",
    "    geometry = content['features'][-1]['geometry']\n",
    "    writer.fields = [['cn_adcode', 'C', 80, 0], ['cn_name', 'C', 80, 0]]\n",
    "    writer.record(cn_adcode='100000', cn_name='九段线')\n",
    "    writer.shape(geometry)"
   ]
  }
 ],
 "metadata": {
  "kernelspec": {
   "display_name": "base",
   "language": "python",
   "name": "python3"
  },
  "language_info": {
   "codemirror_mode": {
    "name": "ipython",
    "version": 3
   },
   "file_extension": ".py",
   "mimetype": "text/x-python",
   "name": "python",
   "nbconvert_exporter": "python",
   "pygments_lexer": "ipython3",
   "version": "3.11.5"
  }
 },
 "nbformat": 4,
 "nbformat_minor": 2
}
