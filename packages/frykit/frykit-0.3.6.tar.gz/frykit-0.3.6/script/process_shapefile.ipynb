{
 "cells": [
  {
   "cell_type": "markdown",
   "metadata": {},
   "source": [
    "Shapefile 文件从 GCJ-02 坐标系转换到 WGS84 坐标系，再制作二进制文件。"
   ]
  },
  {
   "cell_type": "code",
   "execution_count": 1,
   "metadata": {},
   "outputs": [],
   "source": [
    "from frykit import DATA_DIRPATH\n",
    "from frykit._shp import convert_gcj_to_wgs, extract_records, BinaryConverter"
   ]
  },
  {
   "cell_type": "code",
   "execution_count": 3,
   "metadata": {},
   "outputs": [],
   "source": [
    "shp_dirpath = DATA_DIRPATH / 'shp'\n",
    "converter = BinaryConverter()\n",
    "for name in ['cn_country', 'cn_province', 'cn_city', 'nine_line']:\n",
    "    gcj_filepath = shp_dirpath / f'{name}.shp'\n",
    "    wgs_filepath = shp_dirpath / f'new_{name}.shp'\n",
    "    csv_filepath = shp_dirpath / f'{name}.csv'\n",
    "    bin_filepath = shp_dirpath / f'{name}.bin'\n",
    "    convert_gcj_to_wgs(gcj_filepath, wgs_filepath)\n",
    "    extract_records(gcj_filepath, csv_filepath)\n",
    "    with open(str(bin_filepath), 'wb') as f:\n",
    "        f.write(converter.convert(wgs_filepath))"
   ]
  }
 ],
 "metadata": {
  "kernelspec": {
   "display_name": "base",
   "language": "python",
   "name": "python3"
  },
  "language_info": {
   "codemirror_mode": {
    "name": "ipython",
    "version": 3
   },
   "file_extension": ".py",
   "mimetype": "text/x-python",
   "name": "python",
   "nbconvert_exporter": "python",
   "pygments_lexer": "ipython3",
   "version": "3.11.5"
  }
 },
 "nbformat": 4,
 "nbformat_minor": 2
}
