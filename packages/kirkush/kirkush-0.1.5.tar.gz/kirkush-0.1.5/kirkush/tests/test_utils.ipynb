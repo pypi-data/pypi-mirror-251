{
 "cells": [
  {
   "cell_type": "code",
   "execution_count": 21,
   "id": "30d9a120-f50f-4145-b36d-f2755bc499e2",
   "metadata": {},
   "outputs": [],
   "source": [
    "import unittest\n",
    "import shutil\n",
    "import import_ipynb"
   ]
  },
  {
   "cell_type": "code",
   "execution_count": 22,
   "id": "e435288c-be6c-42bb-95e3-5d5dcf375927",
   "metadata": {},
   "outputs": [
    {
     "data": {
      "text/plain": [
       "'./utils.ipynb'"
      ]
     },
     "execution_count": 22,
     "metadata": {},
     "output_type": "execute_result"
    }
   ],
   "source": [
    "shutil.copy(src='../utils.ipynb',dst='.')"
   ]
  },
  {
   "cell_type": "code",
   "execution_count": 23,
   "id": "a62f02eb-a13e-4869-b2cb-4e2c956fa768",
   "metadata": {},
   "outputs": [],
   "source": [
    "import utils"
   ]
  },
  {
   "cell_type": "code",
   "execution_count": 36,
   "id": "c6277763-521b-4833-85e9-7f92043102c4",
   "metadata": {},
   "outputs": [],
   "source": [
    "class TestSimple(unittest.TestCase):\n",
    "\n",
    "    def test_get_videos(self):\n",
    "        # test get_videos\n",
    "        in_folder='../videos/'\n",
    "        v=utils.get_videos(in_folder)\n",
    "        #print(v)\n",
    "        self.assertEqual(3, len(v))\n",
    "        self.assertTrue(isinstance(v, list))\n",
    "        self.assertTrue('Raindrops_Videvo.mp4' in v)"
   ]
  },
  {
   "cell_type": "code",
   "execution_count": 37,
   "id": "cc6dfb48-a755-43d3-840a-bf4c51608edd",
   "metadata": {},
   "outputs": [
    {
     "name": "stderr",
     "output_type": "stream",
     "text": [
      ".\n",
      "----------------------------------------------------------------------\n",
      "Ran 1 test in 0.002s\n",
      "\n",
      "OK\n"
     ]
    }
   ],
   "source": [
    "\n",
    "if __name__ == '__main__':\n",
    "    unittest.main(argv=['ignored_arg'], exit=False)"
   ]
  },
  {
   "cell_type": "code",
   "execution_count": null,
   "id": "0a7cc188-4ed4-470d-83bf-309b598a071d",
   "metadata": {},
   "outputs": [],
   "source": []
  },
  {
   "cell_type": "code",
   "execution_count": null,
   "id": "c2c9dc93-7e45-47b2-be18-0801e8591f91",
   "metadata": {},
   "outputs": [],
   "source": []
  }
 ],
 "metadata": {
  "kernelspec": {
   "display_name": "Python 3 (ipykernel)",
   "language": "python",
   "name": "python3"
  },
  "language_info": {
   "codemirror_mode": {
    "name": "ipython",
    "version": 3
   },
   "file_extension": ".py",
   "mimetype": "text/x-python",
   "name": "python",
   "nbconvert_exporter": "python",
   "pygments_lexer": "ipython3",
   "version": "3.11.5"
  }
 },
 "nbformat": 4,
 "nbformat_minor": 5
}
