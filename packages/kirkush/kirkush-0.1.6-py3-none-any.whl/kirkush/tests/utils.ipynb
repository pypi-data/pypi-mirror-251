{
 "cells": [
  {
   "cell_type": "code",
   "execution_count": null,
   "id": "35bf1da0",
   "metadata": {},
   "outputs": [],
   "source": [
    "# this file resides in the extractors folder\n",
    "# it should resemble the utils file at the toolchain root folder"
   ]
  },
  {
   "cell_type": "code",
   "execution_count": 21,
   "id": "a031576f-5304-4ada-a54d-f40b60cbb766",
   "metadata": {},
   "outputs": [],
   "source": [
    "# constants \n",
    "packages=[]\n",
    "failed_packages=[]\n",
    "colab=''"
   ]
  },
  {
   "cell_type": "code",
   "execution_count": 22,
   "id": "0fff8818-08d0-4d17-ab69-53ac3a13488b",
   "metadata": {},
   "outputs": [],
   "source": [
    "def import_packages(names, packages=packages, failed_packages=failed_packages, vb=False):\n",
    "    # tries to import a package from names list and add its name to the packages list if successful\n",
    "    # adds failed package names to failed_packages list\n",
    "    if not names:\n",
    "        return\n",
    "    if not isinstance(names, list): name=[name] \n",
    "    if not isinstance (names[0], list):\n",
    "        names=[names]\n",
    "    failed=[]\n",
    "    for ls in names:\n",
    "        for name in ls:\n",
    "            \n",
    "            try: \n",
    "                # create import statement\n",
    "                n=name\n",
    "                if not 'from' in name:\n",
    "                    n = 'import '+ name\n",
    "                # package name\n",
    "                pn=n.split()[1]\n",
    "                # module name (possibly submodule or renamed by 'as')\n",
    "                mn = n.split()[-1]\n",
    "                if vb: print(f'trying {n}')\n",
    "                exec(n)\n",
    "                if vb: print(eval(mn))\n",
    "                globals()[mn] = eval(mn)\n",
    "                packages.append(pn)\n",
    "                #if vb: print(f'imported: {pn}')\n",
    "            except Exception as e:\n",
    "                if vb:\n",
    "                    print(f'error: ', pn)\n",
    "                    print(e)\n",
    "                failed_packages.append(pn)"
   ]
  },
  {
   "cell_type": "code",
   "execution_count": 38,
   "id": "3d1ea2d1-95d1-4492-9aec-f7602e3d9c1d",
   "metadata": {},
   "outputs": [],
   "source": [
    "builtin_requirements=['os','time', 'sys','datetime','importlib','subprocess']\n",
    "python_requirements=['from contextlib import contextmanager','logging as lg','import_ipynb',  'json', 'from collections import defaultdict',\n",
    "                    'from time import perf_counter',]\n",
    "video_requirments=['cv2','from moviepy.video.io.VideoFileClip import VideoFileClip', 'ffmpeg']\n",
    "data_requirements=['pandas as pd',]\n",
    "os_requirements=['magic', ]\n",
    "config_requirements=['settings']\n",
    "requirements=[builtin_requirements, python_requirements, video_requirments, data_requirements, os_requirements, config_requirements]\n",
    "\n",
    "import_packages(requirements)"
   ]
  },
  {
   "cell_type": "code",
   "execution_count": 39,
   "id": "e42251f0-4f6d-4414-9065-b5f0ff0cd873",
   "metadata": {},
   "outputs": [],
   "source": [
    "# ffmpeg\n",
    "# !pip install ffmpeg-python"
   ]
  },
  {
   "cell_type": "code",
   "execution_count": 40,
   "id": "c0aca660-5a6b-4f4b-b101-9ad808cc01e7",
   "metadata": {},
   "outputs": [],
   "source": [
    "def msg_failed_packages(msg):\n",
    "    for pn in failed_packages:\n",
    "        if pn in msg:\n",
    "            print(f'user warning: failed to import {msg[pn]}')"
   ]
  },
  {
   "cell_type": "code",
   "execution_count": 41,
   "id": "82254c20-3a79-47cb-9fc9-8910613bccac",
   "metadata": {},
   "outputs": [
    {
     "name": "stdout",
     "output_type": "stream",
     "text": [
      "user warning: failed to import opencv. save_frames will fail\n",
      "user warning: failed to import ffmpeg. video editing functions may not be available. install using pip install ffmpeg-python. also requires ffmpeg executable, see https://ffmpeg.org/download.html\n",
      "user warning: failed to import python magic. filetype cannot be checked. will assume video type is mp4\n",
      "user warning: failed to import opencv. save_frames will fail\n",
      "user warning: failed to import ffmpeg. video editing functions may not be available. install using pip install ffmpeg-python. also requires ffmpeg executable, see https://ffmpeg.org/download.html\n",
      "user warning: failed to import python magic. filetype cannot be checked. will assume video type is mp4\n",
      "user warning: failed to import opencv. save_frames will fail\n",
      "user warning: failed to import ffmpeg. video editing functions may not be available. install using pip install ffmpeg-python. also requires ffmpeg executable, see https://ffmpeg.org/download.html\n",
      "user warning: failed to import python magic. filetype cannot be checked. will assume video type is mp4\n"
     ]
    }
   ],
   "source": [
    "msg={'magic':f'python magic. filetype cannot be checked. will assume video type is mp4', \n",
    "    'cv2': f'opencv. save_frames will fail', 'ffmpeg':'ffmpeg. video editing functions may not be available. install using pip install '\n",
    "            'ffmpeg-python. also requires ffmpeg executable, see https://ffmpeg.org/download.html'}\n",
    "msg_failed_packages(msg)"
   ]
  },
  {
   "cell_type": "code",
   "execution_count": 44,
   "id": "f80bb3ca-78d1-481f-b504-da7662f5fdb5",
   "metadata": {},
   "outputs": [],
   "source": [
    "# constants\n",
    "colab=''\n",
    "vb=None\n",
    "if 'settings' in globals():\n",
    "    vb=settings.vb    "
   ]
  },
  {
   "cell_type": "code",
   "execution_count": 33,
   "id": "653ce619-3c84-449f-aad1-303ef46d851e",
   "metadata": {},
   "outputs": [],
   "source": [
    "# load config data\n",
    "# returns defaultdict with None as default value\n",
    "# this function has never been used and will probably be retired\n",
    "def load_conf(conf_path='config.txt'):\n",
    "    conf = open(conf_path, 'r').read()\n",
    "    d={}\n",
    "    for line in conf.split('\\n'):\n",
    "        line=line.strip()\n",
    "        if line and not line.startswith('#'):\n",
    "            sp = line.split(' ')\n",
    "            # print(sp)\n",
    "            var, val = (sp[0], sp[1]) if len(sp)>1 else (sp[0], '')\n",
    "            try:\n",
    "                val=int(val)\n",
    "            except:\n",
    "                if ',' in val:\n",
    "                    try:\n",
    "                        val=val.split(',')\n",
    "                        val=tuple(None if 'None' in v else int(v) for v in val)\n",
    "                    except:\n",
    "                        raise ValueError(f'expected int tuple but got {val}')\n",
    "            if val=='True':\n",
    "                val=True\n",
    "            elif val=='False':\n",
    "                val=False\n",
    "            elif val == 'None':\n",
    "                    val=None\n",
    "            d[var]=val\n",
    "    d = defaultdict(lambda:None, **d)\n",
    "    return d"
   ]
  },
  {
   "cell_type": "code",
   "execution_count": 35,
   "id": "1e3bf634",
   "metadata": {
    "id": "1e3bf634"
   },
   "outputs": [],
   "source": [
    "# print stack trace\n",
    "def print_trace(e):\n",
    "    r=[]\n",
    "    t = e.__traceback__\n",
    "    while t:\n",
    "        print(f'{t.tb_frame}, \\nt.tb_lasti: {t.tb_lasti},   \\ndir:{dir(t)}, \\ntb.frame-f.code: {t.tb_frame.f_code}, \\nfilename: {t.tb_frame.f_code.co_filename}: \\nline: {t.tb_lineno}')#{getattr(t)},\n",
    "        t = t.tb_next"
   ]
  },
  {
   "cell_type": "code",
   "execution_count": 29,
   "id": "6128d0f5-c238-4c2a-84b0-8f7f38a872d2",
   "metadata": {},
   "outputs": [],
   "source": [
    "def catch(func, vb=None):\n",
    "    def w():\n",
    "        try:\n",
    "            func()\n",
    "        except Exception as e:\n",
    "            if vb: print(f'{func.__name__} error: {e}')\n",
    "    return w"
   ]
  },
  {
   "cell_type": "code",
   "execution_count": null,
   "id": "176f5437-7f97-4a4f-944f-e9fdcbf12e6b",
   "metadata": {},
   "outputs": [],
   "source": []
  },
  {
   "cell_type": "code",
   "execution_count": 30,
   "id": "ee95bbd2",
   "metadata": {
    "id": "ee95bbd2"
   },
   "outputs": [],
   "source": [
    "# check video file type\n",
    "def check_filetype(path):\n",
    "    try:\n",
    "        return magic.from_file(path)\n",
    "    except:\n",
    "        return None"
   ]
  },
  {
   "cell_type": "markdown",
   "id": "c4320e02-96b0-4a7e-9c48-340fe923544e",
   "metadata": {},
   "source": [
    "#### video functions"
   ]
  },
  {
   "cell_type": "code",
   "execution_count": 31,
   "id": "2dacda18",
   "metadata": {},
   "outputs": [],
   "source": [
    "# load data\n",
    "def get_videos(in_folder, min_size=50, start=0, end=None, extensions=None):\n",
    "    # return files (filenames) from in_folder\n",
    "    # min_size: min file size in kB \n",
    "    # start, end: start, end index of file list. default: entire file list\n",
    "    # extensions: iterable of extensions. files without such extensions are excluded \n",
    "    # return: list of filenames (string)\n",
    "    \n",
    "    if not in_folder or not os.path.isdir(in_folder):\n",
    "        return []\n",
    "    extensions = extensions if extensions else ['flv', 'f4v', 'f4p', 'f4a', 'f4b', 'nsv', 'roq', 'mxf', '3g2', '3gp', 'svi', 'm4v', 'mpg', 'mpeg', 'm2v', 'mpg', 'mp2', 'mpeg', 'mpe', 'mpv', 'mp4', 'm4p', 'm4v', 'amv', 'asf', 'rmvb', 'rm', 'yuv', 'wmv', 'mov', 'qt', 'MTS', 'M2TS', 'TS', 'avi', 'mng', 'gifv', 'gif', 'drc', 'ogv', 'ogg', 'vob', 'flv', 'flv', 'mkv']\n",
    "    videos = os.listdir(in_folder)\n",
    "    \n",
    "    videos = [v for v in videos if '.' in v and os.path.splitext(v)[1][1:] in extensions]\n",
    "    videos = [v for v in videos if os.path.getsize(os.path.join(in_folder, v))/1000 > min_size]\n",
    "    videos.sort()\n",
    "    l = len(videos)\n",
    "    end = l if not isinstance(end,int) or end < 0 or end > l else end \n",
    "    start = 0 if (not isinstance(start,int) or start < 0 or start > l) else start \n",
    "\n",
    "    return videos[start:end]"
   ]
  },
  {
   "cell_type": "code",
   "execution_count": 34,
   "id": "b68e0c16-05f8-4c40-9674-a80992f2e242",
   "metadata": {},
   "outputs": [],
   "source": [
    "def get_frames(path, skip_frame=10):\n",
    "    # yield video frames\n",
    "    cap = cv2.VideoCapture(path)\n",
    "    r,c = True,0\n",
    "    while r:\n",
    "        r, frame = cap.read()\n",
    "        if not r:break \n",
    "        if c%skip_frame==0:\n",
    "            yield frame\n",
    "        c+=1"
   ]
  },
  {
   "cell_type": "code",
   "execution_count": 45,
   "id": "06346e58",
   "metadata": {},
   "outputs": [],
   "source": [
    "# helper for saving specified frames      \n",
    "def save_frames(video, name, out_folder, frames, skip_frame=None, vb=False):\n",
    "    # saves specified frames from video\n",
    "    # frames are either specified as int, list (frame) or as by indicating number of frames to be skipped (skip_frame)\n",
    "    # skip_frame takes priority over frame\n",
    "    # returns True if successful\n",
    "    # save format: out_folder/name_<frame_number>.jpg\n",
    "    cap=cv2.VideoCapture(video)\n",
    "    max_frames = int(cap.get(cv2.CAP_PROP_FRAME_COUNT))\n",
    "    if skip_frame:\n",
    "        frames=[f for f in range(max_frames) if f%skip_frame==0]\n",
    "    r=True\n",
    "    if isinstance(frames, int):\n",
    "        frames=[frames]\n",
    "    image_dir=os.path.join(out_folder, name)\n",
    "    os.makedirs(image_dir, exist_ok=True)\n",
    "    for fr in frames:\n",
    "        if fr>=max_frames:\n",
    "            return True\n",
    "        cap.set(cv2.CAP_PROP_POS_FRAMES, fr)\n",
    "        _, image = cap.read()\n",
    "        image_path=os.path.join(out_folder, name, '_'+str(fr)+\".jpg\")\n",
    "        if vb:print(f'writing image {fr} to {image_path}')\n",
    "        if not cv2.imwrite(os.path.join(out_folder, name, '_'+str(fr)+\".jpg\"), image):\n",
    "            r=False\n",
    "    return r"
   ]
  },
  {
   "cell_type": "code",
   "execution_count": 53,
   "id": "48847061-d609-435d-8fda-67a645846519",
   "metadata": {},
   "outputs": [],
   "source": [
    "def mkv2mp4(path, vb=False):\n",
    "    # see: https://stackoverflow.com/questions/64519818/converting-mkv-files-to-mp4-with-ffmpeg-python\n",
    "    # converts mkv file to mp4\n",
    "    if not isinstance(path, str):\n",
    "        return\n",
    "    if not os.path.isfile(path):\n",
    "        raise ValueError(f'cant stat {path}')\n",
    "    name, ext = os.path.splitext(path)\n",
    "    bn,dn=os.path.basename(name), os.path.dirname(name)\n",
    "    if not ext=='.mkv':\n",
    "        raise ValueError(f'expected .mkv extension but got {ext}')\n",
    "    ffmpeg.input(path).output(f'{name}.mp4').run()\n",
    "    if vb:print(f'converted {name}.mkv to {name}.mp4 in {dn}')"
   ]
  },
  {
   "cell_type": "markdown",
   "id": "0afc6bec-1c8e-486d-aff1-ede1a605a29b",
   "metadata": {
    "id": "ac0e24cd"
   },
   "source": [
    "#### exec functions"
   ]
  },
  {
   "cell_type": "code",
   "execution_count": 46,
   "id": "929affd7",
   "metadata": {
    "id": "929affd7"
   },
   "outputs": [],
   "source": [
    "def passthrough_and_capture_output(args):\n",
    "    process = subprocess.Popen(args, stdout=subprocess.PIPE, universal_newlines=True)\n",
    "    # universal_newlines means that the output of the process will be interpreted as text\n",
    "    capture = ''\n",
    "    s = process.stdout.read(1)\n",
    "    while len(s) > 0:\n",
    "        sys.stdout.write(s)\n",
    "        sys.stdout.flush()\n",
    "        capture += s\n",
    "        s = process.stdout.read(1)\n",
    "    return capture"
   ]
  },
  {
   "cell_type": "code",
   "execution_count": 47,
   "id": "036126aa-71b1-4136-936f-49f84019d52f",
   "metadata": {},
   "outputs": [],
   "source": [
    "def execute(cmd, timeout=3):\n",
    "    from subprocess import Popen, PIPE\n",
    "    p = Popen(cmd, stdout = PIPE)\n",
    "    while p.poll() is None:\n",
    "        time.sleep(0.2)\n",
    "    stdout, stderr = process.communicate()\n",
    "    return p.poll(), stdout, stderr"
   ]
  },
  {
   "cell_type": "code",
   "execution_count": 32,
   "id": "fe9a2356",
   "metadata": {
    "id": "fe9a2356"
   },
   "outputs": [
    {
     "name": "stdout",
     "output_type": "stream",
     "text": [
      "name 'contextmanager' is not defined\n"
     ]
    }
   ],
   "source": [
    "# timer\n",
    "# see https://stackoverflow.com/questions/33987060/python-context-manager-that-measures-time\n",
    "try:\n",
    "    @contextmanager\n",
    "    def timer():\n",
    "        start = perf_counter()\n",
    "        yield lambda: perf_counter() - start\n",
    "except Exception as e:\n",
    "    print(e)"
   ]
  },
  {
   "cell_type": "code",
   "execution_count": 33,
   "id": "8622b2f8",
   "metadata": {
    "id": "8622b2f8"
   },
   "outputs": [
    {
     "name": "stdout",
     "output_type": "stream",
     "text": [
      "name 'contextmanager' is not defined\n"
     ]
    }
   ],
   "source": [
    "# silencing output\n",
    "# see https://stackoverflow.com/questions/4178614/suppressing-output-of-module-calling-outside-library\n",
    "try:\n",
    "    @contextmanager\n",
    "    def suppress_stdout():\n",
    "        with open(os.devnull, \"w\") as devnull:\n",
    "            old_stdout,old_stderr = sys.stdout, sys.stderr\n",
    "            sys.stdout, sys.stderr = devnull, devnull\n",
    "            try:  \n",
    "                yield\n",
    "            finally:\n",
    "                sys.stdout = old_stdout\n",
    "                sys.stderr = old_stderr\n",
    "except Exception as e:\n",
    "    print(e)"
   ]
  },
  {
   "cell_type": "markdown",
   "id": "fd2c3d96-dda2-456e-a53f-e65a00069517",
   "metadata": {},
   "source": [
    "#### logging functions"
   ]
  },
  {
   "cell_type": "code",
   "execution_count": 42,
   "id": "342edea3",
   "metadata": {},
   "outputs": [],
   "source": [
    "class _status_logger:\n",
    "    def __init__(self, log_file):\n",
    "        self.log_file = log_file\n",
    "\n",
    "    def log(self, message):\n",
    "        timestamp = datetime.datetime.now().strftime('%Y-%m-%d %H:%M:%S')\n",
    "        log_entry = f'{timestamp} - {message}\\n'\n",
    "        with open(self.log_file, 'a') as file:\n",
    "            file.write(log_entry)\n",
    "\n",
    "    def info(self, message):\n",
    "        self.log(f'INFO: {message}')\n",
    "\n",
    "    def warning(self, message):\n",
    "        self.log(f'WARNING: {message}')\n",
    "\n",
    "    def error(self, message):\n",
    "        self.log(f'ERROR: {message}')\n",
    "\n",
    "    def critical(self, message):\n",
    "        self.log(f'CRITICAL: {message}')"
   ]
  },
  {
   "cell_type": "code",
   "execution_count": 43,
   "id": "891d9eeb-732f-440b-98a6-55994e5c6df0",
   "metadata": {},
   "outputs": [],
   "source": [
    "try:\n",
    "    def get_sys_logger(name='google_extractor', fn=None, mode='w', level=lg.DEBUG, fmt=None):\n",
    "        # logging\n",
    "        lr = lg.getLogger(name)\n",
    "        f_h = lg.FileHandler(fn, mode=mode)\n",
    "        f_h.setLevel(level)\n",
    "        if fmt is None:\n",
    "            fmt = lg.Formatter(fmt='%(asctime)s -  %(message)s',datefmt='%Y-%m-%d,%H:%M:%S', )\n",
    "            #lg.Formatter('%(asctime)s - %(message)s')\n",
    "        f_h.setFormatter(fmt)\n",
    "        lr.addHandler(f_h)\n",
    "        return lr\n",
    "except Exception as e:\n",
    "    print(e)"
   ]
  },
  {
   "cell_type": "code",
   "execution_count": 44,
   "id": "e261e156-54ee-4b0b-94bb-47a2f4a32fb1",
   "metadata": {},
   "outputs": [],
   "source": [
    "def get_status_logger(filename=None):\n",
    "    if not filename:\n",
    "        raise ValueError('cant initialize logger: no filename')\n",
    "    lr=_status_logger(filename)\n",
    "    return lr"
   ]
  },
  {
   "cell_type": "code",
   "execution_count": null,
   "id": "13be2ab2-afe4-41e9-ad2c-3782c099dd56",
   "metadata": {},
   "outputs": [],
   "source": []
  },
  {
   "cell_type": "code",
   "execution_count": 47,
   "id": "61a903b1-769e-4748-abc3-84b5b01ecd01",
   "metadata": {},
   "outputs": [],
   "source": [
    "def _check_colab():\n",
    "    try:\n",
    "        from google.colab import drive\n",
    "        drive.mount('drive')\n",
    "        colab='/content/drive/MyDrive/toolchain'\n",
    "    except Exception as e:\n",
    "        print(e)\n",
    "        colab=''\n",
    "        in_folder='../in_folder'"
   ]
  },
  {
   "cell_type": "code",
   "execution_count": null,
   "id": "9dad5a91-7f0f-424c-aa9d-ef8cafc04740",
   "metadata": {},
   "outputs": [],
   "source": []
  },
  {
   "cell_type": "code",
   "execution_count": null,
   "id": "ee6363be-5211-491d-8cd3-23001a821cb2",
   "metadata": {},
   "outputs": [],
   "source": []
  },
  {
   "cell_type": "code",
   "execution_count": null,
   "id": "44cf4713-224d-4fc6-a2ad-449b879104c3",
   "metadata": {},
   "outputs": [],
   "source": []
  },
  {
   "cell_type": "code",
   "execution_count": 45,
   "id": "d54139d5",
   "metadata": {
    "colab": {
     "base_uri": "https://localhost:8080/"
    },
    "executionInfo": {
     "elapsed": 16549,
     "status": "ok",
     "timestamp": 1673394544017,
     "user": {
      "displayName": "o kemper",
      "userId": "12727071431743052516"
     },
     "user_tz": -60
    },
    "id": "d54139d5",
    "outputId": "2fee0916-3315-413a-896a-91976feb7009"
   },
   "outputs": [
    {
     "name": "stdout",
     "output_type": "stream",
     "text": [
      "No module named 'google'\n",
      "[]\n"
     ]
    }
   ],
   "source": [
    "# test get_videos\n",
    "if __name__=='__main__':\n",
    "    if not colab:\n",
    "        try:\n",
    "            from google.colab import drive\n",
    "            drive.mount('drive')\n",
    "            colab='/content/drive/MyDrive/toolchain'\n",
    "        except Exception as e:\n",
    "            print(e)\n",
    "            colab=''\n",
    "            in_folder='../in_folder'\n",
    "    if colab:\n",
    "        os.chdir(colab)\n",
    "    # test get_videos\n",
    "    v=get_videos(in_folder)\n",
    "    print(v)"
   ]
  },
  {
   "cell_type": "code",
   "execution_count": 36,
   "id": "bd6b7c64",
   "metadata": {
    "id": "bd6b7c64"
   },
   "outputs": [
    {
     "name": "stdout",
     "output_type": "stream",
     "text": [
      "<frame at 0x104af8ca0, file '/var/folders/bf/vqv15x3s20jfm_p_wzxnz6km0000gn/T/ipykernel_3141/1144046883.py', line 6, code <module>>, \n",
      "t.tb_lasti: 20,   \n",
      "dir:['tb_frame', 'tb_lasti', 'tb_lineno', 'tb_next'], \n",
      "tb.frame-f.code: <code object <module> at 0x1043fd7d0, file \"/var/folders/bf/vqv15x3s20jfm_p_wzxnz6km0000gn/T/ipykernel_3141/1144046883.py\", line 1>, \n",
      "filename: /var/folders/bf/vqv15x3s20jfm_p_wzxnz6km0000gn/T/ipykernel_3141/1144046883.py: \n",
      "line: 4\n"
     ]
    }
   ],
   "source": [
    "# test print_trace\n",
    "if __name__=='__main__':\n",
    "    try:\n",
    "        a=1/0\n",
    "    except Exception as e:\n",
    "        print_trace(e)"
   ]
  },
  {
   "cell_type": "code",
   "execution_count": 37,
   "id": "f7732e4c",
   "metadata": {},
   "outputs": [
    {
     "name": "stdout",
     "output_type": "stream",
     "text": [
      "[]\n"
     ]
    }
   ],
   "source": [
    "# test print_trace\n",
    "if __name__=='__main__':\n",
    "    try:\n",
    "        r=get_videos('../in_folder', start=1, end=2)\n",
    "        print(r)\n",
    "    except Exception as e:\n",
    "        print(e)"
   ]
  },
  {
   "cell_type": "code",
   "execution_count": 40,
   "id": "67cb152e",
   "metadata": {},
   "outputs": [
    {
     "name": "stdout",
     "output_type": "stream",
     "text": [
      "name 'cv2' is not defined\n"
     ]
    }
   ],
   "source": [
    "# test save_frames\n",
    "if __name__=='__main__':\n",
    "    try:\n",
    "        r=save_frames(video='../../videos/archive 0-999/video10.mp4', name='video10',out_folder='out_folder/', frames=[1,10])\n",
    "        print(r)\n",
    "    except Exception as e:\n",
    "        print(e)"
   ]
  },
  {
   "cell_type": "code",
   "execution_count": null,
   "id": "ae9cbe21",
   "metadata": {},
   "outputs": [],
   "source": []
  }
 ],
 "metadata": {
  "colab": {
   "provenance": []
  },
  "kernelspec": {
   "display_name": "Python 3 (ipykernel)",
   "language": "python",
   "name": "python3"
  },
  "language_info": {
   "codemirror_mode": {
    "name": "ipython",
    "version": 3
   },
   "file_extension": ".py",
   "mimetype": "text/x-python",
   "name": "python",
   "nbconvert_exporter": "python",
   "pygments_lexer": "ipython3",
   "version": "3.11.5"
  }
 },
 "nbformat": 4,
 "nbformat_minor": 5
}
