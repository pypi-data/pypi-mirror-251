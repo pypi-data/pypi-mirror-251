{
 "cells": [
  {
   "cell_type": "code",
   "execution_count": 1,
   "metadata": {},
   "outputs": [],
   "source": [
    "import numpy as np"
   ]
  },
  {
   "cell_type": "code",
   "execution_count": 2,
   "metadata": {},
   "outputs": [],
   "source": [
    "from lenstronomy.LensModel.lens_model import LensModel\n",
    "import lensinggw.constants.constants as const\n",
    "from lensinggw.utils.utils import param_processing"
   ]
  },
  {
   "cell_type": "code",
   "execution_count": 3,
   "metadata": {},
   "outputs": [],
   "source": [
    "import sys\n",
    "import os\n",
    "path = os.getcwd()\n",
    "dir = os.path.abspath(os.path.join(path, os.pardir))\n",
    "sys.path.append(dir)"
   ]
  },
  {
   "cell_type": "code",
   "execution_count": 4,
   "metadata": {},
   "outputs": [],
   "source": [
    "import wolensing.amplification_factor.amplification_factor as af"
   ]
  },
  {
   "cell_type": "code",
   "execution_count": 5,
   "metadata": {},
   "outputs": [],
   "source": [
    "\"\"\"\n",
    "Testing standard SIS model\n",
    "\"\"\"\n",
    "zS, zL = 1., 0.5\n",
    "mL1 = 1e3\n",
    "G = const.G  # gravitational constant [m^3 kg^-1 s^-2]\n",
    "c = const.c  # speed of light [m/s]\n",
    "M_sun = const.M_sun  # Solar mass [Kg]\n",
    "df = 0.25\n",
    "textendmax = 1/df\n",
    "tlength = .13\n",
    "textend = textendmax-tlength\n",
    "thetaE = param_processing(zL, zS, mL1)\n",
    "beta0, beta1 = 0.1 * thetaE, 0 * thetaE\n",
    "eta10, eta11 = 0 * thetaE, 0 * thetaE\n",
    "eta0, eta1 = 0., 0.\n",
    "lens_model_list = ['SIS']\n",
    "kwargs_sis_1 = {'center_x': eta10, 'center_y': eta11, 'theta_E': thetaE}\n",
    "kwargs_lens_list = [kwargs_sis_1]\n",
    "lens_model_complete = LensModel(lens_model_list=lens_model_list)\n",
    "T = lens_model_complete.fermat_potential\n",
    "T0 = thetaE ** (-2) * T(0, 0, kwargs_lens_list, beta0, beta1)#[0]\n",
    "Tscale = 4 * (1 + zL) * mL1 * M_sun * G / c ** 3\n",
    "mL3 = 10\n",
    "thetaE3 = param_processing(zL, zS, mL3)\n",
    "kwargs_macro = {'source_pos_x': beta0,\n",
    "                'source_pos_y': beta1,\n",
    "                'theta_E': thetaE,\n",
    "                'mu': 1,\n",
    "               }\n",
    "kwargs_integrator = {'PixelNum': int(20000),\n",
    "                     'PixelBlockMax': 2000,\n",
    "                     'WindowSize': 1.*210*thetaE3,\n",
    "                     'WindowCenterX': 0,\n",
    "                     'WindowCenterY': 0,\n",
    "                     'T0': T0,\n",
    "                     'TimeStep': 1e-5/Tscale, \n",
    "                     'TimeMax': T0 + 1./Tscale,\n",
    "                     'TimeMin': T0 - .1/Tscale,\n",
    "                     'TimeLength': tlength/Tscale,\n",
    "                     'TExtend': 10/Tscale,\n",
    "                     'LastImageT': .02/Tscale,\n",
    "                     'Tbuffer': 0,\n",
    "                     'Tscale': Tscale}\n",
    "amplification = af.amplification_factor(lens_model_list=lens_model_list, kwargs_lens=kwargs_lens_list, kwargs_macro=kwargs_macro, **kwargs_integrator)"
   ]
  },
  {
   "cell_type": "code",
   "execution_count": null,
   "metadata": {},
   "outputs": [],
   "source": []
  },
  {
   "cell_type": "code",
   "execution_count": 7,
   "metadata": {},
   "outputs": [],
   "source": [
    "sis_amp = amplification"
   ]
  },
  {
   "cell_type": "code",
   "execution_count": 8,
   "metadata": {},
   "outputs": [],
   "source": [
    "fixed_ts = np.loadtxt('../../test/test_sis_ts.txt')\n",
    "fixed_F_tilde = np.loadtxt('../../test/test_sis_F_tilde.txt')"
   ]
  },
  {
   "cell_type": "code",
   "execution_count": 9,
   "metadata": {},
   "outputs": [
    {
     "name": "stdout",
     "output_type": "stream",
     "text": [
      "total time 10.129980000000002\n"
     ]
    }
   ],
   "source": [
    "sis_amp.importor(time=True, ts=fixed_ts, F_tilde=fixed_F_tilde)\n",
    "amp_fs, amp_Fws = sis_amp.fourier()"
   ]
  },
  {
   "cell_type": "code",
   "execution_count": 10,
   "metadata": {},
   "outputs": [
    {
     "name": "stdout",
     "output_type": "stream",
     "text": [
      "1999.905231797101\n"
     ]
    }
   ],
   "source": [
    "print(amp_fs[-1])"
   ]
  },
  {
   "cell_type": "code",
   "execution_count": 11,
   "metadata": {},
   "outputs": [
    {
     "data": {
      "text/plain": [
       "<Figure size 432x288 with 0 Axes>"
      ]
     },
     "metadata": {},
     "output_type": "display_data"
    },
    {
     "data": {
      "image/png": "[encoded data removed]",
      "text/plain": [
       "<Figure size 432x288 with 1 Axes>"
      ]
     },
     "metadata": {
      "needs_background": "light"
     },
     "output_type": "display_data"
    },
    {
     "data": {
      "text/plain": [
       "<AxesSubplot:xlabel='Frequency (Hz)', ylabel='$|F|/\\\\sqrt{\\\\mu}$'>"
      ]
     },
     "execution_count": 11,
     "metadata": {},
     "output_type": "execute_result"
    }
   ],
   "source": [
    "sis_amp.plot_freq()"
   ]
  },
  {
   "cell_type": "code",
   "execution_count": 13,
   "metadata": {},
   "outputs": [
    {
     "name": "stdout",
     "output_type": "stream",
     "text": [
      "[0.         0.9042884  1.16471047 1.11018838 1.20316572 1.22458012\n",
      " 1.2864794  1.31721499 1.36638468 1.39789448]\n"
     ]
    }
   ],
   "source": [
    "print(np.abs(amp_Fws[0:10]))"
   ]
  },
  {
   "cell_type": "code",
   "execution_count": 14,
   "metadata": {},
   "outputs": [],
   "source": [
    "np.savetxt('./test_sis_Fws.txt', amp_Fws)"
   ]
  },
  {
   "cell_type": "code",
   "execution_count": null,
   "metadata": {},
   "outputs": [],
   "source": []
  }
 ],
 "metadata": {
  "kernelspec": {
   "display_name": "wolensing",
   "language": "python",
   "name": "wolensing"
  },
  "language_info": {
   "codemirror_mode": {
    "name": "ipython",
    "version": 3
   },
   "file_extension": ".py",
   "mimetype": "text/x-python",
   "name": "python",
   "nbconvert_exporter": "python",
   "pygments_lexer": "ipython3",
   "version": "3.6.8"
  }
 },
 "nbformat": 4,
 "nbformat_minor": 4
}
