{
 "cells": [
  {
   "cell_type": "code",
   "execution_count": null,
   "metadata": {},
   "outputs": [],
   "source": [
    "from sqlalchemy import create_engine\n",
    "\n",
    "servername = \"osprey\"\n",
    "dbname = \"EnergyCommunityNationalSystemPAMS\"\n",
    "engine = create_engine(\n",
    "    \"mssql+pyodbc://@\"\n",
    "    + servername\n",
    "    + \"/\"\n",
    "    + dbname\n",
    "    + \"?trusted_connection=yes&driver=ODBC Driver 17 for SQL Server\"\n",
    ")\n",
    "conn = engine.connect()"
   ]
  },
  {
   "cell_type": "code",
   "execution_count": null,
   "metadata": {},
   "outputs": [],
   "source": [
    "import polars as pl\n",
    "from sqlalchemy import create_engine\n",
    "servername = \"osprey\"\n",
    "dbname = \"NECPR\"\n",
    "conn = create_engine('mssql+pyodbc://@' + servername + '/' + dbname + '?trusted_connection=yes&driver=ODBC Driver 17 for SQL Server')\n",
    "\n",
    "query = \"SELECT * FROM annexI.Table_1\"\n",
    "df = pl.read_database(query=query, connection=conn.connect())\n",
    "\n",
    "df.write_parquet(r\"~/temp/python/table1.parquet\")\n",
    "\n",
    "df_from_parquet = pl.read_parquet(r\"~/temp/python/table1.parquet\")\n",
    "df_from_parquet.head()"
   ]
  },
  {
   "cell_type": "code",
   "execution_count": null,
   "metadata": {},
   "outputs": [],
   "source": [
    "df.write_parquet(r\"~/temp/python/table1.parquet\")"
   ]
  },
  {
   "cell_type": "code",
   "execution_count": null,
   "metadata": {},
   "outputs": [],
   "source": [
    "df_from_parquet = pl.read_parquet(r\"~/temp/python/table1.parquet\")\n",
    "df_from_parquet.head()"
   ]
  },
  {
   "cell_type": "code",
   "execution_count": null,
   "metadata": {},
   "outputs": [],
   "source": [
    "df_from_parquet[\"2030\"] > 55\n",
    "#df.filter((pl.col(\"2030\") <= 3) & (pl.col(\"2040\") <= 3))\n",
    "\n",
    "q1 = pl.col(\"Reporting_Element\").str.contains(\"Role\")\n",
    "q2 = pl.col(\"2030\") < 0\n",
    "\n",
    "\n",
    "\n"
   ]
  },
  {
   "cell_type": "code",
   "execution_count": null,
   "metadata": {},
   "outputs": [],
   "source": [
    "import matplotlib.pyplot as plt\n",
    "import numpy as np\n",
    "a = df.filter(q1 | q2)[\"2030\"]\n",
    "plt.plot(a)"
   ]
  },
  {
   "cell_type": "code",
   "execution_count": null,
   "metadata": {},
   "outputs": [],
   "source": [
    "import duckdb\n",
    "ddb = duckdb.read_parquet(r\"~/temp/python/table1.parquet\")\n"
   ]
  },
  {
   "cell_type": "code",
   "execution_count": null,
   "metadata": {},
   "outputs": [],
   "source": [
    "import polars as pl\n",
    "import plotly.express as px\n",
    "\n",
    "wide_df = pl.DataFrame(\n",
    "    {\n",
    "        \"nation\": [\"South Korea\", \"China\", \"Canada\"],\n",
    "        \"gold\": [24, 10, 9],\n",
    "        \"silver\": [13, 15, 12],\n",
    "        \"bronze\": [9, 12, 12],\n",
    "    }\n",
    ").to_pandas()\n",
    "\n",
    "fig = px.bar(wide_df, x=\"nation\", y=[\"gold\", \"silver\", \"bronze\"], title=\"Wide-Form Input\")\n",
    "fig.show()"
   ]
  }
 ],
 "metadata": {
  "kernelspec": {
   "display_name": "geop",
   "language": "python",
   "name": "python3"
  },
  "language_info": {
   "codemirror_mode": {
    "name": "ipython",
    "version": 3
   },
   "file_extension": ".py",
   "mimetype": "text/x-python",
   "name": "python",
   "nbconvert_exporter": "python",
   "pygments_lexer": "ipython3",
   "version": "3.11.5"
  }
 },
 "nbformat": 4,
 "nbformat_minor": 2
}
