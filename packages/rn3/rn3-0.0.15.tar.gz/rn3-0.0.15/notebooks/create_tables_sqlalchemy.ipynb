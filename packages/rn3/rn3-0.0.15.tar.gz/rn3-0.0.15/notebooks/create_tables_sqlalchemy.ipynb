{
 "cells": [
  {
   "cell_type": "code",
   "execution_count": null,
   "metadata": {},
   "outputs": [],
   "source": [
    "import os\n",
    "import sys\n",
    "module_path = os.path.abspath(os.path.join('..'))\n",
    "if module_path not in sys.path:\n",
    "    sys.path.append(module_path)\n",
    "    \n",
    "import rn3\n",
    "\n",
    "ds = rn3.DatasetModel()\n",
    "ds.from_url(\n",
    "    dataset_id=60425,\n",
    "    api_key=\"ApiKey zzzzzz-bbbb-cccc-a21b-xxxxxxxxxxxxx\",\n",
    "    base_url=r\"https://api.reportnet.europa.eu\",\n",
    ")\n",
    "\n",
    "sql_cmd = ds.sqlalchemy_generate_models(schema_name=\"annex_XXIV\")\n",
    "\n",
    "print(sql_cmd)"
   ]
  },
  {
   "cell_type": "code",
   "execution_count": null,
   "metadata": {},
   "outputs": [],
   "source": [
    "from sqlalchemy import create_engine\n",
    "\n",
    "servername = \"osprey\"\n",
    "dbname = \"EnergyCommunityNationalSystemPAMS\"\n",
    "engine = create_engine(\n",
    "    \"mssql+pyodbc://@\"\n",
    "    + servername\n",
    "    + \"/\"\n",
    "    + dbname\n",
    "    + \"?trusted_connection=yes&driver=ODBC Driver 17 for SQL Server\"\n",
    ")\n",
    "conn = engine.connect()"
   ]
  },
  {
   "cell_type": "code",
   "execution_count": null,
   "metadata": {},
   "outputs": [],
   "source": [
    "from sqlalchemy.dialects import mssql\n",
    "from sqlalchemy.schema import CreateTable\n",
    "\n",
    "print(\n",
    "    CreateTable(ReportNet3HistoricReleases.__table__).compile(dialect=mssql.dialect())\n",
    ")"
   ]
  },
  {
   "cell_type": "code",
   "execution_count": null,
   "metadata": {},
   "outputs": [],
   "source": [
    "from sqlalchemy import Table, Column, Integer, String, MetaData\n",
    "\n",
    "rn3_hist = ReportNet3HistoricReleases()\n",
    "rn3_hist.metadata.create_all(engine)"
   ]
  }
 ],
 "metadata": {
  "kernelspec": {
   "display_name": "geop",
   "language": "python",
   "name": "python3"
  },
  "language_info": {
   "codemirror_mode": {
    "name": "ipython",
    "version": 3
   },
   "file_extension": ".py",
   "mimetype": "text/x-python",
   "name": "python",
   "nbconvert_exporter": "python",
   "pygments_lexer": "ipython3",
   "version": "3.11.5"
  }
 },
 "nbformat": 4,
 "nbformat_minor": 2
}
